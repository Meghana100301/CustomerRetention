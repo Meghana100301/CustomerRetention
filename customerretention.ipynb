{
  "nbformat": 4,
  "nbformat_minor": 0,
  "metadata": {
    "colab": {
      "name": "customerretention.ipynb",
      "provenance": [],
      "collapsed_sections": [],
      "include_colab_link": true
    },
    "kernelspec": {
      "name": "python3",
      "display_name": "Python 3"
    }
  },
  "cells": [
    {
      "cell_type": "markdown",
      "metadata": {
        "id": "view-in-github",
        "colab_type": "text"
      },
      "source": [
        "<a href=\"https://colab.research.google.com/github/Meghana100301/CustomerRetention/blob/main/customerretention.ipynb\" target=\"_parent\"><img src=\"https://colab.research.google.com/assets/colab-badge.svg\" alt=\"Open In Colab\"/></a>"
      ]
    },
    {
      "cell_type": "markdown",
      "metadata": {
        "id": "oG_drrcb0sU8"
      },
      "source": [
        "##**Problem Statement**\n",
        "One of the topmost banks in Europe wants to understand their customer data in-detail and trying to\n",
        "extract the patterns causing for customer churn (i.e., bank is losing its existing customers). In order to\n",
        "solve this problem, they have retrieved the customer data from the database which contains the\n",
        "information of both churned and active customers. Develop a machine learning model that can predict\n",
        "whether the given customer would churn in the near future or not. Data: “BankCustomerChurn.csv”,\n",
        "variables are self-explanatory.\n",
        "\n",
        "\n"
      ]
    },
    {
      "cell_type": "markdown",
      "metadata": {
        "id": "Vx04ado61OAN"
      },
      "source": [
        "###Preprocessing of the Data\n",
        "\n"
      ]
    },
    {
      "cell_type": "code",
      "metadata": {
        "id": "10OnP0YxjNub"
      },
      "source": [
        "import pandas as pd\n",
        "import numpy as np\n",
        "data=pd.read_csv(\"BankCustomerChurn.csv\")"
      ],
      "execution_count": 2,
      "outputs": []
    },
    {
      "cell_type": "code",
      "metadata": {
        "id": "vUDtU2k3t0NE",
        "colab": {
          "base_uri": "https://localhost:8080/",
          "height": 222
        },
        "outputId": "cd02863b-d545-451d-d770-826cffcff30d"
      },
      "source": [
        "data.head(5)"
      ],
      "execution_count": 3,
      "outputs": [
        {
          "output_type": "execute_result",
          "data": {
            "text/html": [
              "<div>\n",
              "<style scoped>\n",
              "    .dataframe tbody tr th:only-of-type {\n",
              "        vertical-align: middle;\n",
              "    }\n",
              "\n",
              "    .dataframe tbody tr th {\n",
              "        vertical-align: top;\n",
              "    }\n",
              "\n",
              "    .dataframe thead th {\n",
              "        text-align: right;\n",
              "    }\n",
              "</style>\n",
              "<table border=\"1\" class=\"dataframe\">\n",
              "  <thead>\n",
              "    <tr style=\"text-align: right;\">\n",
              "      <th></th>\n",
              "      <th>RowNumber</th>\n",
              "      <th>CustomerId</th>\n",
              "      <th>Surname</th>\n",
              "      <th>CreditScore</th>\n",
              "      <th>Geography</th>\n",
              "      <th>Gender</th>\n",
              "      <th>Age</th>\n",
              "      <th>Tenure</th>\n",
              "      <th>Balance</th>\n",
              "      <th>NumOfProducts</th>\n",
              "      <th>HasCrCard</th>\n",
              "      <th>IsActiveMember</th>\n",
              "      <th>EstimatedSalary</th>\n",
              "      <th>Exited</th>\n",
              "    </tr>\n",
              "  </thead>\n",
              "  <tbody>\n",
              "    <tr>\n",
              "      <th>0</th>\n",
              "      <td>1</td>\n",
              "      <td>15634602</td>\n",
              "      <td>Hargrave</td>\n",
              "      <td>619</td>\n",
              "      <td>France</td>\n",
              "      <td>Female</td>\n",
              "      <td>42</td>\n",
              "      <td>2</td>\n",
              "      <td>0.00</td>\n",
              "      <td>1</td>\n",
              "      <td>1</td>\n",
              "      <td>1</td>\n",
              "      <td>101348.88</td>\n",
              "      <td>1</td>\n",
              "    </tr>\n",
              "    <tr>\n",
              "      <th>1</th>\n",
              "      <td>2</td>\n",
              "      <td>15647311</td>\n",
              "      <td>Hill</td>\n",
              "      <td>608</td>\n",
              "      <td>Spain</td>\n",
              "      <td>Female</td>\n",
              "      <td>41</td>\n",
              "      <td>1</td>\n",
              "      <td>83807.86</td>\n",
              "      <td>1</td>\n",
              "      <td>0</td>\n",
              "      <td>1</td>\n",
              "      <td>112542.58</td>\n",
              "      <td>0</td>\n",
              "    </tr>\n",
              "    <tr>\n",
              "      <th>2</th>\n",
              "      <td>3</td>\n",
              "      <td>15619304</td>\n",
              "      <td>Onio</td>\n",
              "      <td>502</td>\n",
              "      <td>France</td>\n",
              "      <td>Female</td>\n",
              "      <td>42</td>\n",
              "      <td>8</td>\n",
              "      <td>159660.80</td>\n",
              "      <td>3</td>\n",
              "      <td>1</td>\n",
              "      <td>0</td>\n",
              "      <td>113931.57</td>\n",
              "      <td>1</td>\n",
              "    </tr>\n",
              "    <tr>\n",
              "      <th>3</th>\n",
              "      <td>4</td>\n",
              "      <td>15701354</td>\n",
              "      <td>Boni</td>\n",
              "      <td>699</td>\n",
              "      <td>France</td>\n",
              "      <td>Female</td>\n",
              "      <td>39</td>\n",
              "      <td>1</td>\n",
              "      <td>0.00</td>\n",
              "      <td>2</td>\n",
              "      <td>0</td>\n",
              "      <td>0</td>\n",
              "      <td>93826.63</td>\n",
              "      <td>0</td>\n",
              "    </tr>\n",
              "    <tr>\n",
              "      <th>4</th>\n",
              "      <td>5</td>\n",
              "      <td>15737888</td>\n",
              "      <td>Mitchell</td>\n",
              "      <td>850</td>\n",
              "      <td>Spain</td>\n",
              "      <td>Female</td>\n",
              "      <td>43</td>\n",
              "      <td>2</td>\n",
              "      <td>125510.82</td>\n",
              "      <td>1</td>\n",
              "      <td>1</td>\n",
              "      <td>1</td>\n",
              "      <td>79084.10</td>\n",
              "      <td>0</td>\n",
              "    </tr>\n",
              "  </tbody>\n",
              "</table>\n",
              "</div>"
            ],
            "text/plain": [
              "   RowNumber  CustomerId   Surname  ...  IsActiveMember EstimatedSalary Exited\n",
              "0          1    15634602  Hargrave  ...               1       101348.88      1\n",
              "1          2    15647311      Hill  ...               1       112542.58      0\n",
              "2          3    15619304      Onio  ...               0       113931.57      1\n",
              "3          4    15701354      Boni  ...               0        93826.63      0\n",
              "4          5    15737888  Mitchell  ...               1        79084.10      0\n",
              "\n",
              "[5 rows x 14 columns]"
            ]
          },
          "metadata": {
            "tags": []
          },
          "execution_count": 3
        }
      ]
    },
    {
      "cell_type": "code",
      "metadata": {
        "id": "ByJPwmGQxT_H",
        "colab": {
          "base_uri": "https://localhost:8080/"
        },
        "outputId": "3946e262-8213-40aa-87a1-31e8cf028750"
      },
      "source": [
        "data.shape"
      ],
      "execution_count": 4,
      "outputs": [
        {
          "output_type": "execute_result",
          "data": {
            "text/plain": [
              "(10000, 14)"
            ]
          },
          "metadata": {
            "tags": []
          },
          "execution_count": 4
        }
      ]
    },
    {
      "cell_type": "code",
      "metadata": {
        "id": "ZyFHaqzS-MAI",
        "colab": {
          "base_uri": "https://localhost:8080/"
        },
        "outputId": "ab5daa18-2b98-45ff-ce80-79bf781d2161"
      },
      "source": [
        "data.columns"
      ],
      "execution_count": 5,
      "outputs": [
        {
          "output_type": "execute_result",
          "data": {
            "text/plain": [
              "Index(['RowNumber', 'CustomerId', 'Surname', 'CreditScore', 'Geography',\n",
              "       'Gender', 'Age', 'Tenure', 'Balance', 'NumOfProducts', 'HasCrCard',\n",
              "       'IsActiveMember', 'EstimatedSalary', 'Exited'],\n",
              "      dtype='object')"
            ]
          },
          "metadata": {
            "tags": []
          },
          "execution_count": 5
        }
      ]
    },
    {
      "cell_type": "code",
      "metadata": {
        "id": "SLKVnGQouwz_",
        "colab": {
          "base_uri": "https://localhost:8080/"
        },
        "outputId": "445d7701-df0d-4696-ec59-9904f1403b0a"
      },
      "source": [
        "data.dtypes"
      ],
      "execution_count": 6,
      "outputs": [
        {
          "output_type": "execute_result",
          "data": {
            "text/plain": [
              "RowNumber            int64\n",
              "CustomerId           int64\n",
              "Surname             object\n",
              "CreditScore          int64\n",
              "Geography           object\n",
              "Gender              object\n",
              "Age                  int64\n",
              "Tenure               int64\n",
              "Balance            float64\n",
              "NumOfProducts        int64\n",
              "HasCrCard            int64\n",
              "IsActiveMember       int64\n",
              "EstimatedSalary    float64\n",
              "Exited               int64\n",
              "dtype: object"
            ]
          },
          "metadata": {
            "tags": []
          },
          "execution_count": 6
        }
      ]
    },
    {
      "cell_type": "code",
      "metadata": {
        "id": "5Up1riM4vKXx",
        "colab": {
          "base_uri": "https://localhost:8080/"
        },
        "outputId": "2d082540-e920-4044-a062-92603f3e25aa"
      },
      "source": [
        "ins=[]\n",
        "for x in data.columns:\n",
        "    if(data[x].nunique()<10):\n",
        "         ins.append(x)\n",
        "         print(x,data[x].nunique())\n",
        "         print(data[x].unique())"
      ],
      "execution_count": 7,
      "outputs": [
        {
          "output_type": "stream",
          "text": [
            "Geography 3\n",
            "['France' 'Spain' 'Germany']\n",
            "Gender 2\n",
            "['Female' 'Male']\n",
            "NumOfProducts 4\n",
            "[1 3 2 4]\n",
            "HasCrCard 2\n",
            "[1 0]\n",
            "IsActiveMember 2\n",
            "[1 0]\n",
            "Exited 2\n",
            "[1 0]\n"
          ],
          "name": "stdout"
        }
      ]
    },
    {
      "cell_type": "code",
      "metadata": {
        "id": "5R2oqjWiwMc8",
        "colab": {
          "base_uri": "https://localhost:8080/"
        },
        "outputId": "82f578aa-9edf-4f85-a6f2-120473542118"
      },
      "source": [
        "ins"
      ],
      "execution_count": 8,
      "outputs": [
        {
          "output_type": "execute_result",
          "data": {
            "text/plain": [
              "['Geography',\n",
              " 'Gender',\n",
              " 'NumOfProducts',\n",
              " 'HasCrCard',\n",
              " 'IsActiveMember',\n",
              " 'Exited']"
            ]
          },
          "metadata": {
            "tags": []
          },
          "execution_count": 8
        }
      ]
    },
    {
      "cell_type": "code",
      "metadata": {
        "id": "MjV8p1ovwOg7"
      },
      "source": [
        "for col in ['Geography', 'Gender','NumOfProducts','HasCrCard','IsActiveMember','Exited','CustomerId']:\n",
        "     data[col]=data[col].astype('category')#converting into categorical variable"
      ],
      "execution_count": 9,
      "outputs": []
    },
    {
      "cell_type": "code",
      "metadata": {
        "id": "q1kp6K12wmcM",
        "colab": {
          "base_uri": "https://localhost:8080/"
        },
        "outputId": "670e62c4-c5ad-47a2-d0fc-2b2fbf0d4da3"
      },
      "source": [
        "data.dtypes"
      ],
      "execution_count": 10,
      "outputs": [
        {
          "output_type": "execute_result",
          "data": {
            "text/plain": [
              "RowNumber             int64\n",
              "CustomerId         category\n",
              "Surname              object\n",
              "CreditScore           int64\n",
              "Geography          category\n",
              "Gender             category\n",
              "Age                   int64\n",
              "Tenure                int64\n",
              "Balance             float64\n",
              "NumOfProducts      category\n",
              "HasCrCard          category\n",
              "IsActiveMember     category\n",
              "EstimatedSalary     float64\n",
              "Exited             category\n",
              "dtype: object"
            ]
          },
          "metadata": {
            "tags": []
          },
          "execution_count": 10
        }
      ]
    },
    {
      "cell_type": "code",
      "metadata": {
        "id": "FwxErdhJwxxS",
        "colab": {
          "base_uri": "https://localhost:8080/",
          "height": 407
        },
        "outputId": "775b83ee-4176-4698-e64d-a027417b5a2f"
      },
      "source": [
        "data.describe(include='all')"
      ],
      "execution_count": 11,
      "outputs": [
        {
          "output_type": "execute_result",
          "data": {
            "text/html": [
              "<div>\n",
              "<style scoped>\n",
              "    .dataframe tbody tr th:only-of-type {\n",
              "        vertical-align: middle;\n",
              "    }\n",
              "\n",
              "    .dataframe tbody tr th {\n",
              "        vertical-align: top;\n",
              "    }\n",
              "\n",
              "    .dataframe thead th {\n",
              "        text-align: right;\n",
              "    }\n",
              "</style>\n",
              "<table border=\"1\" class=\"dataframe\">\n",
              "  <thead>\n",
              "    <tr style=\"text-align: right;\">\n",
              "      <th></th>\n",
              "      <th>RowNumber</th>\n",
              "      <th>CustomerId</th>\n",
              "      <th>Surname</th>\n",
              "      <th>CreditScore</th>\n",
              "      <th>Geography</th>\n",
              "      <th>Gender</th>\n",
              "      <th>Age</th>\n",
              "      <th>Tenure</th>\n",
              "      <th>Balance</th>\n",
              "      <th>NumOfProducts</th>\n",
              "      <th>HasCrCard</th>\n",
              "      <th>IsActiveMember</th>\n",
              "      <th>EstimatedSalary</th>\n",
              "      <th>Exited</th>\n",
              "    </tr>\n",
              "  </thead>\n",
              "  <tbody>\n",
              "    <tr>\n",
              "      <th>count</th>\n",
              "      <td>10000.00000</td>\n",
              "      <td>10000.0</td>\n",
              "      <td>10000</td>\n",
              "      <td>10000.000000</td>\n",
              "      <td>10000</td>\n",
              "      <td>10000</td>\n",
              "      <td>10000.000000</td>\n",
              "      <td>10000.000000</td>\n",
              "      <td>10000.000000</td>\n",
              "      <td>10000.0</td>\n",
              "      <td>10000.0</td>\n",
              "      <td>10000.0</td>\n",
              "      <td>10000.000000</td>\n",
              "      <td>10000.0</td>\n",
              "    </tr>\n",
              "    <tr>\n",
              "      <th>unique</th>\n",
              "      <td>NaN</td>\n",
              "      <td>10000.0</td>\n",
              "      <td>2932</td>\n",
              "      <td>NaN</td>\n",
              "      <td>3</td>\n",
              "      <td>2</td>\n",
              "      <td>NaN</td>\n",
              "      <td>NaN</td>\n",
              "      <td>NaN</td>\n",
              "      <td>4.0</td>\n",
              "      <td>2.0</td>\n",
              "      <td>2.0</td>\n",
              "      <td>NaN</td>\n",
              "      <td>2.0</td>\n",
              "    </tr>\n",
              "    <tr>\n",
              "      <th>top</th>\n",
              "      <td>NaN</td>\n",
              "      <td>15815690.0</td>\n",
              "      <td>Smith</td>\n",
              "      <td>NaN</td>\n",
              "      <td>France</td>\n",
              "      <td>Male</td>\n",
              "      <td>NaN</td>\n",
              "      <td>NaN</td>\n",
              "      <td>NaN</td>\n",
              "      <td>1.0</td>\n",
              "      <td>1.0</td>\n",
              "      <td>1.0</td>\n",
              "      <td>NaN</td>\n",
              "      <td>0.0</td>\n",
              "    </tr>\n",
              "    <tr>\n",
              "      <th>freq</th>\n",
              "      <td>NaN</td>\n",
              "      <td>1.0</td>\n",
              "      <td>32</td>\n",
              "      <td>NaN</td>\n",
              "      <td>5014</td>\n",
              "      <td>5457</td>\n",
              "      <td>NaN</td>\n",
              "      <td>NaN</td>\n",
              "      <td>NaN</td>\n",
              "      <td>5084.0</td>\n",
              "      <td>7055.0</td>\n",
              "      <td>5151.0</td>\n",
              "      <td>NaN</td>\n",
              "      <td>7963.0</td>\n",
              "    </tr>\n",
              "    <tr>\n",
              "      <th>mean</th>\n",
              "      <td>5000.50000</td>\n",
              "      <td>NaN</td>\n",
              "      <td>NaN</td>\n",
              "      <td>650.528800</td>\n",
              "      <td>NaN</td>\n",
              "      <td>NaN</td>\n",
              "      <td>38.921800</td>\n",
              "      <td>5.012800</td>\n",
              "      <td>76485.889288</td>\n",
              "      <td>NaN</td>\n",
              "      <td>NaN</td>\n",
              "      <td>NaN</td>\n",
              "      <td>100090.239881</td>\n",
              "      <td>NaN</td>\n",
              "    </tr>\n",
              "    <tr>\n",
              "      <th>std</th>\n",
              "      <td>2886.89568</td>\n",
              "      <td>NaN</td>\n",
              "      <td>NaN</td>\n",
              "      <td>96.653299</td>\n",
              "      <td>NaN</td>\n",
              "      <td>NaN</td>\n",
              "      <td>10.487806</td>\n",
              "      <td>2.892174</td>\n",
              "      <td>62397.405202</td>\n",
              "      <td>NaN</td>\n",
              "      <td>NaN</td>\n",
              "      <td>NaN</td>\n",
              "      <td>57510.492818</td>\n",
              "      <td>NaN</td>\n",
              "    </tr>\n",
              "    <tr>\n",
              "      <th>min</th>\n",
              "      <td>1.00000</td>\n",
              "      <td>NaN</td>\n",
              "      <td>NaN</td>\n",
              "      <td>350.000000</td>\n",
              "      <td>NaN</td>\n",
              "      <td>NaN</td>\n",
              "      <td>18.000000</td>\n",
              "      <td>0.000000</td>\n",
              "      <td>0.000000</td>\n",
              "      <td>NaN</td>\n",
              "      <td>NaN</td>\n",
              "      <td>NaN</td>\n",
              "      <td>11.580000</td>\n",
              "      <td>NaN</td>\n",
              "    </tr>\n",
              "    <tr>\n",
              "      <th>25%</th>\n",
              "      <td>2500.75000</td>\n",
              "      <td>NaN</td>\n",
              "      <td>NaN</td>\n",
              "      <td>584.000000</td>\n",
              "      <td>NaN</td>\n",
              "      <td>NaN</td>\n",
              "      <td>32.000000</td>\n",
              "      <td>3.000000</td>\n",
              "      <td>0.000000</td>\n",
              "      <td>NaN</td>\n",
              "      <td>NaN</td>\n",
              "      <td>NaN</td>\n",
              "      <td>51002.110000</td>\n",
              "      <td>NaN</td>\n",
              "    </tr>\n",
              "    <tr>\n",
              "      <th>50%</th>\n",
              "      <td>5000.50000</td>\n",
              "      <td>NaN</td>\n",
              "      <td>NaN</td>\n",
              "      <td>652.000000</td>\n",
              "      <td>NaN</td>\n",
              "      <td>NaN</td>\n",
              "      <td>37.000000</td>\n",
              "      <td>5.000000</td>\n",
              "      <td>97198.540000</td>\n",
              "      <td>NaN</td>\n",
              "      <td>NaN</td>\n",
              "      <td>NaN</td>\n",
              "      <td>100193.915000</td>\n",
              "      <td>NaN</td>\n",
              "    </tr>\n",
              "    <tr>\n",
              "      <th>75%</th>\n",
              "      <td>7500.25000</td>\n",
              "      <td>NaN</td>\n",
              "      <td>NaN</td>\n",
              "      <td>718.000000</td>\n",
              "      <td>NaN</td>\n",
              "      <td>NaN</td>\n",
              "      <td>44.000000</td>\n",
              "      <td>7.000000</td>\n",
              "      <td>127644.240000</td>\n",
              "      <td>NaN</td>\n",
              "      <td>NaN</td>\n",
              "      <td>NaN</td>\n",
              "      <td>149388.247500</td>\n",
              "      <td>NaN</td>\n",
              "    </tr>\n",
              "    <tr>\n",
              "      <th>max</th>\n",
              "      <td>10000.00000</td>\n",
              "      <td>NaN</td>\n",
              "      <td>NaN</td>\n",
              "      <td>850.000000</td>\n",
              "      <td>NaN</td>\n",
              "      <td>NaN</td>\n",
              "      <td>92.000000</td>\n",
              "      <td>10.000000</td>\n",
              "      <td>250898.090000</td>\n",
              "      <td>NaN</td>\n",
              "      <td>NaN</td>\n",
              "      <td>NaN</td>\n",
              "      <td>199992.480000</td>\n",
              "      <td>NaN</td>\n",
              "    </tr>\n",
              "  </tbody>\n",
              "</table>\n",
              "</div>"
            ],
            "text/plain": [
              "          RowNumber  CustomerId  ... EstimatedSalary   Exited\n",
              "count   10000.00000     10000.0  ...    10000.000000  10000.0\n",
              "unique          NaN     10000.0  ...             NaN      2.0\n",
              "top             NaN  15815690.0  ...             NaN      0.0\n",
              "freq            NaN         1.0  ...             NaN   7963.0\n",
              "mean     5000.50000         NaN  ...   100090.239881      NaN\n",
              "std      2886.89568         NaN  ...    57510.492818      NaN\n",
              "min         1.00000         NaN  ...       11.580000      NaN\n",
              "25%      2500.75000         NaN  ...    51002.110000      NaN\n",
              "50%      5000.50000         NaN  ...   100193.915000      NaN\n",
              "75%      7500.25000         NaN  ...   149388.247500      NaN\n",
              "max     10000.00000         NaN  ...   199992.480000      NaN\n",
              "\n",
              "[11 rows x 14 columns]"
            ]
          },
          "metadata": {
            "tags": []
          },
          "execution_count": 11
        }
      ]
    },
    {
      "cell_type": "markdown",
      "metadata": {
        "id": "yLZ_WUyv3cWG"
      },
      "source": [
        "Removing the duplicates"
      ]
    },
    {
      "cell_type": "code",
      "metadata": {
        "id": "MfTaRl7FxFVa"
      },
      "source": [
        "data=data.drop_duplicates(keep='first')"
      ],
      "execution_count": 12,
      "outputs": []
    },
    {
      "cell_type": "code",
      "metadata": {
        "id": "7Xr4_CYtxYPo",
        "colab": {
          "base_uri": "https://localhost:8080/"
        },
        "outputId": "4b40db9e-ee60-4d0a-ddcc-beea79df3e00"
      },
      "source": [
        "data.shape"
      ],
      "execution_count": 13,
      "outputs": [
        {
          "output_type": "execute_result",
          "data": {
            "text/plain": [
              "(10000, 14)"
            ]
          },
          "metadata": {
            "tags": []
          },
          "execution_count": 13
        }
      ]
    },
    {
      "cell_type": "code",
      "metadata": {
        "id": "wU9sYxAZx5aW",
        "colab": {
          "base_uri": "https://localhost:8080/"
        },
        "outputId": "a195e318-4bb8-4e65-8d40-0576b8c2a5ce"
      },
      "source": [
        "data.isna().sum()#checking for null values"
      ],
      "execution_count": 14,
      "outputs": [
        {
          "output_type": "execute_result",
          "data": {
            "text/plain": [
              "RowNumber          0\n",
              "CustomerId         0\n",
              "Surname            0\n",
              "CreditScore        0\n",
              "Geography          0\n",
              "Gender             0\n",
              "Age                0\n",
              "Tenure             0\n",
              "Balance            0\n",
              "NumOfProducts      0\n",
              "HasCrCard          0\n",
              "IsActiveMember     0\n",
              "EstimatedSalary    0\n",
              "Exited             0\n",
              "dtype: int64"
            ]
          },
          "metadata": {
            "tags": []
          },
          "execution_count": 14
        }
      ]
    },
    {
      "cell_type": "code",
      "metadata": {
        "id": "TbFPEW7MloqY"
      },
      "source": [
        "x=data.copy()"
      ],
      "execution_count": 15,
      "outputs": []
    },
    {
      "cell_type": "code",
      "metadata": {
        "id": "afMYByCNluE6",
        "colab": {
          "base_uri": "https://localhost:8080/",
          "height": 415
        },
        "outputId": "ab94fd6e-a44a-4309-ecf5-84ab6263a018"
      },
      "source": [
        "x=x.drop(['Exited','RowNumber','CustomerId','Surname'],axis=1)#independent variables into x\n",
        "x"
      ],
      "execution_count": 16,
      "outputs": [
        {
          "output_type": "execute_result",
          "data": {
            "text/html": [
              "<div>\n",
              "<style scoped>\n",
              "    .dataframe tbody tr th:only-of-type {\n",
              "        vertical-align: middle;\n",
              "    }\n",
              "\n",
              "    .dataframe tbody tr th {\n",
              "        vertical-align: top;\n",
              "    }\n",
              "\n",
              "    .dataframe thead th {\n",
              "        text-align: right;\n",
              "    }\n",
              "</style>\n",
              "<table border=\"1\" class=\"dataframe\">\n",
              "  <thead>\n",
              "    <tr style=\"text-align: right;\">\n",
              "      <th></th>\n",
              "      <th>CreditScore</th>\n",
              "      <th>Geography</th>\n",
              "      <th>Gender</th>\n",
              "      <th>Age</th>\n",
              "      <th>Tenure</th>\n",
              "      <th>Balance</th>\n",
              "      <th>NumOfProducts</th>\n",
              "      <th>HasCrCard</th>\n",
              "      <th>IsActiveMember</th>\n",
              "      <th>EstimatedSalary</th>\n",
              "    </tr>\n",
              "  </thead>\n",
              "  <tbody>\n",
              "    <tr>\n",
              "      <th>0</th>\n",
              "      <td>619</td>\n",
              "      <td>France</td>\n",
              "      <td>Female</td>\n",
              "      <td>42</td>\n",
              "      <td>2</td>\n",
              "      <td>0.00</td>\n",
              "      <td>1</td>\n",
              "      <td>1</td>\n",
              "      <td>1</td>\n",
              "      <td>101348.88</td>\n",
              "    </tr>\n",
              "    <tr>\n",
              "      <th>1</th>\n",
              "      <td>608</td>\n",
              "      <td>Spain</td>\n",
              "      <td>Female</td>\n",
              "      <td>41</td>\n",
              "      <td>1</td>\n",
              "      <td>83807.86</td>\n",
              "      <td>1</td>\n",
              "      <td>0</td>\n",
              "      <td>1</td>\n",
              "      <td>112542.58</td>\n",
              "    </tr>\n",
              "    <tr>\n",
              "      <th>2</th>\n",
              "      <td>502</td>\n",
              "      <td>France</td>\n",
              "      <td>Female</td>\n",
              "      <td>42</td>\n",
              "      <td>8</td>\n",
              "      <td>159660.80</td>\n",
              "      <td>3</td>\n",
              "      <td>1</td>\n",
              "      <td>0</td>\n",
              "      <td>113931.57</td>\n",
              "    </tr>\n",
              "    <tr>\n",
              "      <th>3</th>\n",
              "      <td>699</td>\n",
              "      <td>France</td>\n",
              "      <td>Female</td>\n",
              "      <td>39</td>\n",
              "      <td>1</td>\n",
              "      <td>0.00</td>\n",
              "      <td>2</td>\n",
              "      <td>0</td>\n",
              "      <td>0</td>\n",
              "      <td>93826.63</td>\n",
              "    </tr>\n",
              "    <tr>\n",
              "      <th>4</th>\n",
              "      <td>850</td>\n",
              "      <td>Spain</td>\n",
              "      <td>Female</td>\n",
              "      <td>43</td>\n",
              "      <td>2</td>\n",
              "      <td>125510.82</td>\n",
              "      <td>1</td>\n",
              "      <td>1</td>\n",
              "      <td>1</td>\n",
              "      <td>79084.10</td>\n",
              "    </tr>\n",
              "    <tr>\n",
              "      <th>...</th>\n",
              "      <td>...</td>\n",
              "      <td>...</td>\n",
              "      <td>...</td>\n",
              "      <td>...</td>\n",
              "      <td>...</td>\n",
              "      <td>...</td>\n",
              "      <td>...</td>\n",
              "      <td>...</td>\n",
              "      <td>...</td>\n",
              "      <td>...</td>\n",
              "    </tr>\n",
              "    <tr>\n",
              "      <th>9995</th>\n",
              "      <td>771</td>\n",
              "      <td>France</td>\n",
              "      <td>Male</td>\n",
              "      <td>39</td>\n",
              "      <td>5</td>\n",
              "      <td>0.00</td>\n",
              "      <td>2</td>\n",
              "      <td>1</td>\n",
              "      <td>0</td>\n",
              "      <td>96270.64</td>\n",
              "    </tr>\n",
              "    <tr>\n",
              "      <th>9996</th>\n",
              "      <td>516</td>\n",
              "      <td>France</td>\n",
              "      <td>Male</td>\n",
              "      <td>35</td>\n",
              "      <td>10</td>\n",
              "      <td>57369.61</td>\n",
              "      <td>1</td>\n",
              "      <td>1</td>\n",
              "      <td>1</td>\n",
              "      <td>101699.77</td>\n",
              "    </tr>\n",
              "    <tr>\n",
              "      <th>9997</th>\n",
              "      <td>709</td>\n",
              "      <td>France</td>\n",
              "      <td>Female</td>\n",
              "      <td>36</td>\n",
              "      <td>7</td>\n",
              "      <td>0.00</td>\n",
              "      <td>1</td>\n",
              "      <td>0</td>\n",
              "      <td>1</td>\n",
              "      <td>42085.58</td>\n",
              "    </tr>\n",
              "    <tr>\n",
              "      <th>9998</th>\n",
              "      <td>772</td>\n",
              "      <td>Germany</td>\n",
              "      <td>Male</td>\n",
              "      <td>42</td>\n",
              "      <td>3</td>\n",
              "      <td>75075.31</td>\n",
              "      <td>2</td>\n",
              "      <td>1</td>\n",
              "      <td>0</td>\n",
              "      <td>92888.52</td>\n",
              "    </tr>\n",
              "    <tr>\n",
              "      <th>9999</th>\n",
              "      <td>792</td>\n",
              "      <td>France</td>\n",
              "      <td>Female</td>\n",
              "      <td>28</td>\n",
              "      <td>4</td>\n",
              "      <td>130142.79</td>\n",
              "      <td>1</td>\n",
              "      <td>1</td>\n",
              "      <td>0</td>\n",
              "      <td>38190.78</td>\n",
              "    </tr>\n",
              "  </tbody>\n",
              "</table>\n",
              "<p>10000 rows × 10 columns</p>\n",
              "</div>"
            ],
            "text/plain": [
              "      CreditScore Geography  Gender  ...  HasCrCard  IsActiveMember  EstimatedSalary\n",
              "0             619    France  Female  ...          1               1        101348.88\n",
              "1             608     Spain  Female  ...          0               1        112542.58\n",
              "2             502    France  Female  ...          1               0        113931.57\n",
              "3             699    France  Female  ...          0               0         93826.63\n",
              "4             850     Spain  Female  ...          1               1         79084.10\n",
              "...           ...       ...     ...  ...        ...             ...              ...\n",
              "9995          771    France    Male  ...          1               0         96270.64\n",
              "9996          516    France    Male  ...          1               1        101699.77\n",
              "9997          709    France  Female  ...          0               1         42085.58\n",
              "9998          772   Germany    Male  ...          1               0         92888.52\n",
              "9999          792    France  Female  ...          1               0         38190.78\n",
              "\n",
              "[10000 rows x 10 columns]"
            ]
          },
          "metadata": {
            "tags": []
          },
          "execution_count": 16
        }
      ]
    },
    {
      "cell_type": "code",
      "metadata": {
        "id": "LGm_VTiomEID",
        "colab": {
          "base_uri": "https://localhost:8080/"
        },
        "outputId": "06636a3e-c013-4df7-cec7-2b681fe8ec0c"
      },
      "source": [
        "x.shape"
      ],
      "execution_count": 17,
      "outputs": [
        {
          "output_type": "execute_result",
          "data": {
            "text/plain": [
              "(10000, 10)"
            ]
          },
          "metadata": {
            "tags": []
          },
          "execution_count": 17
        }
      ]
    },
    {
      "cell_type": "code",
      "metadata": {
        "id": "QHFwhMmV_KDN",
        "colab": {
          "base_uri": "https://localhost:8080/",
          "height": 415
        },
        "outputId": "e09369e7-db34-4363-894e-659ba8e11bfd"
      },
      "source": [
        "y=data[['Exited']]#target variable in y\n",
        "y"
      ],
      "execution_count": 18,
      "outputs": [
        {
          "output_type": "execute_result",
          "data": {
            "text/html": [
              "<div>\n",
              "<style scoped>\n",
              "    .dataframe tbody tr th:only-of-type {\n",
              "        vertical-align: middle;\n",
              "    }\n",
              "\n",
              "    .dataframe tbody tr th {\n",
              "        vertical-align: top;\n",
              "    }\n",
              "\n",
              "    .dataframe thead th {\n",
              "        text-align: right;\n",
              "    }\n",
              "</style>\n",
              "<table border=\"1\" class=\"dataframe\">\n",
              "  <thead>\n",
              "    <tr style=\"text-align: right;\">\n",
              "      <th></th>\n",
              "      <th>Exited</th>\n",
              "    </tr>\n",
              "  </thead>\n",
              "  <tbody>\n",
              "    <tr>\n",
              "      <th>0</th>\n",
              "      <td>1</td>\n",
              "    </tr>\n",
              "    <tr>\n",
              "      <th>1</th>\n",
              "      <td>0</td>\n",
              "    </tr>\n",
              "    <tr>\n",
              "      <th>2</th>\n",
              "      <td>1</td>\n",
              "    </tr>\n",
              "    <tr>\n",
              "      <th>3</th>\n",
              "      <td>0</td>\n",
              "    </tr>\n",
              "    <tr>\n",
              "      <th>4</th>\n",
              "      <td>0</td>\n",
              "    </tr>\n",
              "    <tr>\n",
              "      <th>...</th>\n",
              "      <td>...</td>\n",
              "    </tr>\n",
              "    <tr>\n",
              "      <th>9995</th>\n",
              "      <td>0</td>\n",
              "    </tr>\n",
              "    <tr>\n",
              "      <th>9996</th>\n",
              "      <td>0</td>\n",
              "    </tr>\n",
              "    <tr>\n",
              "      <th>9997</th>\n",
              "      <td>1</td>\n",
              "    </tr>\n",
              "    <tr>\n",
              "      <th>9998</th>\n",
              "      <td>1</td>\n",
              "    </tr>\n",
              "    <tr>\n",
              "      <th>9999</th>\n",
              "      <td>0</td>\n",
              "    </tr>\n",
              "  </tbody>\n",
              "</table>\n",
              "<p>10000 rows × 1 columns</p>\n",
              "</div>"
            ],
            "text/plain": [
              "     Exited\n",
              "0         1\n",
              "1         0\n",
              "2         1\n",
              "3         0\n",
              "4         0\n",
              "...     ...\n",
              "9995      0\n",
              "9996      0\n",
              "9997      1\n",
              "9998      1\n",
              "9999      0\n",
              "\n",
              "[10000 rows x 1 columns]"
            ]
          },
          "metadata": {
            "tags": []
          },
          "execution_count": 18
        }
      ]
    },
    {
      "cell_type": "markdown",
      "metadata": {
        "id": "qBWnJezX2S_k"
      },
      "source": [
        "Dummification of the Attributes"
      ]
    },
    {
      "cell_type": "code",
      "metadata": {
        "id": "mnereLK50P05"
      },
      "source": [
        "cs=['Geography', 'Gender','NumOfProducts','HasCrCard','IsActiveMember']\n",
        "x=pd.get_dummies(x,columns=cs)"
      ],
      "execution_count": 19,
      "outputs": []
    },
    {
      "cell_type": "code",
      "metadata": {
        "id": "wY1jva8T8CQZ",
        "colab": {
          "base_uri": "https://localhost:8080/",
          "height": 435
        },
        "outputId": "1609f3c2-2c8f-4e24-8767-b87edd2f6310"
      },
      "source": [
        "x"
      ],
      "execution_count": 20,
      "outputs": [
        {
          "output_type": "execute_result",
          "data": {
            "text/html": [
              "<div>\n",
              "<style scoped>\n",
              "    .dataframe tbody tr th:only-of-type {\n",
              "        vertical-align: middle;\n",
              "    }\n",
              "\n",
              "    .dataframe tbody tr th {\n",
              "        vertical-align: top;\n",
              "    }\n",
              "\n",
              "    .dataframe thead th {\n",
              "        text-align: right;\n",
              "    }\n",
              "</style>\n",
              "<table border=\"1\" class=\"dataframe\">\n",
              "  <thead>\n",
              "    <tr style=\"text-align: right;\">\n",
              "      <th></th>\n",
              "      <th>CreditScore</th>\n",
              "      <th>Age</th>\n",
              "      <th>Tenure</th>\n",
              "      <th>Balance</th>\n",
              "      <th>EstimatedSalary</th>\n",
              "      <th>Geography_France</th>\n",
              "      <th>Geography_Germany</th>\n",
              "      <th>Geography_Spain</th>\n",
              "      <th>Gender_Female</th>\n",
              "      <th>Gender_Male</th>\n",
              "      <th>NumOfProducts_1</th>\n",
              "      <th>NumOfProducts_2</th>\n",
              "      <th>NumOfProducts_3</th>\n",
              "      <th>NumOfProducts_4</th>\n",
              "      <th>HasCrCard_0</th>\n",
              "      <th>HasCrCard_1</th>\n",
              "      <th>IsActiveMember_0</th>\n",
              "      <th>IsActiveMember_1</th>\n",
              "    </tr>\n",
              "  </thead>\n",
              "  <tbody>\n",
              "    <tr>\n",
              "      <th>0</th>\n",
              "      <td>619</td>\n",
              "      <td>42</td>\n",
              "      <td>2</td>\n",
              "      <td>0.00</td>\n",
              "      <td>101348.88</td>\n",
              "      <td>1</td>\n",
              "      <td>0</td>\n",
              "      <td>0</td>\n",
              "      <td>1</td>\n",
              "      <td>0</td>\n",
              "      <td>1</td>\n",
              "      <td>0</td>\n",
              "      <td>0</td>\n",
              "      <td>0</td>\n",
              "      <td>0</td>\n",
              "      <td>1</td>\n",
              "      <td>0</td>\n",
              "      <td>1</td>\n",
              "    </tr>\n",
              "    <tr>\n",
              "      <th>1</th>\n",
              "      <td>608</td>\n",
              "      <td>41</td>\n",
              "      <td>1</td>\n",
              "      <td>83807.86</td>\n",
              "      <td>112542.58</td>\n",
              "      <td>0</td>\n",
              "      <td>0</td>\n",
              "      <td>1</td>\n",
              "      <td>1</td>\n",
              "      <td>0</td>\n",
              "      <td>1</td>\n",
              "      <td>0</td>\n",
              "      <td>0</td>\n",
              "      <td>0</td>\n",
              "      <td>1</td>\n",
              "      <td>0</td>\n",
              "      <td>0</td>\n",
              "      <td>1</td>\n",
              "    </tr>\n",
              "    <tr>\n",
              "      <th>2</th>\n",
              "      <td>502</td>\n",
              "      <td>42</td>\n",
              "      <td>8</td>\n",
              "      <td>159660.80</td>\n",
              "      <td>113931.57</td>\n",
              "      <td>1</td>\n",
              "      <td>0</td>\n",
              "      <td>0</td>\n",
              "      <td>1</td>\n",
              "      <td>0</td>\n",
              "      <td>0</td>\n",
              "      <td>0</td>\n",
              "      <td>1</td>\n",
              "      <td>0</td>\n",
              "      <td>0</td>\n",
              "      <td>1</td>\n",
              "      <td>1</td>\n",
              "      <td>0</td>\n",
              "    </tr>\n",
              "    <tr>\n",
              "      <th>3</th>\n",
              "      <td>699</td>\n",
              "      <td>39</td>\n",
              "      <td>1</td>\n",
              "      <td>0.00</td>\n",
              "      <td>93826.63</td>\n",
              "      <td>1</td>\n",
              "      <td>0</td>\n",
              "      <td>0</td>\n",
              "      <td>1</td>\n",
              "      <td>0</td>\n",
              "      <td>0</td>\n",
              "      <td>1</td>\n",
              "      <td>0</td>\n",
              "      <td>0</td>\n",
              "      <td>1</td>\n",
              "      <td>0</td>\n",
              "      <td>1</td>\n",
              "      <td>0</td>\n",
              "    </tr>\n",
              "    <tr>\n",
              "      <th>4</th>\n",
              "      <td>850</td>\n",
              "      <td>43</td>\n",
              "      <td>2</td>\n",
              "      <td>125510.82</td>\n",
              "      <td>79084.10</td>\n",
              "      <td>0</td>\n",
              "      <td>0</td>\n",
              "      <td>1</td>\n",
              "      <td>1</td>\n",
              "      <td>0</td>\n",
              "      <td>1</td>\n",
              "      <td>0</td>\n",
              "      <td>0</td>\n",
              "      <td>0</td>\n",
              "      <td>0</td>\n",
              "      <td>1</td>\n",
              "      <td>0</td>\n",
              "      <td>1</td>\n",
              "    </tr>\n",
              "    <tr>\n",
              "      <th>...</th>\n",
              "      <td>...</td>\n",
              "      <td>...</td>\n",
              "      <td>...</td>\n",
              "      <td>...</td>\n",
              "      <td>...</td>\n",
              "      <td>...</td>\n",
              "      <td>...</td>\n",
              "      <td>...</td>\n",
              "      <td>...</td>\n",
              "      <td>...</td>\n",
              "      <td>...</td>\n",
              "      <td>...</td>\n",
              "      <td>...</td>\n",
              "      <td>...</td>\n",
              "      <td>...</td>\n",
              "      <td>...</td>\n",
              "      <td>...</td>\n",
              "      <td>...</td>\n",
              "    </tr>\n",
              "    <tr>\n",
              "      <th>9995</th>\n",
              "      <td>771</td>\n",
              "      <td>39</td>\n",
              "      <td>5</td>\n",
              "      <td>0.00</td>\n",
              "      <td>96270.64</td>\n",
              "      <td>1</td>\n",
              "      <td>0</td>\n",
              "      <td>0</td>\n",
              "      <td>0</td>\n",
              "      <td>1</td>\n",
              "      <td>0</td>\n",
              "      <td>1</td>\n",
              "      <td>0</td>\n",
              "      <td>0</td>\n",
              "      <td>0</td>\n",
              "      <td>1</td>\n",
              "      <td>1</td>\n",
              "      <td>0</td>\n",
              "    </tr>\n",
              "    <tr>\n",
              "      <th>9996</th>\n",
              "      <td>516</td>\n",
              "      <td>35</td>\n",
              "      <td>10</td>\n",
              "      <td>57369.61</td>\n",
              "      <td>101699.77</td>\n",
              "      <td>1</td>\n",
              "      <td>0</td>\n",
              "      <td>0</td>\n",
              "      <td>0</td>\n",
              "      <td>1</td>\n",
              "      <td>1</td>\n",
              "      <td>0</td>\n",
              "      <td>0</td>\n",
              "      <td>0</td>\n",
              "      <td>0</td>\n",
              "      <td>1</td>\n",
              "      <td>0</td>\n",
              "      <td>1</td>\n",
              "    </tr>\n",
              "    <tr>\n",
              "      <th>9997</th>\n",
              "      <td>709</td>\n",
              "      <td>36</td>\n",
              "      <td>7</td>\n",
              "      <td>0.00</td>\n",
              "      <td>42085.58</td>\n",
              "      <td>1</td>\n",
              "      <td>0</td>\n",
              "      <td>0</td>\n",
              "      <td>1</td>\n",
              "      <td>0</td>\n",
              "      <td>1</td>\n",
              "      <td>0</td>\n",
              "      <td>0</td>\n",
              "      <td>0</td>\n",
              "      <td>1</td>\n",
              "      <td>0</td>\n",
              "      <td>0</td>\n",
              "      <td>1</td>\n",
              "    </tr>\n",
              "    <tr>\n",
              "      <th>9998</th>\n",
              "      <td>772</td>\n",
              "      <td>42</td>\n",
              "      <td>3</td>\n",
              "      <td>75075.31</td>\n",
              "      <td>92888.52</td>\n",
              "      <td>0</td>\n",
              "      <td>1</td>\n",
              "      <td>0</td>\n",
              "      <td>0</td>\n",
              "      <td>1</td>\n",
              "      <td>0</td>\n",
              "      <td>1</td>\n",
              "      <td>0</td>\n",
              "      <td>0</td>\n",
              "      <td>0</td>\n",
              "      <td>1</td>\n",
              "      <td>1</td>\n",
              "      <td>0</td>\n",
              "    </tr>\n",
              "    <tr>\n",
              "      <th>9999</th>\n",
              "      <td>792</td>\n",
              "      <td>28</td>\n",
              "      <td>4</td>\n",
              "      <td>130142.79</td>\n",
              "      <td>38190.78</td>\n",
              "      <td>1</td>\n",
              "      <td>0</td>\n",
              "      <td>0</td>\n",
              "      <td>1</td>\n",
              "      <td>0</td>\n",
              "      <td>1</td>\n",
              "      <td>0</td>\n",
              "      <td>0</td>\n",
              "      <td>0</td>\n",
              "      <td>0</td>\n",
              "      <td>1</td>\n",
              "      <td>1</td>\n",
              "      <td>0</td>\n",
              "    </tr>\n",
              "  </tbody>\n",
              "</table>\n",
              "<p>10000 rows × 18 columns</p>\n",
              "</div>"
            ],
            "text/plain": [
              "      CreditScore  Age  Tenure  ...  HasCrCard_1  IsActiveMember_0  IsActiveMember_1\n",
              "0             619   42       2  ...            1                 0                 1\n",
              "1             608   41       1  ...            0                 0                 1\n",
              "2             502   42       8  ...            1                 1                 0\n",
              "3             699   39       1  ...            0                 1                 0\n",
              "4             850   43       2  ...            1                 0                 1\n",
              "...           ...  ...     ...  ...          ...               ...               ...\n",
              "9995          771   39       5  ...            1                 1                 0\n",
              "9996          516   35      10  ...            1                 0                 1\n",
              "9997          709   36       7  ...            0                 0                 1\n",
              "9998          772   42       3  ...            1                 1                 0\n",
              "9999          792   28       4  ...            1                 1                 0\n",
              "\n",
              "[10000 rows x 18 columns]"
            ]
          },
          "metadata": {
            "tags": []
          },
          "execution_count": 20
        }
      ]
    },
    {
      "cell_type": "markdown",
      "metadata": {
        "id": "i8iE9-VF2gWI"
      },
      "source": [
        "# **Model Building**\n"
      ]
    },
    {
      "cell_type": "code",
      "metadata": {
        "id": "s8GLeNqrlQb6"
      },
      "source": [
        "from sklearn.model_selection import train_test_split\n",
        "X_train, X_test, y_train, y_test = train_test_split(x, y, test_size=0.33, random_state=42)#splitting into train and split data"
      ],
      "execution_count": 21,
      "outputs": []
    },
    {
      "cell_type": "code",
      "metadata": {
        "id": "QPI5qDEWmT8g",
        "colab": {
          "base_uri": "https://localhost:8080/"
        },
        "outputId": "9016b5f1-79f1-4dfc-bcd1-e99462a8d051"
      },
      "source": [
        "print(X_train.shape)\n",
        "print(\"\\n\")\n",
        "print(X_test.shape)\n",
        "print(\"\\n\")\n",
        "print(y_train.shape)\n",
        "print(\"\\n\")\n",
        "print(y_test.shape)"
      ],
      "execution_count": 22,
      "outputs": [
        {
          "output_type": "stream",
          "text": [
            "(6700, 18)\n",
            "\n",
            "\n",
            "(3300, 18)\n",
            "\n",
            "\n",
            "(6700, 1)\n",
            "\n",
            "\n",
            "(3300, 1)\n"
          ],
          "name": "stdout"
        }
      ]
    },
    {
      "cell_type": "code",
      "metadata": {
        "id": "-OQjBFcs0G40",
        "colab": {
          "base_uri": "https://localhost:8080/"
        },
        "outputId": "3839f766-1e95-450a-9c37-999ae0ec1371"
      },
      "source": [
        "X_train.columns"
      ],
      "execution_count": 23,
      "outputs": [
        {
          "output_type": "execute_result",
          "data": {
            "text/plain": [
              "Index(['CreditScore', 'Age', 'Tenure', 'Balance', 'EstimatedSalary',\n",
              "       'Geography_France', 'Geography_Germany', 'Geography_Spain',\n",
              "       'Gender_Female', 'Gender_Male', 'NumOfProducts_1', 'NumOfProducts_2',\n",
              "       'NumOfProducts_3', 'NumOfProducts_4', 'HasCrCard_0', 'HasCrCard_1',\n",
              "       'IsActiveMember_0', 'IsActiveMember_1'],\n",
              "      dtype='object')"
            ]
          },
          "metadata": {
            "tags": []
          },
          "execution_count": 23
        }
      ]
    },
    {
      "cell_type": "markdown",
      "metadata": {
        "id": "RGt5FXyQ4Eo3"
      },
      "source": [
        "##Decision Tree with Depth 3\n"
      ]
    },
    {
      "cell_type": "code",
      "metadata": {
        "id": "JAK-5W11BRAG"
      },
      "source": [
        "from sklearn.tree import DecisionTreeClassifier #using decision tree\n",
        "dtc=DecisionTreeClassifier(criterion='entropy',max_depth=3)  "
      ],
      "execution_count": 24,
      "outputs": []
    },
    {
      "cell_type": "code",
      "metadata": {
        "id": "paEaJ1Bm7Stq",
        "colab": {
          "base_uri": "https://localhost:8080/"
        },
        "outputId": "03e93227-6d1c-4e49-c1ed-e9c23a8b7a41"
      },
      "source": [
        "dtc.fit(X_train,y_train)#fitting the model"
      ],
      "execution_count": 25,
      "outputs": [
        {
          "output_type": "execute_result",
          "data": {
            "text/plain": [
              "DecisionTreeClassifier(ccp_alpha=0.0, class_weight=None, criterion='entropy',\n",
              "                       max_depth=3, max_features=None, max_leaf_nodes=None,\n",
              "                       min_impurity_decrease=0.0, min_impurity_split=None,\n",
              "                       min_samples_leaf=1, min_samples_split=2,\n",
              "                       min_weight_fraction_leaf=0.0, presort='deprecated',\n",
              "                       random_state=None, splitter='best')"
            ]
          },
          "metadata": {
            "tags": []
          },
          "execution_count": 25
        }
      ]
    },
    {
      "cell_type": "code",
      "metadata": {
        "id": "g-nHFYzd9G3-"
      },
      "source": [
        "preds_train=dtc.predict(X_train)\n",
        "preds_test=dtc.predict(X_test)"
      ],
      "execution_count": 26,
      "outputs": []
    },
    {
      "cell_type": "code",
      "metadata": {
        "colab": {
          "base_uri": "https://localhost:8080/"
        },
        "id": "DS_wmOwHOM5b",
        "outputId": "6f3fad0b-bc44-4120-9b2c-e2811ba97e70"
      },
      "source": [
        "preds_test[0:50]"
      ],
      "execution_count": 27,
      "outputs": [
        {
          "output_type": "execute_result",
          "data": {
            "text/plain": [
              "array([0, 0, 0, 0, 0, 0, 0, 0, 0, 0, 0, 1, 1, 0, 0, 0, 0, 0, 0, 0, 0, 0,\n",
              "       0, 0, 0, 0, 0, 0, 0, 0, 0, 0, 0, 0, 0, 1, 0, 0, 0, 0, 0, 1, 0, 0,\n",
              "       1, 0, 0, 0, 0, 0])"
            ]
          },
          "metadata": {
            "tags": []
          },
          "execution_count": 27
        }
      ]
    },
    {
      "cell_type": "code",
      "metadata": {
        "colab": {
          "base_uri": "https://localhost:8080/"
        },
        "id": "OgQAfhmtOZgS",
        "outputId": "ef40cde0-40de-4466-fd8f-bf18ecefa1c7"
      },
      "source": [
        "preds_train[0:50]"
      ],
      "execution_count": 28,
      "outputs": [
        {
          "output_type": "execute_result",
          "data": {
            "text/plain": [
              "array([0, 0, 1, 0, 0, 0, 0, 0, 0, 0, 0, 0, 0, 0, 0, 0, 0, 1, 0, 0, 0, 1,\n",
              "       0, 0, 0, 0, 0, 0, 0, 0, 0, 0, 0, 0, 0, 0, 0, 0, 0, 0, 1, 0, 1, 1,\n",
              "       1, 0, 0, 0, 0, 0])"
            ]
          },
          "metadata": {
            "tags": []
          },
          "execution_count": 28
        }
      ]
    },
    {
      "cell_type": "markdown",
      "metadata": {
        "id": "ceHImmNx3pTR"
      },
      "source": [
        "Accuracy"
      ]
    },
    {
      "cell_type": "code",
      "metadata": {
        "id": "H9WuQXkw_QFP",
        "colab": {
          "base_uri": "https://localhost:8080/"
        },
        "outputId": "58e634e2-4f1c-4958-821f-0a5be63f4ad1"
      },
      "source": [
        "from sklearn.metrics import accuracy_score\n",
        "accuracy_score(y_train,preds_train)#checking the accuracy for train data"
      ],
      "execution_count": 29,
      "outputs": [
        {
          "output_type": "execute_result",
          "data": {
            "text/plain": [
              "0.8405970149253731"
            ]
          },
          "metadata": {
            "tags": []
          },
          "execution_count": 29
        }
      ]
    },
    {
      "cell_type": "code",
      "metadata": {
        "id": "JMy1ZIp__iVD",
        "colab": {
          "base_uri": "https://localhost:8080/"
        },
        "outputId": "29fba90b-5c91-4549-f2c8-f594f96e5194"
      },
      "source": [
        "accuracy_score(y_test,preds_test)#checking the accuracy for the test data"
      ],
      "execution_count": 30,
      "outputs": [
        {
          "output_type": "execute_result",
          "data": {
            "text/plain": [
              "0.8518181818181818"
            ]
          },
          "metadata": {
            "tags": []
          },
          "execution_count": 30
        }
      ]
    },
    {
      "cell_type": "markdown",
      "metadata": {
        "id": "yVUMzZLH3O2n"
      },
      "source": [
        "Confusion Matrix"
      ]
    },
    {
      "cell_type": "code",
      "metadata": {
        "id": "zcDSCgtEFG8i",
        "colab": {
          "base_uri": "https://localhost:8080/"
        },
        "outputId": "48fe545d-a3a8-45c3-9021-68aa98715bae"
      },
      "source": [
        "from sklearn.metrics import confusion_matrix\n",
        "print(confusion_matrix(y_train,preds_train))"
      ],
      "execution_count": 31,
      "outputs": [
        {
          "output_type": "stream",
          "text": [
            "[[5083  223]\n",
            " [ 845  549]]\n"
          ],
          "name": "stdout"
        }
      ]
    },
    {
      "cell_type": "code",
      "metadata": {
        "id": "Zvj06jE3FYTp",
        "colab": {
          "base_uri": "https://localhost:8080/"
        },
        "outputId": "33ac6608-6bac-4dc4-84d5-fd51bd5488d2"
      },
      "source": [
        "print(confusion_matrix(y_test,preds_test))"
      ],
      "execution_count": 32,
      "outputs": [
        {
          "output_type": "stream",
          "text": [
            "[[2550  107]\n",
            " [ 382  261]]\n"
          ],
          "name": "stdout"
        }
      ]
    },
    {
      "cell_type": "code",
      "metadata": {
        "id": "Ivn2u-QhFxu6",
        "colab": {
          "base_uri": "https://localhost:8080/"
        },
        "outputId": "871d9e8c-e246-4e75-c049-79f423f9bf9d"
      },
      "source": [
        "from sklearn.metrics import classification_report\n",
        "print(classification_report(y_train,preds_train))"
      ],
      "execution_count": 33,
      "outputs": [
        {
          "output_type": "stream",
          "text": [
            "              precision    recall  f1-score   support\n",
            "\n",
            "           0       0.86      0.96      0.90      5306\n",
            "           1       0.71      0.39      0.51      1394\n",
            "\n",
            "    accuracy                           0.84      6700\n",
            "   macro avg       0.78      0.68      0.71      6700\n",
            "weighted avg       0.83      0.84      0.82      6700\n",
            "\n"
          ],
          "name": "stdout"
        }
      ]
    },
    {
      "cell_type": "code",
      "metadata": {
        "id": "Hpp7vkeoGiRF",
        "colab": {
          "base_uri": "https://localhost:8080/"
        },
        "outputId": "a435346a-5c3c-4c10-b371-49c8a8eb8b84"
      },
      "source": [
        "print(classification_report(y_test,preds_test))"
      ],
      "execution_count": 34,
      "outputs": [
        {
          "output_type": "stream",
          "text": [
            "              precision    recall  f1-score   support\n",
            "\n",
            "           0       0.87      0.96      0.91      2657\n",
            "           1       0.71      0.41      0.52       643\n",
            "\n",
            "    accuracy                           0.85      3300\n",
            "   macro avg       0.79      0.68      0.71      3300\n",
            "weighted avg       0.84      0.85      0.84      3300\n",
            "\n"
          ],
          "name": "stdout"
        }
      ]
    },
    {
      "cell_type": "code",
      "metadata": {
        "id": "oC_IdqUmD0N0",
        "colab": {
          "base_uri": "https://localhost:8080/",
          "height": 618
        },
        "outputId": "43872c8c-ef70-4d47-a48e-f195e8da7b4a"
      },
      "source": [
        "import graphviz\n",
        "from  sklearn.tree import export_graphviz\n",
        "graphviz.Source(export_graphviz(dtc,out_file=None,\n",
        "                                feature_names=X_train.columns,\n",
        "                                class_names=[\"no\",\"yes\"],\n",
        "                                filled=True))\n"
      ],
      "execution_count": 35,
      "outputs": [
        {
          "output_type": "execute_result",
          "data": {
            "text/plain": [
              "<graphviz.files.Source at 0x7f39d0c2f450>"
            ],
            "image/svg+xml": "<?xml version=\"1.0\" encoding=\"UTF-8\" standalone=\"no\"?>\n<!DOCTYPE svg PUBLIC \"-//W3C//DTD SVG 1.1//EN\"\n \"http://www.w3.org/Graphics/SVG/1.1/DTD/svg11.dtd\">\n<!-- Generated by graphviz version 2.40.1 (20161225.0304)\n -->\n<!-- Title: Tree Pages: 1 -->\n<svg width=\"1111pt\" height=\"433pt\"\n viewBox=\"0.00 0.00 1110.50 433.00\" xmlns=\"http://www.w3.org/2000/svg\" xmlns:xlink=\"http://www.w3.org/1999/xlink\">\n<g id=\"graph0\" class=\"graph\" transform=\"scale(1 1) rotate(0) translate(4 429)\">\n<title>Tree</title>\n<polygon fill=\"#ffffff\" stroke=\"transparent\" points=\"-4,4 -4,-429 1106.5,-429 1106.5,4 -4,4\"/>\n<!-- 0 -->\n<g id=\"node1\" class=\"node\">\n<title>0</title>\n<polygon fill=\"#eca26d\" stroke=\"#000000\" points=\"595,-425 455,-425 455,-342 595,-342 595,-425\"/>\n<text text-anchor=\"middle\" x=\"525\" y=\"-409.8\" font-family=\"Times,serif\" font-size=\"14.00\" fill=\"#000000\">Age &lt;= 41.5</text>\n<text text-anchor=\"middle\" x=\"525\" y=\"-394.8\" font-family=\"Times,serif\" font-size=\"14.00\" fill=\"#000000\">entropy = 0.738</text>\n<text text-anchor=\"middle\" x=\"525\" y=\"-379.8\" font-family=\"Times,serif\" font-size=\"14.00\" fill=\"#000000\">samples = 6700</text>\n<text text-anchor=\"middle\" x=\"525\" y=\"-364.8\" font-family=\"Times,serif\" font-size=\"14.00\" fill=\"#000000\">value = [5306, 1394]</text>\n<text text-anchor=\"middle\" x=\"525\" y=\"-349.8\" font-family=\"Times,serif\" font-size=\"14.00\" fill=\"#000000\">class = no</text>\n</g>\n<!-- 1 -->\n<g id=\"node2\" class=\"node\">\n<title>1</title>\n<polygon fill=\"#e89253\" stroke=\"#000000\" points=\"484.5,-306 315.5,-306 315.5,-223 484.5,-223 484.5,-306\"/>\n<text text-anchor=\"middle\" x=\"400\" y=\"-290.8\" font-family=\"Times,serif\" font-size=\"14.00\" fill=\"#000000\">NumOfProducts_2 &lt;= 0.5</text>\n<text text-anchor=\"middle\" x=\"400\" y=\"-275.8\" font-family=\"Times,serif\" font-size=\"14.00\" fill=\"#000000\">entropy = 0.519</text>\n<text text-anchor=\"middle\" x=\"400\" y=\"-260.8\" font-family=\"Times,serif\" font-size=\"14.00\" fill=\"#000000\">samples = 4540</text>\n<text text-anchor=\"middle\" x=\"400\" y=\"-245.8\" font-family=\"Times,serif\" font-size=\"14.00\" fill=\"#000000\">value = [4012, 528]</text>\n<text text-anchor=\"middle\" x=\"400\" y=\"-230.8\" font-family=\"Times,serif\" font-size=\"14.00\" fill=\"#000000\">class = no</text>\n</g>\n<!-- 0&#45;&gt;1 -->\n<g id=\"edge1\" class=\"edge\">\n<title>0&#45;&gt;1</title>\n<path fill=\"none\" stroke=\"#000000\" d=\"M481.2811,-341.8796C471.6314,-332.6931 461.3234,-322.8798 451.4009,-313.4336\"/>\n<polygon fill=\"#000000\" stroke=\"#000000\" points=\"453.5616,-310.6582 443.9055,-306.2981 448.735,-315.7282 453.5616,-310.6582\"/>\n<text text-anchor=\"middle\" x=\"444.5201\" y=\"-327.5905\" font-family=\"Times,serif\" font-size=\"14.00\" fill=\"#000000\">True</text>\n</g>\n<!-- 8 -->\n<g id=\"node9\" class=\"node\">\n<title>8</title>\n<polygon fill=\"#f6d5be\" stroke=\"#000000\" points=\"755.5,-306 586.5,-306 586.5,-223 755.5,-223 755.5,-306\"/>\n<text text-anchor=\"middle\" x=\"671\" y=\"-290.8\" font-family=\"Times,serif\" font-size=\"14.00\" fill=\"#000000\">NumOfProducts_2 &lt;= 0.5</text>\n<text text-anchor=\"middle\" x=\"671\" y=\"-275.8\" font-family=\"Times,serif\" font-size=\"14.00\" fill=\"#000000\">entropy = 0.971</text>\n<text text-anchor=\"middle\" x=\"671\" y=\"-260.8\" font-family=\"Times,serif\" font-size=\"14.00\" fill=\"#000000\">samples = 2160</text>\n<text text-anchor=\"middle\" x=\"671\" y=\"-245.8\" font-family=\"Times,serif\" font-size=\"14.00\" fill=\"#000000\">value = [1294, 866]</text>\n<text text-anchor=\"middle\" x=\"671\" y=\"-230.8\" font-family=\"Times,serif\" font-size=\"14.00\" fill=\"#000000\">class = no</text>\n</g>\n<!-- 0&#45;&gt;8 -->\n<g id=\"edge8\" class=\"edge\">\n<title>0&#45;&gt;8</title>\n<path fill=\"none\" stroke=\"#000000\" d=\"M576.0637,-341.8796C587.5555,-332.513 599.8468,-322.4948 611.645,-312.8784\"/>\n<polygon fill=\"#000000\" stroke=\"#000000\" points=\"614.1782,-315.329 619.7183,-306.2981 609.7556,-309.903 614.1782,-315.329\"/>\n<text text-anchor=\"middle\" x=\"617.1843\" y=\"-327.4693\" font-family=\"Times,serif\" font-size=\"14.00\" fill=\"#000000\">False</text>\n</g>\n<!-- 2 -->\n<g id=\"node3\" class=\"node\">\n<title>2</title>\n<polygon fill=\"#eb9e67\" stroke=\"#000000\" points=\"278.5,-187 109.5,-187 109.5,-104 278.5,-104 278.5,-187\"/>\n<text text-anchor=\"middle\" x=\"194\" y=\"-171.8\" font-family=\"Times,serif\" font-size=\"14.00\" fill=\"#000000\">NumOfProducts_1 &lt;= 0.5</text>\n<text text-anchor=\"middle\" x=\"194\" y=\"-156.8\" font-family=\"Times,serif\" font-size=\"14.00\" fill=\"#000000\">entropy = 0.698</text>\n<text text-anchor=\"middle\" x=\"194\" y=\"-141.8\" font-family=\"Times,serif\" font-size=\"14.00\" fill=\"#000000\">samples = 2298</text>\n<text text-anchor=\"middle\" x=\"194\" y=\"-126.8\" font-family=\"Times,serif\" font-size=\"14.00\" fill=\"#000000\">value = [1865, 433]</text>\n<text text-anchor=\"middle\" x=\"194\" y=\"-111.8\" font-family=\"Times,serif\" font-size=\"14.00\" fill=\"#000000\">class = no</text>\n</g>\n<!-- 1&#45;&gt;2 -->\n<g id=\"edge2\" class=\"edge\">\n<title>1&#45;&gt;2</title>\n<path fill=\"none\" stroke=\"#000000\" d=\"M327.9512,-222.8796C310.8585,-213.0056 292.5121,-202.4075 275.0486,-192.3193\"/>\n<polygon fill=\"#000000\" stroke=\"#000000\" points=\"276.4179,-189.0684 266.0081,-187.0969 272.9164,-195.1297 276.4179,-189.0684\"/>\n</g>\n<!-- 5 -->\n<g id=\"node6\" class=\"node\">\n<title>5</title>\n<polygon fill=\"#e68742\" stroke=\"#000000\" points=\"471,-187 329,-187 329,-104 471,-104 471,-187\"/>\n<text text-anchor=\"middle\" x=\"400\" y=\"-171.8\" font-family=\"Times,serif\" font-size=\"14.00\" fill=\"#000000\">Balance &lt;= 1884.345</text>\n<text text-anchor=\"middle\" x=\"400\" y=\"-156.8\" font-family=\"Times,serif\" font-size=\"14.00\" fill=\"#000000\">entropy = 0.253</text>\n<text text-anchor=\"middle\" x=\"400\" y=\"-141.8\" font-family=\"Times,serif\" font-size=\"14.00\" fill=\"#000000\">samples = 2242</text>\n<text text-anchor=\"middle\" x=\"400\" y=\"-126.8\" font-family=\"Times,serif\" font-size=\"14.00\" fill=\"#000000\">value = [2147, 95]</text>\n<text text-anchor=\"middle\" x=\"400\" y=\"-111.8\" font-family=\"Times,serif\" font-size=\"14.00\" fill=\"#000000\">class = no</text>\n</g>\n<!-- 1&#45;&gt;5 -->\n<g id=\"edge5\" class=\"edge\">\n<title>1&#45;&gt;5</title>\n<path fill=\"none\" stroke=\"#000000\" d=\"M400,-222.8796C400,-214.6838 400,-205.9891 400,-197.5013\"/>\n<polygon fill=\"#000000\" stroke=\"#000000\" points=\"403.5001,-197.298 400,-187.2981 396.5001,-197.2981 403.5001,-197.298\"/>\n</g>\n<!-- 3 -->\n<g id=\"node4\" class=\"node\">\n<title>3</title>\n<polygon fill=\"#77bbed\" stroke=\"#000000\" points=\"110,-68 0,-68 0,0 110,0 110,-68\"/>\n<text text-anchor=\"middle\" x=\"55\" y=\"-52.8\" font-family=\"Times,serif\" font-size=\"14.00\" fill=\"#000000\">entropy = 0.79</text>\n<text text-anchor=\"middle\" x=\"55\" y=\"-37.8\" font-family=\"Times,serif\" font-size=\"14.00\" fill=\"#000000\">samples = 97</text>\n<text text-anchor=\"middle\" x=\"55\" y=\"-22.8\" font-family=\"Times,serif\" font-size=\"14.00\" fill=\"#000000\">value = [23, 74]</text>\n<text text-anchor=\"middle\" x=\"55\" y=\"-7.8\" font-family=\"Times,serif\" font-size=\"14.00\" fill=\"#000000\">class = yes</text>\n</g>\n<!-- 2&#45;&gt;3 -->\n<g id=\"edge3\" class=\"edge\">\n<title>2&#45;&gt;3</title>\n<path fill=\"none\" stroke=\"#000000\" d=\"M142.2415,-103.9815C130.3258,-94.4232 117.6644,-84.2668 105.7903,-74.7419\"/>\n<polygon fill=\"#000000\" stroke=\"#000000\" points=\"107.7049,-71.7907 97.7144,-68.2637 103.3248,-77.2511 107.7049,-71.7907\"/>\n</g>\n<!-- 4 -->\n<g id=\"node5\" class=\"node\">\n<title>4</title>\n<polygon fill=\"#ea9a60\" stroke=\"#000000\" points=\"260,-68 128,-68 128,0 260,0 260,-68\"/>\n<text text-anchor=\"middle\" x=\"194\" y=\"-52.8\" font-family=\"Times,serif\" font-size=\"14.00\" fill=\"#000000\">entropy = 0.642</text>\n<text text-anchor=\"middle\" x=\"194\" y=\"-37.8\" font-family=\"Times,serif\" font-size=\"14.00\" fill=\"#000000\">samples = 2201</text>\n<text text-anchor=\"middle\" x=\"194\" y=\"-22.8\" font-family=\"Times,serif\" font-size=\"14.00\" fill=\"#000000\">value = [1842, 359]</text>\n<text text-anchor=\"middle\" x=\"194\" y=\"-7.8\" font-family=\"Times,serif\" font-size=\"14.00\" fill=\"#000000\">class = no</text>\n</g>\n<!-- 2&#45;&gt;4 -->\n<g id=\"edge4\" class=\"edge\">\n<title>2&#45;&gt;4</title>\n<path fill=\"none\" stroke=\"#000000\" d=\"M194,-103.9815C194,-95.618 194,-86.7965 194,-78.3409\"/>\n<polygon fill=\"#000000\" stroke=\"#000000\" points=\"197.5001,-78.2636 194,-68.2637 190.5001,-78.2637 197.5001,-78.2636\"/>\n</g>\n<!-- 6 -->\n<g id=\"node7\" class=\"node\">\n<title>6</title>\n<polygon fill=\"#e6833d\" stroke=\"#000000\" points=\"403.5,-68 278.5,-68 278.5,0 403.5,0 403.5,-68\"/>\n<text text-anchor=\"middle\" x=\"341\" y=\"-52.8\" font-family=\"Times,serif\" font-size=\"14.00\" fill=\"#000000\">entropy = 0.135</text>\n<text text-anchor=\"middle\" x=\"341\" y=\"-37.8\" font-family=\"Times,serif\" font-size=\"14.00\" fill=\"#000000\">samples = 1321</text>\n<text text-anchor=\"middle\" x=\"341\" y=\"-22.8\" font-family=\"Times,serif\" font-size=\"14.00\" fill=\"#000000\">value = [1296, 25]</text>\n<text text-anchor=\"middle\" x=\"341\" y=\"-7.8\" font-family=\"Times,serif\" font-size=\"14.00\" fill=\"#000000\">class = no</text>\n</g>\n<!-- 5&#45;&gt;6 -->\n<g id=\"edge6\" class=\"edge\">\n<title>5&#45;&gt;6</title>\n<path fill=\"none\" stroke=\"#000000\" d=\"M378.0306,-103.9815C373.4105,-95.2504 368.5264,-86.0202 363.874,-77.2281\"/>\n<polygon fill=\"#000000\" stroke=\"#000000\" points=\"366.9013,-75.4655 359.1306,-68.2637 360.7141,-78.7395 366.9013,-75.4655\"/>\n</g>\n<!-- 7 -->\n<g id=\"node8\" class=\"node\">\n<title>7</title>\n<polygon fill=\"#e78b49\" stroke=\"#000000\" points=\"538.5,-68 421.5,-68 421.5,0 538.5,0 538.5,-68\"/>\n<text text-anchor=\"middle\" x=\"480\" y=\"-52.8\" font-family=\"Times,serif\" font-size=\"14.00\" fill=\"#000000\">entropy = 0.388</text>\n<text text-anchor=\"middle\" x=\"480\" y=\"-37.8\" font-family=\"Times,serif\" font-size=\"14.00\" fill=\"#000000\">samples = 921</text>\n<text text-anchor=\"middle\" x=\"480\" y=\"-22.8\" font-family=\"Times,serif\" font-size=\"14.00\" fill=\"#000000\">value = [851, 70]</text>\n<text text-anchor=\"middle\" x=\"480\" y=\"-7.8\" font-family=\"Times,serif\" font-size=\"14.00\" fill=\"#000000\">class = no</text>\n</g>\n<!-- 5&#45;&gt;7 -->\n<g id=\"edge7\" class=\"edge\">\n<title>5&#45;&gt;7</title>\n<path fill=\"none\" stroke=\"#000000\" d=\"M429.789,-103.9815C436.2514,-94.9747 443.0948,-85.4367 449.581,-76.3965\"/>\n<polygon fill=\"#000000\" stroke=\"#000000\" points=\"452.4303,-78.4291 455.4162,-68.2637 446.7428,-74.3483 452.4303,-78.4291\"/>\n</g>\n<!-- 9 -->\n<g id=\"node10\" class=\"node\">\n<title>9</title>\n<polygon fill=\"#e2f1fb\" stroke=\"#000000\" points=\"756,-187 586,-187 586,-104 756,-104 756,-187\"/>\n<text text-anchor=\"middle\" x=\"671\" y=\"-171.8\" font-family=\"Times,serif\" font-size=\"14.00\" fill=\"#000000\">IsActiveMember_0 &lt;= 0.5</text>\n<text text-anchor=\"middle\" x=\"671\" y=\"-156.8\" font-family=\"Times,serif\" font-size=\"14.00\" fill=\"#000000\">entropy = 0.996</text>\n<text text-anchor=\"middle\" x=\"671\" y=\"-141.8\" font-family=\"Times,serif\" font-size=\"14.00\" fill=\"#000000\">samples = 1352</text>\n<text text-anchor=\"middle\" x=\"671\" y=\"-126.8\" font-family=\"Times,serif\" font-size=\"14.00\" fill=\"#000000\">value = [623, 729]</text>\n<text text-anchor=\"middle\" x=\"671\" y=\"-111.8\" font-family=\"Times,serif\" font-size=\"14.00\" fill=\"#000000\">class = yes</text>\n</g>\n<!-- 8&#45;&gt;9 -->\n<g id=\"edge9\" class=\"edge\">\n<title>8&#45;&gt;9</title>\n<path fill=\"none\" stroke=\"#000000\" d=\"M671,-222.8796C671,-214.6838 671,-205.9891 671,-197.5013\"/>\n<polygon fill=\"#000000\" stroke=\"#000000\" points=\"674.5001,-197.298 671,-187.2981 667.5001,-197.2981 674.5001,-197.298\"/>\n</g>\n<!-- 12 -->\n<g id=\"node13\" class=\"node\">\n<title>12</title>\n<polygon fill=\"#ea9b61\" stroke=\"#000000\" points=\"975.5,-187 826.5,-187 826.5,-104 975.5,-104 975.5,-187\"/>\n<text text-anchor=\"middle\" x=\"901\" y=\"-171.8\" font-family=\"Times,serif\" font-size=\"14.00\" fill=\"#000000\">Balance &lt;= 42398.035</text>\n<text text-anchor=\"middle\" x=\"901\" y=\"-156.8\" font-family=\"Times,serif\" font-size=\"14.00\" fill=\"#000000\">entropy = 0.657</text>\n<text text-anchor=\"middle\" x=\"901\" y=\"-141.8\" font-family=\"Times,serif\" font-size=\"14.00\" fill=\"#000000\">samples = 808</text>\n<text text-anchor=\"middle\" x=\"901\" y=\"-126.8\" font-family=\"Times,serif\" font-size=\"14.00\" fill=\"#000000\">value = [671, 137]</text>\n<text text-anchor=\"middle\" x=\"901\" y=\"-111.8\" font-family=\"Times,serif\" font-size=\"14.00\" fill=\"#000000\">class = no</text>\n</g>\n<!-- 8&#45;&gt;12 -->\n<g id=\"edge12\" class=\"edge\">\n<title>8&#45;&gt;12</title>\n<path fill=\"none\" stroke=\"#000000\" d=\"M751.4428,-222.8796C772.7524,-211.8542 795.8073,-199.9258 817.2861,-188.8128\"/>\n<polygon fill=\"#000000\" stroke=\"#000000\" points=\"819.1119,-191.809 826.3852,-184.1051 815.8952,-185.5918 819.1119,-191.809\"/>\n</g>\n<!-- 10 -->\n<g id=\"node11\" class=\"node\">\n<title>10</title>\n<polygon fill=\"#f5cdb0\" stroke=\"#000000\" points=\"681.5,-68 556.5,-68 556.5,0 681.5,0 681.5,-68\"/>\n<text text-anchor=\"middle\" x=\"619\" y=\"-52.8\" font-family=\"Times,serif\" font-size=\"14.00\" fill=\"#000000\">entropy = 0.955</text>\n<text text-anchor=\"middle\" x=\"619\" y=\"-37.8\" font-family=\"Times,serif\" font-size=\"14.00\" fill=\"#000000\">samples = 677</text>\n<text text-anchor=\"middle\" x=\"619\" y=\"-22.8\" font-family=\"Times,serif\" font-size=\"14.00\" fill=\"#000000\">value = [423, 254]</text>\n<text text-anchor=\"middle\" x=\"619\" y=\"-7.8\" font-family=\"Times,serif\" font-size=\"14.00\" fill=\"#000000\">class = no</text>\n</g>\n<!-- 9&#45;&gt;10 -->\n<g id=\"edge10\" class=\"edge\">\n<title>9&#45;&gt;10</title>\n<path fill=\"none\" stroke=\"#000000\" d=\"M651.6371,-103.9815C647.6081,-95.3423 643.3511,-86.2144 639.2897,-77.5059\"/>\n<polygon fill=\"#000000\" stroke=\"#000000\" points=\"642.3782,-75.8472 634.9795,-68.2637 636.0341,-78.8059 642.3782,-75.8472\"/>\n</g>\n<!-- 11 -->\n<g id=\"node12\" class=\"node\">\n<title>11</title>\n<polygon fill=\"#8cc6f0\" stroke=\"#000000\" points=\"824.5,-68 699.5,-68 699.5,0 824.5,0 824.5,-68\"/>\n<text text-anchor=\"middle\" x=\"762\" y=\"-52.8\" font-family=\"Times,serif\" font-size=\"14.00\" fill=\"#000000\">entropy = 0.877</text>\n<text text-anchor=\"middle\" x=\"762\" y=\"-37.8\" font-family=\"Times,serif\" font-size=\"14.00\" fill=\"#000000\">samples = 675</text>\n<text text-anchor=\"middle\" x=\"762\" y=\"-22.8\" font-family=\"Times,serif\" font-size=\"14.00\" fill=\"#000000\">value = [200, 475]</text>\n<text text-anchor=\"middle\" x=\"762\" y=\"-7.8\" font-family=\"Times,serif\" font-size=\"14.00\" fill=\"#000000\">class = yes</text>\n</g>\n<!-- 9&#45;&gt;11 -->\n<g id=\"edge11\" class=\"edge\">\n<title>9&#45;&gt;11</title>\n<path fill=\"none\" stroke=\"#000000\" d=\"M704.885,-103.9815C712.3109,-94.8828 720.1792,-85.242 727.6241,-76.1199\"/>\n<polygon fill=\"#000000\" stroke=\"#000000\" points=\"730.4245,-78.224 734.0359,-68.2637 725.0014,-73.798 730.4245,-78.224\"/>\n</g>\n<!-- 13 -->\n<g id=\"node14\" class=\"node\">\n<title>13</title>\n<polygon fill=\"#e78b48\" stroke=\"#000000\" points=\"959.5,-68 842.5,-68 842.5,0 959.5,0 959.5,-68\"/>\n<text text-anchor=\"middle\" x=\"901\" y=\"-52.8\" font-family=\"Times,serif\" font-size=\"14.00\" fill=\"#000000\">entropy = 0.369</text>\n<text text-anchor=\"middle\" x=\"901\" y=\"-37.8\" font-family=\"Times,serif\" font-size=\"14.00\" fill=\"#000000\">samples = 438</text>\n<text text-anchor=\"middle\" x=\"901\" y=\"-22.8\" font-family=\"Times,serif\" font-size=\"14.00\" fill=\"#000000\">value = [407, 31]</text>\n<text text-anchor=\"middle\" x=\"901\" y=\"-7.8\" font-family=\"Times,serif\" font-size=\"14.00\" fill=\"#000000\">class = no</text>\n</g>\n<!-- 12&#45;&gt;13 -->\n<g id=\"edge13\" class=\"edge\">\n<title>12&#45;&gt;13</title>\n<path fill=\"none\" stroke=\"#000000\" d=\"M901,-103.9815C901,-95.618 901,-86.7965 901,-78.3409\"/>\n<polygon fill=\"#000000\" stroke=\"#000000\" points=\"904.5001,-78.2636 901,-68.2637 897.5001,-78.2637 904.5001,-78.2636\"/>\n</g>\n<!-- 14 -->\n<g id=\"node15\" class=\"node\">\n<title>14</title>\n<polygon fill=\"#efb488\" stroke=\"#000000\" points=\"1102.5,-68 977.5,-68 977.5,0 1102.5,0 1102.5,-68\"/>\n<text text-anchor=\"middle\" x=\"1040\" y=\"-52.8\" font-family=\"Times,serif\" font-size=\"14.00\" fill=\"#000000\">entropy = 0.864</text>\n<text text-anchor=\"middle\" x=\"1040\" y=\"-37.8\" font-family=\"Times,serif\" font-size=\"14.00\" fill=\"#000000\">samples = 370</text>\n<text text-anchor=\"middle\" x=\"1040\" y=\"-22.8\" font-family=\"Times,serif\" font-size=\"14.00\" fill=\"#000000\">value = [264, 106]</text>\n<text text-anchor=\"middle\" x=\"1040\" y=\"-7.8\" font-family=\"Times,serif\" font-size=\"14.00\" fill=\"#000000\">class = no</text>\n</g>\n<!-- 12&#45;&gt;14 -->\n<g id=\"edge14\" class=\"edge\">\n<title>12&#45;&gt;14</title>\n<path fill=\"none\" stroke=\"#000000\" d=\"M952.7585,-103.9815C964.6742,-94.4232 977.3356,-84.2668 989.2097,-74.7419\"/>\n<polygon fill=\"#000000\" stroke=\"#000000\" points=\"991.6752,-77.2511 997.2856,-68.2637 987.2951,-71.7907 991.6752,-77.2511\"/>\n</g>\n</g>\n</svg>\n"
          },
          "metadata": {
            "tags": []
          },
          "execution_count": 35
        }
      ]
    },
    {
      "cell_type": "markdown",
      "metadata": {
        "id": "qPja-owX4sk_"
      },
      "source": [
        "##Decision Tree with depth 9"
      ]
    },
    {
      "cell_type": "code",
      "metadata": {
        "id": "2ZOWNIiz4A1E"
      },
      "source": [
        "from sklearn.tree import DecisionTreeClassifier #using decision tree\n",
        "dtc=DecisionTreeClassifier(criterion='entropy',max_depth=9)"
      ],
      "execution_count": 36,
      "outputs": []
    },
    {
      "cell_type": "code",
      "metadata": {
        "id": "TbNdae_54r8T",
        "colab": {
          "base_uri": "https://localhost:8080/"
        },
        "outputId": "8a87bc95-3dfa-4162-e661-a9bfea4da8c6"
      },
      "source": [
        "dtc.fit(X_train,y_train)#fitting the model"
      ],
      "execution_count": 37,
      "outputs": [
        {
          "output_type": "execute_result",
          "data": {
            "text/plain": [
              "DecisionTreeClassifier(ccp_alpha=0.0, class_weight=None, criterion='entropy',\n",
              "                       max_depth=9, max_features=None, max_leaf_nodes=None,\n",
              "                       min_impurity_decrease=0.0, min_impurity_split=None,\n",
              "                       min_samples_leaf=1, min_samples_split=2,\n",
              "                       min_weight_fraction_leaf=0.0, presort='deprecated',\n",
              "                       random_state=None, splitter='best')"
            ]
          },
          "metadata": {
            "tags": []
          },
          "execution_count": 37
        }
      ]
    },
    {
      "cell_type": "code",
      "metadata": {
        "id": "TC7662YG45X2"
      },
      "source": [
        "preds_train=dtc.predict(X_train)\n",
        "preds_test=dtc.predict(X_test)"
      ],
      "execution_count": 38,
      "outputs": []
    },
    {
      "cell_type": "markdown",
      "metadata": {
        "id": "82n3x0-z49gd"
      },
      "source": [
        "Accuracy"
      ]
    },
    {
      "cell_type": "code",
      "metadata": {
        "id": "YmFx7rrr4_DY",
        "colab": {
          "base_uri": "https://localhost:8080/"
        },
        "outputId": "86664d27-2738-4ac1-e31b-ad1a27f3d4d0"
      },
      "source": [
        "from sklearn.metrics import accuracy_score\n",
        "accuracy_score(y_train,preds_train)#checking the accuracy for train data"
      ],
      "execution_count": 39,
      "outputs": [
        {
          "output_type": "execute_result",
          "data": {
            "text/plain": [
              "0.8888059701492538"
            ]
          },
          "metadata": {
            "tags": []
          },
          "execution_count": 39
        }
      ]
    },
    {
      "cell_type": "code",
      "metadata": {
        "id": "iRwUO_oS5D54",
        "colab": {
          "base_uri": "https://localhost:8080/"
        },
        "outputId": "f7507523-5273-43e0-b78f-7add646dd665"
      },
      "source": [
        "accuracy_score(y_test,preds_test)#checking the accuracy for the test data"
      ],
      "execution_count": 40,
      "outputs": [
        {
          "output_type": "execute_result",
          "data": {
            "text/plain": [
              "0.8539393939393939"
            ]
          },
          "metadata": {
            "tags": []
          },
          "execution_count": 40
        }
      ]
    },
    {
      "cell_type": "markdown",
      "metadata": {
        "id": "nB7Ih1W35haf"
      },
      "source": [
        "Confusion Matrix"
      ]
    },
    {
      "cell_type": "code",
      "metadata": {
        "id": "1t04GYZH5EdO",
        "colab": {
          "base_uri": "https://localhost:8080/"
        },
        "outputId": "23e38834-cfd0-44e9-9744-6d5d57686c14"
      },
      "source": [
        "from sklearn.metrics import confusion_matrix\n",
        "print(confusion_matrix(y_train,preds_train))\n"
      ],
      "execution_count": 41,
      "outputs": [
        {
          "output_type": "stream",
          "text": [
            "[[5123  183]\n",
            " [ 562  832]]\n"
          ],
          "name": "stdout"
        }
      ]
    },
    {
      "cell_type": "code",
      "metadata": {
        "id": "7eq2mvYJ5s3f",
        "colab": {
          "base_uri": "https://localhost:8080/"
        },
        "outputId": "7e4e149f-160d-49d3-ba0c-4f76ed651c22"
      },
      "source": [
        "print(confusion_matrix(y_test,preds_test))"
      ],
      "execution_count": 42,
      "outputs": [
        {
          "output_type": "stream",
          "text": [
            "[[2496  161]\n",
            " [ 321  322]]\n"
          ],
          "name": "stdout"
        }
      ]
    },
    {
      "cell_type": "code",
      "metadata": {
        "id": "cqIqYXsDHxYT"
      },
      "source": [
        ""
      ],
      "execution_count": 42,
      "outputs": []
    },
    {
      "cell_type": "code",
      "metadata": {
        "id": "PVILBJ3450Nw",
        "colab": {
          "base_uri": "https://localhost:8080/"
        },
        "outputId": "ae2a280a-d87c-41f2-a1fb-e40ef8569301"
      },
      "source": [
        "from sklearn.metrics import classification_report\n",
        "print(classification_report(y_train,preds_train))"
      ],
      "execution_count": 43,
      "outputs": [
        {
          "output_type": "stream",
          "text": [
            "              precision    recall  f1-score   support\n",
            "\n",
            "           0       0.90      0.97      0.93      5306\n",
            "           1       0.82      0.60      0.69      1394\n",
            "\n",
            "    accuracy                           0.89      6700\n",
            "   macro avg       0.86      0.78      0.81      6700\n",
            "weighted avg       0.88      0.89      0.88      6700\n",
            "\n"
          ],
          "name": "stdout"
        }
      ]
    },
    {
      "cell_type": "code",
      "metadata": {
        "id": "yZsOsRB-56bK",
        "colab": {
          "base_uri": "https://localhost:8080/"
        },
        "outputId": "5b7297e4-aa89-4fc1-ebdd-f9edebc65599"
      },
      "source": [
        "print(classification_report(y_test,preds_test))"
      ],
      "execution_count": 44,
      "outputs": [
        {
          "output_type": "stream",
          "text": [
            "              precision    recall  f1-score   support\n",
            "\n",
            "           0       0.89      0.94      0.91      2657\n",
            "           1       0.67      0.50      0.57       643\n",
            "\n",
            "    accuracy                           0.85      3300\n",
            "   macro avg       0.78      0.72      0.74      3300\n",
            "weighted avg       0.84      0.85      0.85      3300\n",
            "\n"
          ],
          "name": "stdout"
        }
      ]
    },
    {
      "cell_type": "markdown",
      "metadata": {
        "id": "EmETdbJz5kpC"
      },
      "source": [
        "## Decision Tree of depth 6"
      ]
    },
    {
      "cell_type": "code",
      "metadata": {
        "id": "dLxjvCT66gWW"
      },
      "source": [
        "from sklearn.tree import DecisionTreeClassifier #using decision tree\n",
        "dtc=DecisionTreeClassifier(criterion='entropy',max_depth=6)"
      ],
      "execution_count": 45,
      "outputs": []
    },
    {
      "cell_type": "code",
      "metadata": {
        "id": "dC6CODwz63bK",
        "colab": {
          "base_uri": "https://localhost:8080/"
        },
        "outputId": "f0862a3c-7a1a-4f0e-e719-ae90a175428f"
      },
      "source": [
        "dtc.fit(X_train,y_train)#fitting the model"
      ],
      "execution_count": 46,
      "outputs": [
        {
          "output_type": "execute_result",
          "data": {
            "text/plain": [
              "DecisionTreeClassifier(ccp_alpha=0.0, class_weight=None, criterion='entropy',\n",
              "                       max_depth=6, max_features=None, max_leaf_nodes=None,\n",
              "                       min_impurity_decrease=0.0, min_impurity_split=None,\n",
              "                       min_samples_leaf=1, min_samples_split=2,\n",
              "                       min_weight_fraction_leaf=0.0, presort='deprecated',\n",
              "                       random_state=None, splitter='best')"
            ]
          },
          "metadata": {
            "tags": []
          },
          "execution_count": 46
        }
      ]
    },
    {
      "cell_type": "code",
      "metadata": {
        "id": "pcpqqQdk66xI"
      },
      "source": [
        "preds_train=dtc.predict(X_train)\n",
        "preds_test=dtc.predict(X_test)"
      ],
      "execution_count": 47,
      "outputs": []
    },
    {
      "cell_type": "code",
      "metadata": {
        "colab": {
          "base_uri": "https://localhost:8080/",
          "height": 1000
        },
        "id": "508qyew-DmHt",
        "outputId": "ea16715b-3b91-4b70-9127-eb5bd8ee7c28"
      },
      "source": [
        "import graphviz\n",
        "from  sklearn.tree import export_graphviz\n",
        "graphviz.Source(export_graphviz(dtc,out_file=None,\n",
        "                                feature_names=X_train.columns,\n",
        "                                class_names=[\"no\",\"yes\"],\n",
        "                                filled=True))"
      ],
      "execution_count": 56,
      "outputs": [
        {
          "output_type": "execute_result",
          "data": {
            "text/plain": [
              "<graphviz.files.Source at 0x7f39d10f4ed0>"
            ],
            "image/svg+xml": "<?xml version=\"1.0\" encoding=\"UTF-8\" standalone=\"no\"?>\n<!DOCTYPE svg PUBLIC \"-//W3C//DTD SVG 1.1//EN\"\n \"http://www.w3.org/Graphics/SVG/1.1/DTD/svg11.dtd\">\n<!-- Generated by graphviz version 2.40.1 (20161225.0304)\n -->\n<!-- Title: Tree Pages: 1 -->\n<svg width=\"6844pt\" height=\"790pt\"\n viewBox=\"0.00 0.00 6844.00 790.00\" xmlns=\"http://www.w3.org/2000/svg\" xmlns:xlink=\"http://www.w3.org/1999/xlink\">\n<g id=\"graph0\" class=\"graph\" transform=\"scale(1 1) rotate(0) translate(4 786)\">\n<title>Tree</title>\n<polygon fill=\"#ffffff\" stroke=\"transparent\" points=\"-4,4 -4,-786 6840,-786 6840,4 -4,4\"/>\n<!-- 0 -->\n<g id=\"node1\" class=\"node\">\n<title>0</title>\n<polygon fill=\"#eca26d\" stroke=\"#000000\" points=\"3928,-782 3788,-782 3788,-699 3928,-699 3928,-782\"/>\n<text text-anchor=\"middle\" x=\"3858\" y=\"-766.8\" font-family=\"Times,serif\" font-size=\"14.00\" fill=\"#000000\">Age &lt;= 41.5</text>\n<text text-anchor=\"middle\" x=\"3858\" y=\"-751.8\" font-family=\"Times,serif\" font-size=\"14.00\" fill=\"#000000\">entropy = 0.738</text>\n<text text-anchor=\"middle\" x=\"3858\" y=\"-736.8\" font-family=\"Times,serif\" font-size=\"14.00\" fill=\"#000000\">samples = 6700</text>\n<text text-anchor=\"middle\" x=\"3858\" y=\"-721.8\" font-family=\"Times,serif\" font-size=\"14.00\" fill=\"#000000\">value = [5306, 1394]</text>\n<text text-anchor=\"middle\" x=\"3858\" y=\"-706.8\" font-family=\"Times,serif\" font-size=\"14.00\" fill=\"#000000\">class = no</text>\n</g>\n<!-- 1 -->\n<g id=\"node2\" class=\"node\">\n<title>1</title>\n<polygon fill=\"#e89253\" stroke=\"#000000\" points=\"2843.5,-663 2674.5,-663 2674.5,-580 2843.5,-580 2843.5,-663\"/>\n<text text-anchor=\"middle\" x=\"2759\" y=\"-647.8\" font-family=\"Times,serif\" font-size=\"14.00\" fill=\"#000000\">NumOfProducts_2 &lt;= 0.5</text>\n<text text-anchor=\"middle\" x=\"2759\" y=\"-632.8\" font-family=\"Times,serif\" font-size=\"14.00\" fill=\"#000000\">entropy = 0.519</text>\n<text text-anchor=\"middle\" x=\"2759\" y=\"-617.8\" font-family=\"Times,serif\" font-size=\"14.00\" fill=\"#000000\">samples = 4540</text>\n<text text-anchor=\"middle\" x=\"2759\" y=\"-602.8\" font-family=\"Times,serif\" font-size=\"14.00\" fill=\"#000000\">value = [4012, 528]</text>\n<text text-anchor=\"middle\" x=\"2759\" y=\"-587.8\" font-family=\"Times,serif\" font-size=\"14.00\" fill=\"#000000\">class = no</text>\n</g>\n<!-- 0&#45;&gt;1 -->\n<g id=\"edge1\" class=\"edge\">\n<title>0&#45;&gt;1</title>\n<path fill=\"none\" stroke=\"#000000\" d=\"M3787.5808,-732.875C3596.8439,-712.222 3070.0642,-655.1821 2853.6742,-631.7513\"/>\n<polygon fill=\"#000000\" stroke=\"#000000\" points=\"2853.9258,-628.2582 2843.6071,-630.6613 2853.1722,-635.2175 2853.9258,-628.2582\"/>\n<text text-anchor=\"middle\" x=\"2859.279\" y=\"-646.4392\" font-family=\"Times,serif\" font-size=\"14.00\" fill=\"#000000\">True</text>\n</g>\n<!-- 58 -->\n<g id=\"node59\" class=\"node\">\n<title>58</title>\n<polygon fill=\"#f6d5be\" stroke=\"#000000\" points=\"4298.5,-663 4129.5,-663 4129.5,-580 4298.5,-580 4298.5,-663\"/>\n<text text-anchor=\"middle\" x=\"4214\" y=\"-647.8\" font-family=\"Times,serif\" font-size=\"14.00\" fill=\"#000000\">NumOfProducts_2 &lt;= 0.5</text>\n<text text-anchor=\"middle\" x=\"4214\" y=\"-632.8\" font-family=\"Times,serif\" font-size=\"14.00\" fill=\"#000000\">entropy = 0.971</text>\n<text text-anchor=\"middle\" x=\"4214\" y=\"-617.8\" font-family=\"Times,serif\" font-size=\"14.00\" fill=\"#000000\">samples = 2160</text>\n<text text-anchor=\"middle\" x=\"4214\" y=\"-602.8\" font-family=\"Times,serif\" font-size=\"14.00\" fill=\"#000000\">value = [1294, 866]</text>\n<text text-anchor=\"middle\" x=\"4214\" y=\"-587.8\" font-family=\"Times,serif\" font-size=\"14.00\" fill=\"#000000\">class = no</text>\n</g>\n<!-- 0&#45;&gt;58 -->\n<g id=\"edge58\" class=\"edge\">\n<title>0&#45;&gt;58</title>\n<path fill=\"none\" stroke=\"#000000\" d=\"M3928.3341,-716.9894C3983.1525,-698.6653 4059.7936,-673.0465 4119.8921,-652.9574\"/>\n<polygon fill=\"#000000\" stroke=\"#000000\" points=\"4121.0151,-656.2725 4129.3896,-649.7827 4118.7959,-649.6336 4121.0151,-656.2725\"/>\n<text text-anchor=\"middle\" x=\"4118.2282\" y=\"-668.4528\" font-family=\"Times,serif\" font-size=\"14.00\" fill=\"#000000\">False</text>\n</g>\n<!-- 2 -->\n<g id=\"node3\" class=\"node\">\n<title>2</title>\n<polygon fill=\"#eb9e67\" stroke=\"#000000\" points=\"1354.5,-544 1185.5,-544 1185.5,-461 1354.5,-461 1354.5,-544\"/>\n<text text-anchor=\"middle\" x=\"1270\" y=\"-528.8\" font-family=\"Times,serif\" font-size=\"14.00\" fill=\"#000000\">NumOfProducts_1 &lt;= 0.5</text>\n<text text-anchor=\"middle\" x=\"1270\" y=\"-513.8\" font-family=\"Times,serif\" font-size=\"14.00\" fill=\"#000000\">entropy = 0.698</text>\n<text text-anchor=\"middle\" x=\"1270\" y=\"-498.8\" font-family=\"Times,serif\" font-size=\"14.00\" fill=\"#000000\">samples = 2298</text>\n<text text-anchor=\"middle\" x=\"1270\" y=\"-483.8\" font-family=\"Times,serif\" font-size=\"14.00\" fill=\"#000000\">value = [1865, 433]</text>\n<text text-anchor=\"middle\" x=\"1270\" y=\"-468.8\" font-family=\"Times,serif\" font-size=\"14.00\" fill=\"#000000\">class = no</text>\n</g>\n<!-- 1&#45;&gt;2 -->\n<g id=\"edge2\" class=\"edge\">\n<title>1&#45;&gt;2</title>\n<path fill=\"none\" stroke=\"#000000\" d=\"M2674.4087,-614.7395C2415.8225,-594.0735 1636.9538,-531.8267 1364.9716,-510.0901\"/>\n<polygon fill=\"#000000\" stroke=\"#000000\" points=\"1364.9804,-506.5797 1354.7333,-509.2718 1364.4227,-513.5575 1364.9804,-506.5797\"/>\n</g>\n<!-- 31 -->\n<g id=\"node32\" class=\"node\">\n<title>31</title>\n<polygon fill=\"#e68742\" stroke=\"#000000\" points=\"2830,-544 2688,-544 2688,-461 2830,-461 2830,-544\"/>\n<text text-anchor=\"middle\" x=\"2759\" y=\"-528.8\" font-family=\"Times,serif\" font-size=\"14.00\" fill=\"#000000\">Balance &lt;= 1884.345</text>\n<text text-anchor=\"middle\" x=\"2759\" y=\"-513.8\" font-family=\"Times,serif\" font-size=\"14.00\" fill=\"#000000\">entropy = 0.253</text>\n<text text-anchor=\"middle\" x=\"2759\" y=\"-498.8\" font-family=\"Times,serif\" font-size=\"14.00\" fill=\"#000000\">samples = 2242</text>\n<text text-anchor=\"middle\" x=\"2759\" y=\"-483.8\" font-family=\"Times,serif\" font-size=\"14.00\" fill=\"#000000\">value = [2147, 95]</text>\n<text text-anchor=\"middle\" x=\"2759\" y=\"-468.8\" font-family=\"Times,serif\" font-size=\"14.00\" fill=\"#000000\">class = no</text>\n</g>\n<!-- 1&#45;&gt;31 -->\n<g id=\"edge31\" class=\"edge\">\n<title>1&#45;&gt;31</title>\n<path fill=\"none\" stroke=\"#000000\" d=\"M2759,-579.8796C2759,-571.6838 2759,-562.9891 2759,-554.5013\"/>\n<polygon fill=\"#000000\" stroke=\"#000000\" points=\"2762.5001,-554.298 2759,-544.2981 2755.5001,-554.2981 2762.5001,-554.298\"/>\n</g>\n<!-- 3 -->\n<g id=\"node4\" class=\"node\">\n<title>3</title>\n<polygon fill=\"#77bbed\" stroke=\"#000000\" points=\"784.5,-425 635.5,-425 635.5,-342 784.5,-342 784.5,-425\"/>\n<text text-anchor=\"middle\" x=\"710\" y=\"-409.8\" font-family=\"Times,serif\" font-size=\"14.00\" fill=\"#000000\">Balance &lt;= 86256.074</text>\n<text text-anchor=\"middle\" x=\"710\" y=\"-394.8\" font-family=\"Times,serif\" font-size=\"14.00\" fill=\"#000000\">entropy = 0.79</text>\n<text text-anchor=\"middle\" x=\"710\" y=\"-379.8\" font-family=\"Times,serif\" font-size=\"14.00\" fill=\"#000000\">samples = 97</text>\n<text text-anchor=\"middle\" x=\"710\" y=\"-364.8\" font-family=\"Times,serif\" font-size=\"14.00\" fill=\"#000000\">value = [23, 74]</text>\n<text text-anchor=\"middle\" x=\"710\" y=\"-349.8\" font-family=\"Times,serif\" font-size=\"14.00\" fill=\"#000000\">class = yes</text>\n</g>\n<!-- 2&#45;&gt;3 -->\n<g id=\"edge3\" class=\"edge\">\n<title>2&#45;&gt;3</title>\n<path fill=\"none\" stroke=\"#000000\" d=\"M1185.2522,-484.4911C1079.6546,-462.0516 900.2791,-423.9343 794.7025,-401.4993\"/>\n<polygon fill=\"#000000\" stroke=\"#000000\" points=\"795.2299,-398.0333 784.7208,-399.3782 793.7748,-404.8804 795.2299,-398.0333\"/>\n</g>\n<!-- 16 -->\n<g id=\"node17\" class=\"node\">\n<title>16</title>\n<polygon fill=\"#ea9a60\" stroke=\"#000000\" points=\"1362.5,-425 1177.5,-425 1177.5,-342 1362.5,-342 1362.5,-425\"/>\n<text text-anchor=\"middle\" x=\"1270\" y=\"-409.8\" font-family=\"Times,serif\" font-size=\"14.00\" fill=\"#000000\">Geography_Germany &lt;= 0.5</text>\n<text text-anchor=\"middle\" x=\"1270\" y=\"-394.8\" font-family=\"Times,serif\" font-size=\"14.00\" fill=\"#000000\">entropy = 0.642</text>\n<text text-anchor=\"middle\" x=\"1270\" y=\"-379.8\" font-family=\"Times,serif\" font-size=\"14.00\" fill=\"#000000\">samples = 2201</text>\n<text text-anchor=\"middle\" x=\"1270\" y=\"-364.8\" font-family=\"Times,serif\" font-size=\"14.00\" fill=\"#000000\">value = [1842, 359]</text>\n<text text-anchor=\"middle\" x=\"1270\" y=\"-349.8\" font-family=\"Times,serif\" font-size=\"14.00\" fill=\"#000000\">class = no</text>\n</g>\n<!-- 2&#45;&gt;16 -->\n<g id=\"edge16\" class=\"edge\">\n<title>2&#45;&gt;16</title>\n<path fill=\"none\" stroke=\"#000000\" d=\"M1270,-460.8796C1270,-452.6838 1270,-443.9891 1270,-435.5013\"/>\n<polygon fill=\"#000000\" stroke=\"#000000\" points=\"1273.5001,-435.298 1270,-425.2981 1266.5001,-435.2981 1273.5001,-435.298\"/>\n</g>\n<!-- 4 -->\n<g id=\"node5\" class=\"node\">\n<title>4</title>\n<polygon fill=\"#dbedfa\" stroke=\"#000000\" points=\"497,-306 293,-306 293,-223 497,-223 497,-306\"/>\n<text text-anchor=\"middle\" x=\"395\" y=\"-290.8\" font-family=\"Times,serif\" font-size=\"14.00\" fill=\"#000000\">EstimatedSalary &lt;= 130871.008</text>\n<text text-anchor=\"middle\" x=\"395\" y=\"-275.8\" font-family=\"Times,serif\" font-size=\"14.00\" fill=\"#000000\">entropy = 0.993</text>\n<text text-anchor=\"middle\" x=\"395\" y=\"-260.8\" font-family=\"Times,serif\" font-size=\"14.00\" fill=\"#000000\">samples = 40</text>\n<text text-anchor=\"middle\" x=\"395\" y=\"-245.8\" font-family=\"Times,serif\" font-size=\"14.00\" fill=\"#000000\">value = [18, 22]</text>\n<text text-anchor=\"middle\" x=\"395\" y=\"-230.8\" font-family=\"Times,serif\" font-size=\"14.00\" fill=\"#000000\">class = yes</text>\n</g>\n<!-- 3&#45;&gt;4 -->\n<g id=\"edge4\" class=\"edge\">\n<title>3&#45;&gt;4</title>\n<path fill=\"none\" stroke=\"#000000\" d=\"M635.3494,-355.2987C596.9544,-340.7939 549.3765,-322.82 506.709,-306.7012\"/>\n<polygon fill=\"#000000\" stroke=\"#000000\" points=\"507.7101,-303.338 497.1185,-303.0781 505.2363,-309.8863 507.7101,-303.338\"/>\n</g>\n<!-- 11 -->\n<g id=\"node12\" class=\"node\">\n<title>11</title>\n<polygon fill=\"#4ca6e8\" stroke=\"#000000\" points=\"812,-306 608,-306 608,-223 812,-223 812,-306\"/>\n<text text-anchor=\"middle\" x=\"710\" y=\"-290.8\" font-family=\"Times,serif\" font-size=\"14.00\" fill=\"#000000\">EstimatedSalary &lt;= 192625.797</text>\n<text text-anchor=\"middle\" x=\"710\" y=\"-275.8\" font-family=\"Times,serif\" font-size=\"14.00\" fill=\"#000000\">entropy = 0.429</text>\n<text text-anchor=\"middle\" x=\"710\" y=\"-260.8\" font-family=\"Times,serif\" font-size=\"14.00\" fill=\"#000000\">samples = 57</text>\n<text text-anchor=\"middle\" x=\"710\" y=\"-245.8\" font-family=\"Times,serif\" font-size=\"14.00\" fill=\"#000000\">value = [5, 52]</text>\n<text text-anchor=\"middle\" x=\"710\" y=\"-230.8\" font-family=\"Times,serif\" font-size=\"14.00\" fill=\"#000000\">class = yes</text>\n</g>\n<!-- 3&#45;&gt;11 -->\n<g id=\"edge11\" class=\"edge\">\n<title>3&#45;&gt;11</title>\n<path fill=\"none\" stroke=\"#000000\" d=\"M710,-341.8796C710,-333.6838 710,-324.9891 710,-316.5013\"/>\n<polygon fill=\"#000000\" stroke=\"#000000\" points=\"713.5001,-316.298 710,-306.2981 706.5001,-316.2981 713.5001,-316.298\"/>\n</g>\n<!-- 5 -->\n<g id=\"node6\" class=\"node\">\n<title>5</title>\n<polygon fill=\"#f7d8c1\" stroke=\"#000000\" points=\"238,-187 128,-187 128,-104 238,-104 238,-187\"/>\n<text text-anchor=\"middle\" x=\"183\" y=\"-171.8\" font-family=\"Times,serif\" font-size=\"14.00\" fill=\"#000000\">Age &lt;= 37.5</text>\n<text text-anchor=\"middle\" x=\"183\" y=\"-156.8\" font-family=\"Times,serif\" font-size=\"14.00\" fill=\"#000000\">entropy = 0.975</text>\n<text text-anchor=\"middle\" x=\"183\" y=\"-141.8\" font-family=\"Times,serif\" font-size=\"14.00\" fill=\"#000000\">samples = 27</text>\n<text text-anchor=\"middle\" x=\"183\" y=\"-126.8\" font-family=\"Times,serif\" font-size=\"14.00\" fill=\"#000000\">value = [16, 11]</text>\n<text text-anchor=\"middle\" x=\"183\" y=\"-111.8\" font-family=\"Times,serif\" font-size=\"14.00\" fill=\"#000000\">class = no</text>\n</g>\n<!-- 4&#45;&gt;5 -->\n<g id=\"edge5\" class=\"edge\">\n<title>4&#45;&gt;5</title>\n<path fill=\"none\" stroke=\"#000000\" d=\"M320.8527,-222.8796C296.7126,-209.3293 270.1428,-194.4151 246.826,-181.3269\"/>\n<polygon fill=\"#000000\" stroke=\"#000000\" points=\"248.4941,-178.2495 238.0608,-176.4067 245.0677,-184.3536 248.4941,-178.2495\"/>\n</g>\n<!-- 8 -->\n<g id=\"node9\" class=\"node\">\n<title>8</title>\n<polygon fill=\"#5dafea\" stroke=\"#000000\" points=\"497,-187 293,-187 293,-104 497,-104 497,-187\"/>\n<text text-anchor=\"middle\" x=\"395\" y=\"-171.8\" font-family=\"Times,serif\" font-size=\"14.00\" fill=\"#000000\">EstimatedSalary &lt;= 187696.617</text>\n<text text-anchor=\"middle\" x=\"395\" y=\"-156.8\" font-family=\"Times,serif\" font-size=\"14.00\" fill=\"#000000\">entropy = 0.619</text>\n<text text-anchor=\"middle\" x=\"395\" y=\"-141.8\" font-family=\"Times,serif\" font-size=\"14.00\" fill=\"#000000\">samples = 13</text>\n<text text-anchor=\"middle\" x=\"395\" y=\"-126.8\" font-family=\"Times,serif\" font-size=\"14.00\" fill=\"#000000\">value = [2, 11]</text>\n<text text-anchor=\"middle\" x=\"395\" y=\"-111.8\" font-family=\"Times,serif\" font-size=\"14.00\" fill=\"#000000\">class = yes</text>\n</g>\n<!-- 4&#45;&gt;8 -->\n<g id=\"edge8\" class=\"edge\">\n<title>4&#45;&gt;8</title>\n<path fill=\"none\" stroke=\"#000000\" d=\"M395,-222.8796C395,-214.6838 395,-205.9891 395,-197.5013\"/>\n<polygon fill=\"#000000\" stroke=\"#000000\" points=\"398.5001,-197.298 395,-187.2981 391.5001,-197.2981 398.5001,-197.298\"/>\n</g>\n<!-- 6 -->\n<g id=\"node7\" class=\"node\">\n<title>6</title>\n<polygon fill=\"#eca572\" stroke=\"#000000\" points=\"110,-68 0,-68 0,0 110,0 110,-68\"/>\n<text text-anchor=\"middle\" x=\"55\" y=\"-52.8\" font-family=\"Times,serif\" font-size=\"14.00\" fill=\"#000000\">entropy = 0.764</text>\n<text text-anchor=\"middle\" x=\"55\" y=\"-37.8\" font-family=\"Times,serif\" font-size=\"14.00\" fill=\"#000000\">samples = 18</text>\n<text text-anchor=\"middle\" x=\"55\" y=\"-22.8\" font-family=\"Times,serif\" font-size=\"14.00\" fill=\"#000000\">value = [14, 4]</text>\n<text text-anchor=\"middle\" x=\"55\" y=\"-7.8\" font-family=\"Times,serif\" font-size=\"14.00\" fill=\"#000000\">class = no</text>\n</g>\n<!-- 5&#45;&gt;6 -->\n<g id=\"edge6\" class=\"edge\">\n<title>5&#45;&gt;6</title>\n<path fill=\"none\" stroke=\"#000000\" d=\"M135.3375,-103.9815C124.4703,-94.5151 112.9295,-84.462 102.0865,-75.0168\"/>\n<polygon fill=\"#000000\" stroke=\"#000000\" points=\"104.1734,-72.1929 94.3341,-68.2637 99.5755,-77.4712 104.1734,-72.1929\"/>\n</g>\n<!-- 7 -->\n<g id=\"node8\" class=\"node\">\n<title>7</title>\n<polygon fill=\"#72b9ec\" stroke=\"#000000\" points=\"238,-68 128,-68 128,0 238,0 238,-68\"/>\n<text text-anchor=\"middle\" x=\"183\" y=\"-52.8\" font-family=\"Times,serif\" font-size=\"14.00\" fill=\"#000000\">entropy = 0.764</text>\n<text text-anchor=\"middle\" x=\"183\" y=\"-37.8\" font-family=\"Times,serif\" font-size=\"14.00\" fill=\"#000000\">samples = 9</text>\n<text text-anchor=\"middle\" x=\"183\" y=\"-22.8\" font-family=\"Times,serif\" font-size=\"14.00\" fill=\"#000000\">value = [2, 7]</text>\n<text text-anchor=\"middle\" x=\"183\" y=\"-7.8\" font-family=\"Times,serif\" font-size=\"14.00\" fill=\"#000000\">class = yes</text>\n</g>\n<!-- 5&#45;&gt;7 -->\n<g id=\"edge7\" class=\"edge\">\n<title>5&#45;&gt;7</title>\n<path fill=\"none\" stroke=\"#000000\" d=\"M183,-103.9815C183,-95.618 183,-86.7965 183,-78.3409\"/>\n<polygon fill=\"#000000\" stroke=\"#000000\" points=\"186.5001,-78.2636 183,-68.2637 179.5001,-78.2637 186.5001,-78.2636\"/>\n</g>\n<!-- 9 -->\n<g id=\"node10\" class=\"node\">\n<title>9</title>\n<polygon fill=\"#4ba6e7\" stroke=\"#000000\" points=\"366,-68 256,-68 256,0 366,0 366,-68\"/>\n<text text-anchor=\"middle\" x=\"311\" y=\"-52.8\" font-family=\"Times,serif\" font-size=\"14.00\" fill=\"#000000\">entropy = 0.414</text>\n<text text-anchor=\"middle\" x=\"311\" y=\"-37.8\" font-family=\"Times,serif\" font-size=\"14.00\" fill=\"#000000\">samples = 12</text>\n<text text-anchor=\"middle\" x=\"311\" y=\"-22.8\" font-family=\"Times,serif\" font-size=\"14.00\" fill=\"#000000\">value = [1, 11]</text>\n<text text-anchor=\"middle\" x=\"311\" y=\"-7.8\" font-family=\"Times,serif\" font-size=\"14.00\" fill=\"#000000\">class = yes</text>\n</g>\n<!-- 8&#45;&gt;9 -->\n<g id=\"edge9\" class=\"edge\">\n<title>8&#45;&gt;9</title>\n<path fill=\"none\" stroke=\"#000000\" d=\"M363.7215,-103.9815C356.9361,-94.9747 349.7505,-85.4367 342.9399,-76.3965\"/>\n<polygon fill=\"#000000\" stroke=\"#000000\" points=\"345.6257,-74.1448 336.813,-68.2637 340.0347,-78.3568 345.6257,-74.1448\"/>\n</g>\n<!-- 10 -->\n<g id=\"node11\" class=\"node\">\n<title>10</title>\n<polygon fill=\"#e58139\" stroke=\"#000000\" points=\"479.5,-68 384.5,-68 384.5,0 479.5,0 479.5,-68\"/>\n<text text-anchor=\"middle\" x=\"432\" y=\"-52.8\" font-family=\"Times,serif\" font-size=\"14.00\" fill=\"#000000\">entropy = 0.0</text>\n<text text-anchor=\"middle\" x=\"432\" y=\"-37.8\" font-family=\"Times,serif\" font-size=\"14.00\" fill=\"#000000\">samples = 1</text>\n<text text-anchor=\"middle\" x=\"432\" y=\"-22.8\" font-family=\"Times,serif\" font-size=\"14.00\" fill=\"#000000\">value = [1, 0]</text>\n<text text-anchor=\"middle\" x=\"432\" y=\"-7.8\" font-family=\"Times,serif\" font-size=\"14.00\" fill=\"#000000\">class = no</text>\n</g>\n<!-- 8&#45;&gt;10 -->\n<g id=\"edge10\" class=\"edge\">\n<title>8&#45;&gt;10</title>\n<path fill=\"none\" stroke=\"#000000\" d=\"M408.7774,-103.9815C411.6138,-95.4342 414.6088,-86.4086 417.4708,-77.7839\"/>\n<polygon fill=\"#000000\" stroke=\"#000000\" points=\"420.8023,-78.8571 420.63,-68.2637 414.1585,-76.6524 420.8023,-78.8571\"/>\n</g>\n<!-- 12 -->\n<g id=\"node13\" class=\"node\">\n<title>12</title>\n<polygon fill=\"#44a3e6\" stroke=\"#000000\" points=\"711.5,-187 574.5,-187 574.5,-104 711.5,-104 711.5,-187\"/>\n<text text-anchor=\"middle\" x=\"643\" y=\"-171.8\" font-family=\"Times,serif\" font-size=\"14.00\" fill=\"#000000\">Gender_Male &lt;= 0.5</text>\n<text text-anchor=\"middle\" x=\"643\" y=\"-156.8\" font-family=\"Times,serif\" font-size=\"14.00\" fill=\"#000000\">entropy = 0.305</text>\n<text text-anchor=\"middle\" x=\"643\" y=\"-141.8\" font-family=\"Times,serif\" font-size=\"14.00\" fill=\"#000000\">samples = 55</text>\n<text text-anchor=\"middle\" x=\"643\" y=\"-126.8\" font-family=\"Times,serif\" font-size=\"14.00\" fill=\"#000000\">value = [3, 52]</text>\n<text text-anchor=\"middle\" x=\"643\" y=\"-111.8\" font-family=\"Times,serif\" font-size=\"14.00\" fill=\"#000000\">class = yes</text>\n</g>\n<!-- 11&#45;&gt;12 -->\n<g id=\"edge12\" class=\"edge\">\n<title>11&#45;&gt;12</title>\n<path fill=\"none\" stroke=\"#000000\" d=\"M686.5667,-222.8796C681.6987,-214.2335 676.5181,-205.0322 671.4914,-196.1042\"/>\n<polygon fill=\"#000000\" stroke=\"#000000\" points=\"674.4893,-194.2947 666.5334,-187.2981 668.3897,-197.729 674.4893,-194.2947\"/>\n</g>\n<!-- 15 -->\n<g id=\"node16\" class=\"node\">\n<title>15</title>\n<polygon fill=\"#e58139\" stroke=\"#000000\" points=\"824.5,-179.5 729.5,-179.5 729.5,-111.5 824.5,-111.5 824.5,-179.5\"/>\n<text text-anchor=\"middle\" x=\"777\" y=\"-164.3\" font-family=\"Times,serif\" font-size=\"14.00\" fill=\"#000000\">entropy = 0.0</text>\n<text text-anchor=\"middle\" x=\"777\" y=\"-149.3\" font-family=\"Times,serif\" font-size=\"14.00\" fill=\"#000000\">samples = 2</text>\n<text text-anchor=\"middle\" x=\"777\" y=\"-134.3\" font-family=\"Times,serif\" font-size=\"14.00\" fill=\"#000000\">value = [2, 0]</text>\n<text text-anchor=\"middle\" x=\"777\" y=\"-119.3\" font-family=\"Times,serif\" font-size=\"14.00\" fill=\"#000000\">class = no</text>\n</g>\n<!-- 11&#45;&gt;15 -->\n<g id=\"edge15\" class=\"edge\">\n<title>11&#45;&gt;15</title>\n<path fill=\"none\" stroke=\"#000000\" d=\"M733.4333,-222.8796C739.6863,-211.7735 746.4552,-199.7513 752.751,-188.5691\"/>\n<polygon fill=\"#000000\" stroke=\"#000000\" points=\"755.8235,-190.2459 757.6798,-179.8149 749.7239,-186.8116 755.8235,-190.2459\"/>\n</g>\n<!-- 13 -->\n<g id=\"node14\" class=\"node\">\n<title>13</title>\n<polygon fill=\"#399de5\" stroke=\"#000000\" points=\"600,-68 498,-68 498,0 600,0 600,-68\"/>\n<text text-anchor=\"middle\" x=\"549\" y=\"-52.8\" font-family=\"Times,serif\" font-size=\"14.00\" fill=\"#000000\">entropy = 0.0</text>\n<text text-anchor=\"middle\" x=\"549\" y=\"-37.8\" font-family=\"Times,serif\" font-size=\"14.00\" fill=\"#000000\">samples = 35</text>\n<text text-anchor=\"middle\" x=\"549\" y=\"-22.8\" font-family=\"Times,serif\" font-size=\"14.00\" fill=\"#000000\">value = [0, 35]</text>\n<text text-anchor=\"middle\" x=\"549\" y=\"-7.8\" font-family=\"Times,serif\" font-size=\"14.00\" fill=\"#000000\">class = yes</text>\n</g>\n<!-- 12&#45;&gt;13 -->\n<g id=\"edge13\" class=\"edge\">\n<title>12&#45;&gt;13</title>\n<path fill=\"none\" stroke=\"#000000\" d=\"M607.9979,-103.9815C600.3272,-94.8828 592.1995,-85.242 584.5091,-76.1199\"/>\n<polygon fill=\"#000000\" stroke=\"#000000\" points=\"587.0075,-73.6533 577.886,-68.2637 581.6556,-78.1652 587.0075,-73.6533\"/>\n</g>\n<!-- 14 -->\n<g id=\"node15\" class=\"node\">\n<title>14</title>\n<polygon fill=\"#5caeea\" stroke=\"#000000\" points=\"721.5,-68 618.5,-68 618.5,0 721.5,0 721.5,-68\"/>\n<text text-anchor=\"middle\" x=\"670\" y=\"-52.8\" font-family=\"Times,serif\" font-size=\"14.00\" fill=\"#000000\">entropy = 0.61</text>\n<text text-anchor=\"middle\" x=\"670\" y=\"-37.8\" font-family=\"Times,serif\" font-size=\"14.00\" fill=\"#000000\">samples = 20</text>\n<text text-anchor=\"middle\" x=\"670\" y=\"-22.8\" font-family=\"Times,serif\" font-size=\"14.00\" fill=\"#000000\">value = [3, 17]</text>\n<text text-anchor=\"middle\" x=\"670\" y=\"-7.8\" font-family=\"Times,serif\" font-size=\"14.00\" fill=\"#000000\">class = yes</text>\n</g>\n<!-- 12&#45;&gt;14 -->\n<g id=\"edge14\" class=\"edge\">\n<title>12&#45;&gt;14</title>\n<path fill=\"none\" stroke=\"#000000\" d=\"M653.0538,-103.9815C655.1013,-95.5261 657.2621,-86.6026 659.3302,-78.0623\"/>\n<polygon fill=\"#000000\" stroke=\"#000000\" points=\"662.7511,-78.8065 661.703,-68.2637 655.9477,-77.159 662.7511,-78.8065\"/>\n</g>\n<!-- 17 -->\n<g id=\"node18\" class=\"node\">\n<title>17</title>\n<polygon fill=\"#e99457\" stroke=\"#000000\" points=\"1206,-306 1064,-306 1064,-223 1206,-223 1206,-306\"/>\n<text text-anchor=\"middle\" x=\"1135\" y=\"-290.8\" font-family=\"Times,serif\" font-size=\"14.00\" fill=\"#000000\">Balance &lt;= 75122.84</text>\n<text text-anchor=\"middle\" x=\"1135\" y=\"-275.8\" font-family=\"Times,serif\" font-size=\"14.00\" fill=\"#000000\">entropy = 0.559</text>\n<text text-anchor=\"middle\" x=\"1135\" y=\"-260.8\" font-family=\"Times,serif\" font-size=\"14.00\" fill=\"#000000\">samples = 1677</text>\n<text text-anchor=\"middle\" x=\"1135\" y=\"-245.8\" font-family=\"Times,serif\" font-size=\"14.00\" fill=\"#000000\">value = [1458, 219]</text>\n<text text-anchor=\"middle\" x=\"1135\" y=\"-230.8\" font-family=\"Times,serif\" font-size=\"14.00\" fill=\"#000000\">class = no</text>\n</g>\n<!-- 16&#45;&gt;17 -->\n<g id=\"edge17\" class=\"edge\">\n<title>16&#45;&gt;17</title>\n<path fill=\"none\" stroke=\"#000000\" d=\"M1222.7836,-341.8796C1212.2598,-332.6031 1201.0109,-322.6874 1190.1979,-313.1559\"/>\n<polygon fill=\"#000000\" stroke=\"#000000\" points=\"1192.234,-310.2851 1182.418,-306.2981 1187.6052,-315.5362 1192.234,-310.2851\"/>\n</g>\n<!-- 24 -->\n<g id=\"node25\" class=\"node\">\n<title>24</title>\n<polygon fill=\"#eeaf81\" stroke=\"#000000\" points=\"1429.5,-306 1304.5,-306 1304.5,-223 1429.5,-223 1429.5,-306\"/>\n<text text-anchor=\"middle\" x=\"1367\" y=\"-290.8\" font-family=\"Times,serif\" font-size=\"14.00\" fill=\"#000000\">Age &lt;= 32.5</text>\n<text text-anchor=\"middle\" x=\"1367\" y=\"-275.8\" font-family=\"Times,serif\" font-size=\"14.00\" fill=\"#000000\">entropy = 0.837</text>\n<text text-anchor=\"middle\" x=\"1367\" y=\"-260.8\" font-family=\"Times,serif\" font-size=\"14.00\" fill=\"#000000\">samples = 524</text>\n<text text-anchor=\"middle\" x=\"1367\" y=\"-245.8\" font-family=\"Times,serif\" font-size=\"14.00\" fill=\"#000000\">value = [384, 140]</text>\n<text text-anchor=\"middle\" x=\"1367\" y=\"-230.8\" font-family=\"Times,serif\" font-size=\"14.00\" fill=\"#000000\">class = no</text>\n</g>\n<!-- 16&#45;&gt;24 -->\n<g id=\"edge24\" class=\"edge\">\n<title>16&#45;&gt;24</title>\n<path fill=\"none\" stroke=\"#000000\" d=\"M1303.9259,-341.8796C1311.1938,-332.9633 1318.943,-323.4565 1326.4328,-314.268\"/>\n<polygon fill=\"#000000\" stroke=\"#000000\" points=\"1329.324,-316.2606 1332.9293,-306.2981 1323.8982,-311.8379 1329.324,-316.2606\"/>\n</g>\n<!-- 18 -->\n<g id=\"node19\" class=\"node\">\n<title>18</title>\n<polygon fill=\"#eda876\" stroke=\"#000000\" points=\"989.5,-187 864.5,-187 864.5,-104 989.5,-104 989.5,-187\"/>\n<text text-anchor=\"middle\" x=\"927\" y=\"-171.8\" font-family=\"Times,serif\" font-size=\"14.00\" fill=\"#000000\">Age &lt;= 30.5</text>\n<text text-anchor=\"middle\" x=\"927\" y=\"-156.8\" font-family=\"Times,serif\" font-size=\"14.00\" fill=\"#000000\">entropy = 0.786</text>\n<text text-anchor=\"middle\" x=\"927\" y=\"-141.8\" font-family=\"Times,serif\" font-size=\"14.00\" fill=\"#000000\">samples = 460</text>\n<text text-anchor=\"middle\" x=\"927\" y=\"-126.8\" font-family=\"Times,serif\" font-size=\"14.00\" fill=\"#000000\">value = [352, 108]</text>\n<text text-anchor=\"middle\" x=\"927\" y=\"-111.8\" font-family=\"Times,serif\" font-size=\"14.00\" fill=\"#000000\">class = no</text>\n</g>\n<!-- 17&#45;&gt;18 -->\n<g id=\"edge18\" class=\"edge\">\n<title>17&#45;&gt;18</title>\n<path fill=\"none\" stroke=\"#000000\" d=\"M1064,-223.8798C1042.8898,-211.8023 1019.7558,-198.567 998.6072,-186.4676\"/>\n<polygon fill=\"#000000\" stroke=\"#000000\" points=\"1000.0948,-183.2863 989.6768,-181.3584 996.6186,-189.3622 1000.0948,-183.2863\"/>\n</g>\n<!-- 21 -->\n<g id=\"node22\" class=\"node\">\n<title>21</title>\n<polygon fill=\"#e88e4d\" stroke=\"#000000\" points=\"1200,-187 1070,-187 1070,-104 1200,-104 1200,-187\"/>\n<text text-anchor=\"middle\" x=\"1135\" y=\"-171.8\" font-family=\"Times,serif\" font-size=\"14.00\" fill=\"#000000\">Age &lt;= 39.5</text>\n<text text-anchor=\"middle\" x=\"1135\" y=\"-156.8\" font-family=\"Times,serif\" font-size=\"14.00\" fill=\"#000000\">entropy = 0.44</text>\n<text text-anchor=\"middle\" x=\"1135\" y=\"-141.8\" font-family=\"Times,serif\" font-size=\"14.00\" fill=\"#000000\">samples = 1217</text>\n<text text-anchor=\"middle\" x=\"1135\" y=\"-126.8\" font-family=\"Times,serif\" font-size=\"14.00\" fill=\"#000000\">value = [1106, 111]</text>\n<text text-anchor=\"middle\" x=\"1135\" y=\"-111.8\" font-family=\"Times,serif\" font-size=\"14.00\" fill=\"#000000\">class = no</text>\n</g>\n<!-- 17&#45;&gt;21 -->\n<g id=\"edge21\" class=\"edge\">\n<title>17&#45;&gt;21</title>\n<path fill=\"none\" stroke=\"#000000\" d=\"M1135,-222.8796C1135,-214.6838 1135,-205.9891 1135,-197.5013\"/>\n<polygon fill=\"#000000\" stroke=\"#000000\" points=\"1138.5001,-197.298 1135,-187.2981 1131.5001,-197.2981 1138.5001,-197.298\"/>\n</g>\n<!-- 19 -->\n<g id=\"node20\" class=\"node\">\n<title>19</title>\n<polygon fill=\"#e9965a\" stroke=\"#000000\" points=\"850,-68 740,-68 740,0 850,0 850,-68\"/>\n<text text-anchor=\"middle\" x=\"795\" y=\"-52.8\" font-family=\"Times,serif\" font-size=\"14.00\" fill=\"#000000\">entropy = 0.592</text>\n<text text-anchor=\"middle\" x=\"795\" y=\"-37.8\" font-family=\"Times,serif\" font-size=\"14.00\" fill=\"#000000\">samples = 112</text>\n<text text-anchor=\"middle\" x=\"795\" y=\"-22.8\" font-family=\"Times,serif\" font-size=\"14.00\" fill=\"#000000\">value = [96, 16]</text>\n<text text-anchor=\"middle\" x=\"795\" y=\"-7.8\" font-family=\"Times,serif\" font-size=\"14.00\" fill=\"#000000\">class = no</text>\n</g>\n<!-- 18&#45;&gt;19 -->\n<g id=\"edge19\" class=\"edge\">\n<title>18&#45;&gt;19</title>\n<path fill=\"none\" stroke=\"#000000\" d=\"M877.8481,-103.9815C866.5324,-94.4232 854.5087,-84.2668 843.2325,-74.7419\"/>\n<polygon fill=\"#000000\" stroke=\"#000000\" points=\"845.4612,-72.0429 835.5633,-68.2637 840.9441,-77.3904 845.4612,-72.0429\"/>\n</g>\n<!-- 20 -->\n<g id=\"node21\" class=\"node\">\n<title>20</title>\n<polygon fill=\"#eeae80\" stroke=\"#000000\" points=\"985.5,-68 868.5,-68 868.5,0 985.5,0 985.5,-68\"/>\n<text text-anchor=\"middle\" x=\"927\" y=\"-52.8\" font-family=\"Times,serif\" font-size=\"14.00\" fill=\"#000000\">entropy = 0.833</text>\n<text text-anchor=\"middle\" x=\"927\" y=\"-37.8\" font-family=\"Times,serif\" font-size=\"14.00\" fill=\"#000000\">samples = 348</text>\n<text text-anchor=\"middle\" x=\"927\" y=\"-22.8\" font-family=\"Times,serif\" font-size=\"14.00\" fill=\"#000000\">value = [256, 92]</text>\n<text text-anchor=\"middle\" x=\"927\" y=\"-7.8\" font-family=\"Times,serif\" font-size=\"14.00\" fill=\"#000000\">class = no</text>\n</g>\n<!-- 18&#45;&gt;20 -->\n<g id=\"edge20\" class=\"edge\">\n<title>18&#45;&gt;20</title>\n<path fill=\"none\" stroke=\"#000000\" d=\"M927,-103.9815C927,-95.618 927,-86.7965 927,-78.3409\"/>\n<polygon fill=\"#000000\" stroke=\"#000000\" points=\"930.5001,-78.2636 927,-68.2637 923.5001,-78.2637 930.5001,-78.2636\"/>\n</g>\n<!-- 22 -->\n<g id=\"node23\" class=\"node\">\n<title>22</title>\n<polygon fill=\"#e78b49\" stroke=\"#000000\" points=\"1120.5,-68 1003.5,-68 1003.5,0 1120.5,0 1120.5,-68\"/>\n<text text-anchor=\"middle\" x=\"1062\" y=\"-52.8\" font-family=\"Times,serif\" font-size=\"14.00\" fill=\"#000000\">entropy = 0.377</text>\n<text text-anchor=\"middle\" x=\"1062\" y=\"-37.8\" font-family=\"Times,serif\" font-size=\"14.00\" fill=\"#000000\">samples = 1068</text>\n<text text-anchor=\"middle\" x=\"1062\" y=\"-22.8\" font-family=\"Times,serif\" font-size=\"14.00\" fill=\"#000000\">value = [990, 78]</text>\n<text text-anchor=\"middle\" x=\"1062\" y=\"-7.8\" font-family=\"Times,serif\" font-size=\"14.00\" fill=\"#000000\">class = no</text>\n</g>\n<!-- 21&#45;&gt;22 -->\n<g id=\"edge22\" class=\"edge\">\n<title>21&#45;&gt;22</title>\n<path fill=\"none\" stroke=\"#000000\" d=\"M1107.8175,-103.9815C1101.9808,-95.0666 1095.8034,-85.6313 1089.9386,-76.6734\"/>\n<polygon fill=\"#000000\" stroke=\"#000000\" points=\"1092.8386,-74.7129 1084.4327,-68.2637 1086.9821,-78.5472 1092.8386,-74.7129\"/>\n</g>\n<!-- 23 -->\n<g id=\"node24\" class=\"node\">\n<title>23</title>\n<polygon fill=\"#eca571\" stroke=\"#000000\" points=\"1255,-68 1139,-68 1139,0 1255,0 1255,-68\"/>\n<text text-anchor=\"middle\" x=\"1197\" y=\"-52.8\" font-family=\"Times,serif\" font-size=\"14.00\" fill=\"#000000\">entropy = 0.763</text>\n<text text-anchor=\"middle\" x=\"1197\" y=\"-37.8\" font-family=\"Times,serif\" font-size=\"14.00\" fill=\"#000000\">samples = 149</text>\n<text text-anchor=\"middle\" x=\"1197\" y=\"-22.8\" font-family=\"Times,serif\" font-size=\"14.00\" fill=\"#000000\">value = [116, 33]</text>\n<text text-anchor=\"middle\" x=\"1197\" y=\"-7.8\" font-family=\"Times,serif\" font-size=\"14.00\" fill=\"#000000\">class = no</text>\n</g>\n<!-- 21&#45;&gt;23 -->\n<g id=\"edge23\" class=\"edge\">\n<title>21&#45;&gt;23</title>\n<path fill=\"none\" stroke=\"#000000\" d=\"M1158.0865,-103.9815C1162.9415,-95.2504 1168.074,-86.0202 1172.9629,-77.2281\"/>\n<polygon fill=\"#000000\" stroke=\"#000000\" points=\"1176.1467,-78.7043 1177.9476,-68.2637 1170.0288,-75.3025 1176.1467,-78.7043\"/>\n</g>\n<!-- 25 -->\n<g id=\"node26\" class=\"node\">\n<title>25</title>\n<polygon fill=\"#ea995e\" stroke=\"#000000\" points=\"1452,-187 1282,-187 1282,-104 1452,-104 1452,-187\"/>\n<text text-anchor=\"middle\" x=\"1367\" y=\"-171.8\" font-family=\"Times,serif\" font-size=\"14.00\" fill=\"#000000\">IsActiveMember_0 &lt;= 0.5</text>\n<text text-anchor=\"middle\" x=\"1367\" y=\"-156.8\" font-family=\"Times,serif\" font-size=\"14.00\" fill=\"#000000\">entropy = 0.628</text>\n<text text-anchor=\"middle\" x=\"1367\" y=\"-141.8\" font-family=\"Times,serif\" font-size=\"14.00\" fill=\"#000000\">samples = 216</text>\n<text text-anchor=\"middle\" x=\"1367\" y=\"-126.8\" font-family=\"Times,serif\" font-size=\"14.00\" fill=\"#000000\">value = [182, 34]</text>\n<text text-anchor=\"middle\" x=\"1367\" y=\"-111.8\" font-family=\"Times,serif\" font-size=\"14.00\" fill=\"#000000\">class = no</text>\n</g>\n<!-- 24&#45;&gt;25 -->\n<g id=\"edge25\" class=\"edge\">\n<title>24&#45;&gt;25</title>\n<path fill=\"none\" stroke=\"#000000\" d=\"M1367,-222.8796C1367,-214.6838 1367,-205.9891 1367,-197.5013\"/>\n<polygon fill=\"#000000\" stroke=\"#000000\" points=\"1370.5001,-197.298 1367,-187.2981 1363.5001,-197.2981 1370.5001,-197.298\"/>\n</g>\n<!-- 28 -->\n<g id=\"node29\" class=\"node\">\n<title>28</title>\n<polygon fill=\"#f3c3a1\" stroke=\"#000000\" points=\"1658.5,-187 1509.5,-187 1509.5,-104 1658.5,-104 1658.5,-187\"/>\n<text text-anchor=\"middle\" x=\"1584\" y=\"-171.8\" font-family=\"Times,serif\" font-size=\"14.00\" fill=\"#000000\">Balance &lt;= 91065.738</text>\n<text text-anchor=\"middle\" x=\"1584\" y=\"-156.8\" font-family=\"Times,serif\" font-size=\"14.00\" fill=\"#000000\">entropy = 0.929</text>\n<text text-anchor=\"middle\" x=\"1584\" y=\"-141.8\" font-family=\"Times,serif\" font-size=\"14.00\" fill=\"#000000\">samples = 308</text>\n<text text-anchor=\"middle\" x=\"1584\" y=\"-126.8\" font-family=\"Times,serif\" font-size=\"14.00\" fill=\"#000000\">value = [202, 106]</text>\n<text text-anchor=\"middle\" x=\"1584\" y=\"-111.8\" font-family=\"Times,serif\" font-size=\"14.00\" fill=\"#000000\">class = no</text>\n</g>\n<!-- 24&#45;&gt;28 -->\n<g id=\"edge28\" class=\"edge\">\n<title>24&#45;&gt;28</title>\n<path fill=\"none\" stroke=\"#000000\" d=\"M1429.7654,-230.0803C1451.853,-217.9677 1477.0357,-204.1579 1500.5565,-191.2593\"/>\n<polygon fill=\"#000000\" stroke=\"#000000\" points=\"1502.3947,-194.2431 1509.4799,-186.3659 1499.0288,-188.1054 1502.3947,-194.2431\"/>\n</g>\n<!-- 26 -->\n<g id=\"node27\" class=\"node\">\n<title>26</title>\n<polygon fill=\"#e78a47\" stroke=\"#000000\" points=\"1383,-68 1273,-68 1273,0 1383,0 1383,-68\"/>\n<text text-anchor=\"middle\" x=\"1328\" y=\"-52.8\" font-family=\"Times,serif\" font-size=\"14.00\" fill=\"#000000\">entropy = 0.344</text>\n<text text-anchor=\"middle\" x=\"1328\" y=\"-37.8\" font-family=\"Times,serif\" font-size=\"14.00\" fill=\"#000000\">samples = 109</text>\n<text text-anchor=\"middle\" x=\"1328\" y=\"-22.8\" font-family=\"Times,serif\" font-size=\"14.00\" fill=\"#000000\">value = [102, 7]</text>\n<text text-anchor=\"middle\" x=\"1328\" y=\"-7.8\" font-family=\"Times,serif\" font-size=\"14.00\" fill=\"#000000\">class = no</text>\n</g>\n<!-- 25&#45;&gt;26 -->\n<g id=\"edge26\" class=\"edge\">\n<title>25&#45;&gt;26</title>\n<path fill=\"none\" stroke=\"#000000\" d=\"M1352.4778,-103.9815C1349.4882,-95.4342 1346.3312,-86.4086 1343.3146,-77.7839\"/>\n<polygon fill=\"#000000\" stroke=\"#000000\" points=\"1346.59,-76.5473 1339.9846,-68.2637 1339.9826,-78.8585 1346.59,-76.5473\"/>\n</g>\n<!-- 27 -->\n<g id=\"node28\" class=\"node\">\n<title>27</title>\n<polygon fill=\"#eeac7c\" stroke=\"#000000\" points=\"1511,-68 1401,-68 1401,0 1511,0 1511,-68\"/>\n<text text-anchor=\"middle\" x=\"1456\" y=\"-52.8\" font-family=\"Times,serif\" font-size=\"14.00\" fill=\"#000000\">entropy = 0.815</text>\n<text text-anchor=\"middle\" x=\"1456\" y=\"-37.8\" font-family=\"Times,serif\" font-size=\"14.00\" fill=\"#000000\">samples = 107</text>\n<text text-anchor=\"middle\" x=\"1456\" y=\"-22.8\" font-family=\"Times,serif\" font-size=\"14.00\" fill=\"#000000\">value = [80, 27]</text>\n<text text-anchor=\"middle\" x=\"1456\" y=\"-7.8\" font-family=\"Times,serif\" font-size=\"14.00\" fill=\"#000000\">class = no</text>\n</g>\n<!-- 25&#45;&gt;27 -->\n<g id=\"edge27\" class=\"edge\">\n<title>25&#45;&gt;27</title>\n<path fill=\"none\" stroke=\"#000000\" d=\"M1400.1403,-103.9815C1407.403,-94.8828 1415.0983,-85.242 1422.3796,-76.1199\"/>\n<polygon fill=\"#000000\" stroke=\"#000000\" points=\"1425.1475,-78.2627 1428.6505,-68.2637 1419.6766,-73.8958 1425.1475,-78.2627\"/>\n</g>\n<!-- 29 -->\n<g id=\"node30\" class=\"node\">\n<title>29</title>\n<polygon fill=\"#e89051\" stroke=\"#000000\" points=\"1639,-68 1529,-68 1529,0 1639,0 1639,-68\"/>\n<text text-anchor=\"middle\" x=\"1584\" y=\"-52.8\" font-family=\"Times,serif\" font-size=\"14.00\" fill=\"#000000\">entropy = 0.489</text>\n<text text-anchor=\"middle\" x=\"1584\" y=\"-37.8\" font-family=\"Times,serif\" font-size=\"14.00\" fill=\"#000000\">samples = 47</text>\n<text text-anchor=\"middle\" x=\"1584\" y=\"-22.8\" font-family=\"Times,serif\" font-size=\"14.00\" fill=\"#000000\">value = [42, 5]</text>\n<text text-anchor=\"middle\" x=\"1584\" y=\"-7.8\" font-family=\"Times,serif\" font-size=\"14.00\" fill=\"#000000\">class = no</text>\n</g>\n<!-- 28&#45;&gt;29 -->\n<g id=\"edge29\" class=\"edge\">\n<title>28&#45;&gt;29</title>\n<path fill=\"none\" stroke=\"#000000\" d=\"M1584,-103.9815C1584,-95.618 1584,-86.7965 1584,-78.3409\"/>\n<polygon fill=\"#000000\" stroke=\"#000000\" points=\"1587.5001,-78.2636 1584,-68.2637 1580.5001,-78.2637 1587.5001,-78.2636\"/>\n</g>\n<!-- 30 -->\n<g id=\"node31\" class=\"node\">\n<title>30</title>\n<polygon fill=\"#f5d1b6\" stroke=\"#000000\" points=\"1782.5,-68 1657.5,-68 1657.5,0 1782.5,0 1782.5,-68\"/>\n<text text-anchor=\"middle\" x=\"1720\" y=\"-52.8\" font-family=\"Times,serif\" font-size=\"14.00\" fill=\"#000000\">entropy = 0.963</text>\n<text text-anchor=\"middle\" x=\"1720\" y=\"-37.8\" font-family=\"Times,serif\" font-size=\"14.00\" fill=\"#000000\">samples = 261</text>\n<text text-anchor=\"middle\" x=\"1720\" y=\"-22.8\" font-family=\"Times,serif\" font-size=\"14.00\" fill=\"#000000\">value = [160, 101]</text>\n<text text-anchor=\"middle\" x=\"1720\" y=\"-7.8\" font-family=\"Times,serif\" font-size=\"14.00\" fill=\"#000000\">class = no</text>\n</g>\n<!-- 28&#45;&gt;30 -->\n<g id=\"edge30\" class=\"edge\">\n<title>28&#45;&gt;30</title>\n<path fill=\"none\" stroke=\"#000000\" d=\"M1634.6414,-103.9815C1646.2999,-94.4232 1658.688,-84.2668 1670.3059,-74.7419\"/>\n<polygon fill=\"#000000\" stroke=\"#000000\" points=\"1672.6933,-77.3105 1678.2075,-68.2637 1668.2552,-71.8972 1672.6933,-77.3105\"/>\n</g>\n<!-- 32 -->\n<g id=\"node33\" class=\"node\">\n<title>32</title>\n<polygon fill=\"#e6833d\" stroke=\"#000000\" points=\"2544,-425 2394,-425 2394,-342 2544,-342 2544,-425\"/>\n<text text-anchor=\"middle\" x=\"2469\" y=\"-409.8\" font-family=\"Times,serif\" font-size=\"14.00\" fill=\"#000000\">Gender_Female &lt;= 0.5</text>\n<text text-anchor=\"middle\" x=\"2469\" y=\"-394.8\" font-family=\"Times,serif\" font-size=\"14.00\" fill=\"#000000\">entropy = 0.135</text>\n<text text-anchor=\"middle\" x=\"2469\" y=\"-379.8\" font-family=\"Times,serif\" font-size=\"14.00\" fill=\"#000000\">samples = 1321</text>\n<text text-anchor=\"middle\" x=\"2469\" y=\"-364.8\" font-family=\"Times,serif\" font-size=\"14.00\" fill=\"#000000\">value = [1296, 25]</text>\n<text text-anchor=\"middle\" x=\"2469\" y=\"-349.8\" font-family=\"Times,serif\" font-size=\"14.00\" fill=\"#000000\">class = no</text>\n</g>\n<!-- 31&#45;&gt;32 -->\n<g id=\"edge32\" class=\"edge\">\n<title>31&#45;&gt;32</title>\n<path fill=\"none\" stroke=\"#000000\" d=\"M2687.6866,-473.2369C2647.1485,-456.6023 2596.1451,-435.6733 2553.5932,-418.2124\"/>\n<polygon fill=\"#000000\" stroke=\"#000000\" points=\"2554.6719,-414.8719 2544.0918,-414.3135 2552.0145,-421.3478 2554.6719,-414.8719\"/>\n</g>\n<!-- 45 -->\n<g id=\"node46\" class=\"node\">\n<title>45</title>\n<polygon fill=\"#e78b49\" stroke=\"#000000\" points=\"2916,-425 2746,-425 2746,-342 2916,-342 2916,-425\"/>\n<text text-anchor=\"middle\" x=\"2831\" y=\"-409.8\" font-family=\"Times,serif\" font-size=\"14.00\" fill=\"#000000\">IsActiveMember_1 &lt;= 0.5</text>\n<text text-anchor=\"middle\" x=\"2831\" y=\"-394.8\" font-family=\"Times,serif\" font-size=\"14.00\" fill=\"#000000\">entropy = 0.388</text>\n<text text-anchor=\"middle\" x=\"2831\" y=\"-379.8\" font-family=\"Times,serif\" font-size=\"14.00\" fill=\"#000000\">samples = 921</text>\n<text text-anchor=\"middle\" x=\"2831\" y=\"-364.8\" font-family=\"Times,serif\" font-size=\"14.00\" fill=\"#000000\">value = [851, 70]</text>\n<text text-anchor=\"middle\" x=\"2831\" y=\"-349.8\" font-family=\"Times,serif\" font-size=\"14.00\" fill=\"#000000\">class = no</text>\n</g>\n<!-- 31&#45;&gt;45 -->\n<g id=\"edge45\" class=\"edge\">\n<title>31&#45;&gt;45</title>\n<path fill=\"none\" stroke=\"#000000\" d=\"M2784.1821,-460.8796C2789.4133,-452.2335 2794.9805,-443.0322 2800.3823,-434.1042\"/>\n<polygon fill=\"#000000\" stroke=\"#000000\" points=\"2803.5283,-435.6658 2805.7104,-425.2981 2797.5392,-432.0421 2803.5283,-435.6658\"/>\n</g>\n<!-- 33 -->\n<g id=\"node34\" class=\"node\">\n<title>33</title>\n<polygon fill=\"#e5823b\" stroke=\"#000000\" points=\"2219,-306 2109,-306 2109,-223 2219,-223 2219,-306\"/>\n<text text-anchor=\"middle\" x=\"2164\" y=\"-290.8\" font-family=\"Times,serif\" font-size=\"14.00\" fill=\"#000000\">Age &lt;= 39.5</text>\n<text text-anchor=\"middle\" x=\"2164\" y=\"-275.8\" font-family=\"Times,serif\" font-size=\"14.00\" fill=\"#000000\">entropy = 0.085</text>\n<text text-anchor=\"middle\" x=\"2164\" y=\"-260.8\" font-family=\"Times,serif\" font-size=\"14.00\" fill=\"#000000\">samples = 751</text>\n<text text-anchor=\"middle\" x=\"2164\" y=\"-245.8\" font-family=\"Times,serif\" font-size=\"14.00\" fill=\"#000000\">value = [743, 8]</text>\n<text text-anchor=\"middle\" x=\"2164\" y=\"-230.8\" font-family=\"Times,serif\" font-size=\"14.00\" fill=\"#000000\">class = no</text>\n</g>\n<!-- 32&#45;&gt;33 -->\n<g id=\"edge33\" class=\"edge\">\n<title>32&#45;&gt;33</title>\n<path fill=\"none\" stroke=\"#000000\" d=\"M2393.998,-354.2369C2343.233,-334.4303 2276.8634,-308.5352 2228.4743,-289.6556\"/>\n<polygon fill=\"#000000\" stroke=\"#000000\" points=\"2229.6345,-286.3513 2219.0462,-285.9771 2227.0901,-292.8725 2229.6345,-286.3513\"/>\n</g>\n<!-- 40 -->\n<g id=\"node41\" class=\"node\">\n<title>40</title>\n<polygon fill=\"#e6853f\" stroke=\"#000000\" points=\"2527.5,-306 2410.5,-306 2410.5,-223 2527.5,-223 2527.5,-306\"/>\n<text text-anchor=\"middle\" x=\"2469\" y=\"-290.8\" font-family=\"Times,serif\" font-size=\"14.00\" fill=\"#000000\">Tenure &lt;= 8.5</text>\n<text text-anchor=\"middle\" x=\"2469\" y=\"-275.8\" font-family=\"Times,serif\" font-size=\"14.00\" fill=\"#000000\">entropy = 0.194</text>\n<text text-anchor=\"middle\" x=\"2469\" y=\"-260.8\" font-family=\"Times,serif\" font-size=\"14.00\" fill=\"#000000\">samples = 570</text>\n<text text-anchor=\"middle\" x=\"2469\" y=\"-245.8\" font-family=\"Times,serif\" font-size=\"14.00\" fill=\"#000000\">value = [553, 17]</text>\n<text text-anchor=\"middle\" x=\"2469\" y=\"-230.8\" font-family=\"Times,serif\" font-size=\"14.00\" fill=\"#000000\">class = no</text>\n</g>\n<!-- 32&#45;&gt;40 -->\n<g id=\"edge40\" class=\"edge\">\n<title>32&#45;&gt;40</title>\n<path fill=\"none\" stroke=\"#000000\" d=\"M2469,-341.8796C2469,-333.6838 2469,-324.9891 2469,-316.5013\"/>\n<polygon fill=\"#000000\" stroke=\"#000000\" points=\"2472.5001,-316.298 2469,-306.2981 2465.5001,-316.2981 2472.5001,-316.298\"/>\n</g>\n<!-- 34 -->\n<g id=\"node35\" class=\"node\">\n<title>34</title>\n<polygon fill=\"#e5823a\" stroke=\"#000000\" points=\"2039,-187 1929,-187 1929,-104 2039,-104 2039,-187\"/>\n<text text-anchor=\"middle\" x=\"1984\" y=\"-171.8\" font-family=\"Times,serif\" font-size=\"14.00\" fill=\"#000000\">Age &lt;= 18.5</text>\n<text text-anchor=\"middle\" x=\"1984\" y=\"-156.8\" font-family=\"Times,serif\" font-size=\"14.00\" fill=\"#000000\">entropy = 0.063</text>\n<text text-anchor=\"middle\" x=\"1984\" y=\"-141.8\" font-family=\"Times,serif\" font-size=\"14.00\" fill=\"#000000\">samples = 676</text>\n<text text-anchor=\"middle\" x=\"1984\" y=\"-126.8\" font-family=\"Times,serif\" font-size=\"14.00\" fill=\"#000000\">value = [671, 5]</text>\n<text text-anchor=\"middle\" x=\"1984\" y=\"-111.8\" font-family=\"Times,serif\" font-size=\"14.00\" fill=\"#000000\">class = no</text>\n</g>\n<!-- 33&#45;&gt;34 -->\n<g id=\"edge34\" class=\"edge\">\n<title>33&#45;&gt;34</title>\n<path fill=\"none\" stroke=\"#000000\" d=\"M2108.5253,-227.8251C2089.2733,-215.0973 2067.5369,-200.7272 2047.6758,-187.5968\"/>\n<polygon fill=\"#000000\" stroke=\"#000000\" points=\"2049.5636,-184.6491 2039.2915,-182.0538 2045.7031,-190.4884 2049.5636,-184.6491\"/>\n</g>\n<!-- 37 -->\n<g id=\"node38\" class=\"node\">\n<title>37</title>\n<polygon fill=\"#e68641\" stroke=\"#000000\" points=\"2266,-187 2062,-187 2062,-104 2266,-104 2266,-187\"/>\n<text text-anchor=\"middle\" x=\"2164\" y=\"-171.8\" font-family=\"Times,serif\" font-size=\"14.00\" fill=\"#000000\">EstimatedSalary &lt;= 134215.328</text>\n<text text-anchor=\"middle\" x=\"2164\" y=\"-156.8\" font-family=\"Times,serif\" font-size=\"14.00\" fill=\"#000000\">entropy = 0.242</text>\n<text text-anchor=\"middle\" x=\"2164\" y=\"-141.8\" font-family=\"Times,serif\" font-size=\"14.00\" fill=\"#000000\">samples = 75</text>\n<text text-anchor=\"middle\" x=\"2164\" y=\"-126.8\" font-family=\"Times,serif\" font-size=\"14.00\" fill=\"#000000\">value = [72, 3]</text>\n<text text-anchor=\"middle\" x=\"2164\" y=\"-111.8\" font-family=\"Times,serif\" font-size=\"14.00\" fill=\"#000000\">class = no</text>\n</g>\n<!-- 33&#45;&gt;37 -->\n<g id=\"edge37\" class=\"edge\">\n<title>33&#45;&gt;37</title>\n<path fill=\"none\" stroke=\"#000000\" d=\"M2164,-222.8796C2164,-214.6838 2164,-205.9891 2164,-197.5013\"/>\n<polygon fill=\"#000000\" stroke=\"#000000\" points=\"2167.5001,-197.298 2164,-187.2981 2160.5001,-197.2981 2167.5001,-197.298\"/>\n</g>\n<!-- 35 -->\n<g id=\"node36\" class=\"node\">\n<title>35</title>\n<polygon fill=\"#eca06a\" stroke=\"#000000\" points=\"1911,-68 1801,-68 1801,0 1911,0 1911,-68\"/>\n<text text-anchor=\"middle\" x=\"1856\" y=\"-52.8\" font-family=\"Times,serif\" font-size=\"14.00\" fill=\"#000000\">entropy = 0.722</text>\n<text text-anchor=\"middle\" x=\"1856\" y=\"-37.8\" font-family=\"Times,serif\" font-size=\"14.00\" fill=\"#000000\">samples = 5</text>\n<text text-anchor=\"middle\" x=\"1856\" y=\"-22.8\" font-family=\"Times,serif\" font-size=\"14.00\" fill=\"#000000\">value = [4, 1]</text>\n<text text-anchor=\"middle\" x=\"1856\" y=\"-7.8\" font-family=\"Times,serif\" font-size=\"14.00\" fill=\"#000000\">class = no</text>\n</g>\n<!-- 34&#45;&gt;35 -->\n<g id=\"edge35\" class=\"edge\">\n<title>34&#45;&gt;35</title>\n<path fill=\"none\" stroke=\"#000000\" d=\"M1936.3375,-103.9815C1925.4703,-94.5151 1913.9295,-84.462 1903.0865,-75.0168\"/>\n<polygon fill=\"#000000\" stroke=\"#000000\" points=\"1905.1734,-72.1929 1895.3341,-68.2637 1900.5755,-77.4712 1905.1734,-72.1929\"/>\n</g>\n<!-- 36 -->\n<g id=\"node37\" class=\"node\">\n<title>36</title>\n<polygon fill=\"#e5823a\" stroke=\"#000000\" points=\"2039,-68 1929,-68 1929,0 2039,0 2039,-68\"/>\n<text text-anchor=\"middle\" x=\"1984\" y=\"-52.8\" font-family=\"Times,serif\" font-size=\"14.00\" fill=\"#000000\">entropy = 0.053</text>\n<text text-anchor=\"middle\" x=\"1984\" y=\"-37.8\" font-family=\"Times,serif\" font-size=\"14.00\" fill=\"#000000\">samples = 671</text>\n<text text-anchor=\"middle\" x=\"1984\" y=\"-22.8\" font-family=\"Times,serif\" font-size=\"14.00\" fill=\"#000000\">value = [667, 4]</text>\n<text text-anchor=\"middle\" x=\"1984\" y=\"-7.8\" font-family=\"Times,serif\" font-size=\"14.00\" fill=\"#000000\">class = no</text>\n</g>\n<!-- 34&#45;&gt;36 -->\n<g id=\"edge36\" class=\"edge\">\n<title>34&#45;&gt;36</title>\n<path fill=\"none\" stroke=\"#000000\" d=\"M1984,-103.9815C1984,-95.618 1984,-86.7965 1984,-78.3409\"/>\n<polygon fill=\"#000000\" stroke=\"#000000\" points=\"1987.5001,-78.2636 1984,-68.2637 1980.5001,-78.2637 1987.5001,-78.2636\"/>\n</g>\n<!-- 38 -->\n<g id=\"node39\" class=\"node\">\n<title>38</title>\n<polygon fill=\"#e78a47\" stroke=\"#000000\" points=\"2167,-68 2057,-68 2057,0 2167,0 2167,-68\"/>\n<text text-anchor=\"middle\" x=\"2112\" y=\"-52.8\" font-family=\"Times,serif\" font-size=\"14.00\" fill=\"#000000\">entropy = 0.353</text>\n<text text-anchor=\"middle\" x=\"2112\" y=\"-37.8\" font-family=\"Times,serif\" font-size=\"14.00\" fill=\"#000000\">samples = 45</text>\n<text text-anchor=\"middle\" x=\"2112\" y=\"-22.8\" font-family=\"Times,serif\" font-size=\"14.00\" fill=\"#000000\">value = [42, 3]</text>\n<text text-anchor=\"middle\" x=\"2112\" y=\"-7.8\" font-family=\"Times,serif\" font-size=\"14.00\" fill=\"#000000\">class = no</text>\n</g>\n<!-- 37&#45;&gt;38 -->\n<g id=\"edge38\" class=\"edge\">\n<title>37&#45;&gt;38</title>\n<path fill=\"none\" stroke=\"#000000\" d=\"M2144.6371,-103.9815C2140.6081,-95.3423 2136.3511,-86.2144 2132.2897,-77.5059\"/>\n<polygon fill=\"#000000\" stroke=\"#000000\" points=\"2135.3782,-75.8472 2127.9795,-68.2637 2129.0341,-78.8059 2135.3782,-75.8472\"/>\n</g>\n<!-- 39 -->\n<g id=\"node40\" class=\"node\">\n<title>39</title>\n<polygon fill=\"#e58139\" stroke=\"#000000\" points=\"2287,-68 2185,-68 2185,0 2287,0 2287,-68\"/>\n<text text-anchor=\"middle\" x=\"2236\" y=\"-52.8\" font-family=\"Times,serif\" font-size=\"14.00\" fill=\"#000000\">entropy = 0.0</text>\n<text text-anchor=\"middle\" x=\"2236\" y=\"-37.8\" font-family=\"Times,serif\" font-size=\"14.00\" fill=\"#000000\">samples = 30</text>\n<text text-anchor=\"middle\" x=\"2236\" y=\"-22.8\" font-family=\"Times,serif\" font-size=\"14.00\" fill=\"#000000\">value = [30, 0]</text>\n<text text-anchor=\"middle\" x=\"2236\" y=\"-7.8\" font-family=\"Times,serif\" font-size=\"14.00\" fill=\"#000000\">class = no</text>\n</g>\n<!-- 37&#45;&gt;39 -->\n<g id=\"edge39\" class=\"edge\">\n<title>37&#45;&gt;39</title>\n<path fill=\"none\" stroke=\"#000000\" d=\"M2190.8101,-103.9815C2196.5669,-95.0666 2202.6596,-85.6313 2208.4441,-76.6734\"/>\n<polygon fill=\"#000000\" stroke=\"#000000\" points=\"2211.3901,-78.5631 2213.8746,-68.2637 2205.5096,-74.7658 2211.3901,-78.5631\"/>\n</g>\n<!-- 41 -->\n<g id=\"node42\" class=\"node\">\n<title>41</title>\n<polygon fill=\"#e68640\" stroke=\"#000000\" points=\"2470,-187 2328,-187 2328,-104 2470,-104 2470,-187\"/>\n<text text-anchor=\"middle\" x=\"2399\" y=\"-171.8\" font-family=\"Times,serif\" font-size=\"14.00\" fill=\"#000000\">CreditScore &lt;= 587.0</text>\n<text text-anchor=\"middle\" x=\"2399\" y=\"-156.8\" font-family=\"Times,serif\" font-size=\"14.00\" fill=\"#000000\">entropy = 0.217</text>\n<text text-anchor=\"middle\" x=\"2399\" y=\"-141.8\" font-family=\"Times,serif\" font-size=\"14.00\" fill=\"#000000\">samples = 491</text>\n<text text-anchor=\"middle\" x=\"2399\" y=\"-126.8\" font-family=\"Times,serif\" font-size=\"14.00\" fill=\"#000000\">value = [474, 17]</text>\n<text text-anchor=\"middle\" x=\"2399\" y=\"-111.8\" font-family=\"Times,serif\" font-size=\"14.00\" fill=\"#000000\">class = no</text>\n</g>\n<!-- 40&#45;&gt;41 -->\n<g id=\"edge41\" class=\"edge\">\n<title>40&#45;&gt;41</title>\n<path fill=\"none\" stroke=\"#000000\" d=\"M2444.5174,-222.8796C2439.4315,-214.2335 2434.0189,-205.0322 2428.7672,-196.1042\"/>\n<polygon fill=\"#000000\" stroke=\"#000000\" points=\"2431.6741,-194.1428 2423.5871,-187.2981 2425.6406,-197.692 2431.6741,-194.1428\"/>\n</g>\n<!-- 44 -->\n<g id=\"node45\" class=\"node\">\n<title>44</title>\n<polygon fill=\"#e58139\" stroke=\"#000000\" points=\"2590,-179.5 2488,-179.5 2488,-111.5 2590,-111.5 2590,-179.5\"/>\n<text text-anchor=\"middle\" x=\"2539\" y=\"-164.3\" font-family=\"Times,serif\" font-size=\"14.00\" fill=\"#000000\">entropy = 0.0</text>\n<text text-anchor=\"middle\" x=\"2539\" y=\"-149.3\" font-family=\"Times,serif\" font-size=\"14.00\" fill=\"#000000\">samples = 79</text>\n<text text-anchor=\"middle\" x=\"2539\" y=\"-134.3\" font-family=\"Times,serif\" font-size=\"14.00\" fill=\"#000000\">value = [79, 0]</text>\n<text text-anchor=\"middle\" x=\"2539\" y=\"-119.3\" font-family=\"Times,serif\" font-size=\"14.00\" fill=\"#000000\">class = no</text>\n</g>\n<!-- 40&#45;&gt;44 -->\n<g id=\"edge44\" class=\"edge\">\n<title>40&#45;&gt;44</title>\n<path fill=\"none\" stroke=\"#000000\" d=\"M2493.4826,-222.8796C2500.0156,-211.7735 2507.0875,-199.7513 2513.6652,-188.5691\"/>\n<polygon fill=\"#000000\" stroke=\"#000000\" points=\"2516.7613,-190.2089 2518.8147,-179.8149 2510.7277,-186.6597 2516.7613,-190.2089\"/>\n</g>\n<!-- 42 -->\n<g id=\"node43\" class=\"node\">\n<title>42</title>\n<polygon fill=\"#e5823b\" stroke=\"#000000\" points=\"2415,-68 2305,-68 2305,0 2415,0 2415,-68\"/>\n<text text-anchor=\"middle\" x=\"2360\" y=\"-52.8\" font-family=\"Times,serif\" font-size=\"14.00\" fill=\"#000000\">entropy = 0.065</text>\n<text text-anchor=\"middle\" x=\"2360\" y=\"-37.8\" font-family=\"Times,serif\" font-size=\"14.00\" fill=\"#000000\">samples = 129</text>\n<text text-anchor=\"middle\" x=\"2360\" y=\"-22.8\" font-family=\"Times,serif\" font-size=\"14.00\" fill=\"#000000\">value = [128, 1]</text>\n<text text-anchor=\"middle\" x=\"2360\" y=\"-7.8\" font-family=\"Times,serif\" font-size=\"14.00\" fill=\"#000000\">class = no</text>\n</g>\n<!-- 41&#45;&gt;42 -->\n<g id=\"edge42\" class=\"edge\">\n<title>41&#45;&gt;42</title>\n<path fill=\"none\" stroke=\"#000000\" d=\"M2384.4778,-103.9815C2381.4882,-95.4342 2378.3312,-86.4086 2375.3146,-77.7839\"/>\n<polygon fill=\"#000000\" stroke=\"#000000\" points=\"2378.59,-76.5473 2371.9846,-68.2637 2371.9826,-78.8585 2378.59,-76.5473\"/>\n</g>\n<!-- 43 -->\n<g id=\"node44\" class=\"node\">\n<title>43</title>\n<polygon fill=\"#e68742\" stroke=\"#000000\" points=\"2550.5,-68 2433.5,-68 2433.5,0 2550.5,0 2550.5,-68\"/>\n<text text-anchor=\"middle\" x=\"2492\" y=\"-52.8\" font-family=\"Times,serif\" font-size=\"14.00\" fill=\"#000000\">entropy = 0.261</text>\n<text text-anchor=\"middle\" x=\"2492\" y=\"-37.8\" font-family=\"Times,serif\" font-size=\"14.00\" fill=\"#000000\">samples = 362</text>\n<text text-anchor=\"middle\" x=\"2492\" y=\"-22.8\" font-family=\"Times,serif\" font-size=\"14.00\" fill=\"#000000\">value = [346, 16]</text>\n<text text-anchor=\"middle\" x=\"2492\" y=\"-7.8\" font-family=\"Times,serif\" font-size=\"14.00\" fill=\"#000000\">class = no</text>\n</g>\n<!-- 41&#45;&gt;43 -->\n<g id=\"edge43\" class=\"edge\">\n<title>41&#45;&gt;43</title>\n<path fill=\"none\" stroke=\"#000000\" d=\"M2433.6298,-103.9815C2441.2189,-94.8828 2449.26,-85.242 2456.8686,-76.1199\"/>\n<polygon fill=\"#000000\" stroke=\"#000000\" points=\"2459.7039,-78.1849 2463.4213,-68.2637 2454.3283,-73.7012 2459.7039,-78.1849\"/>\n</g>\n<!-- 46 -->\n<g id=\"node47\" class=\"node\">\n<title>46</title>\n<polygon fill=\"#e89051\" stroke=\"#000000\" points=\"2889.5,-306 2772.5,-306 2772.5,-223 2889.5,-223 2889.5,-306\"/>\n<text text-anchor=\"middle\" x=\"2831\" y=\"-290.8\" font-family=\"Times,serif\" font-size=\"14.00\" fill=\"#000000\">Age &lt;= 34.5</text>\n<text text-anchor=\"middle\" x=\"2831\" y=\"-275.8\" font-family=\"Times,serif\" font-size=\"14.00\" fill=\"#000000\">entropy = 0.494</text>\n<text text-anchor=\"middle\" x=\"2831\" y=\"-260.8\" font-family=\"Times,serif\" font-size=\"14.00\" fill=\"#000000\">samples = 444</text>\n<text text-anchor=\"middle\" x=\"2831\" y=\"-245.8\" font-family=\"Times,serif\" font-size=\"14.00\" fill=\"#000000\">value = [396, 48]</text>\n<text text-anchor=\"middle\" x=\"2831\" y=\"-230.8\" font-family=\"Times,serif\" font-size=\"14.00\" fill=\"#000000\">class = no</text>\n</g>\n<!-- 45&#45;&gt;46 -->\n<g id=\"edge46\" class=\"edge\">\n<title>45&#45;&gt;46</title>\n<path fill=\"none\" stroke=\"#000000\" d=\"M2831,-341.8796C2831,-333.6838 2831,-324.9891 2831,-316.5013\"/>\n<polygon fill=\"#000000\" stroke=\"#000000\" points=\"2834.5001,-316.298 2831,-306.2981 2827.5001,-316.2981 2834.5001,-316.298\"/>\n</g>\n<!-- 53 -->\n<g id=\"node54\" class=\"node\">\n<title>53</title>\n<polygon fill=\"#e68743\" stroke=\"#000000\" points=\"3205.5,-306 3056.5,-306 3056.5,-223 3205.5,-223 3205.5,-306\"/>\n<text text-anchor=\"middle\" x=\"3131\" y=\"-290.8\" font-family=\"Times,serif\" font-size=\"14.00\" fill=\"#000000\">Balance &lt;= 208650.93</text>\n<text text-anchor=\"middle\" x=\"3131\" y=\"-275.8\" font-family=\"Times,serif\" font-size=\"14.00\" fill=\"#000000\">entropy = 0.27</text>\n<text text-anchor=\"middle\" x=\"3131\" y=\"-260.8\" font-family=\"Times,serif\" font-size=\"14.00\" fill=\"#000000\">samples = 477</text>\n<text text-anchor=\"middle\" x=\"3131\" y=\"-245.8\" font-family=\"Times,serif\" font-size=\"14.00\" fill=\"#000000\">value = [455, 22]</text>\n<text text-anchor=\"middle\" x=\"3131\" y=\"-230.8\" font-family=\"Times,serif\" font-size=\"14.00\" fill=\"#000000\">class = no</text>\n</g>\n<!-- 45&#45;&gt;53 -->\n<g id=\"edge53\" class=\"edge\">\n<title>45&#45;&gt;53</title>\n<path fill=\"none\" stroke=\"#000000\" d=\"M2916.1655,-349.7177C2957.1466,-333.4618 3006.1228,-314.0346 3046.9564,-297.8373\"/>\n<polygon fill=\"#000000\" stroke=\"#000000\" points=\"3048.3378,-301.0547 3056.3427,-294.1141 3045.7567,-294.5479 3048.3378,-301.0547\"/>\n</g>\n<!-- 47 -->\n<g id=\"node48\" class=\"node\">\n<title>47</title>\n<polygon fill=\"#e78a47\" stroke=\"#000000\" points=\"2832,-187 2628,-187 2628,-104 2832,-104 2832,-187\"/>\n<text text-anchor=\"middle\" x=\"2730\" y=\"-171.8\" font-family=\"Times,serif\" font-size=\"14.00\" fill=\"#000000\">EstimatedSalary &lt;= 168481.891</text>\n<text text-anchor=\"middle\" x=\"2730\" y=\"-156.8\" font-family=\"Times,serif\" font-size=\"14.00\" fill=\"#000000\">entropy = 0.347</text>\n<text text-anchor=\"middle\" x=\"2730\" y=\"-141.8\" font-family=\"Times,serif\" font-size=\"14.00\" fill=\"#000000\">samples = 231</text>\n<text text-anchor=\"middle\" x=\"2730\" y=\"-126.8\" font-family=\"Times,serif\" font-size=\"14.00\" fill=\"#000000\">value = [216, 15]</text>\n<text text-anchor=\"middle\" x=\"2730\" y=\"-111.8\" font-family=\"Times,serif\" font-size=\"14.00\" fill=\"#000000\">class = no</text>\n</g>\n<!-- 46&#45;&gt;47 -->\n<g id=\"edge47\" class=\"edge\">\n<title>46&#45;&gt;47</title>\n<path fill=\"none\" stroke=\"#000000\" d=\"M2795.6751,-222.8796C2788.0311,-213.8733 2779.8757,-204.2644 2772.0039,-194.9897\"/>\n<polygon fill=\"#000000\" stroke=\"#000000\" points=\"2774.6151,-192.6574 2765.4757,-187.2981 2769.2782,-197.1871 2774.6151,-192.6574\"/>\n</g>\n<!-- 50 -->\n<g id=\"node51\" class=\"node\">\n<title>50</title>\n<polygon fill=\"#ea985d\" stroke=\"#000000\" points=\"2992,-187 2850,-187 2850,-104 2992,-104 2992,-187\"/>\n<text text-anchor=\"middle\" x=\"2921\" y=\"-171.8\" font-family=\"Times,serif\" font-size=\"14.00\" fill=\"#000000\">CreditScore &lt;= 436.5</text>\n<text text-anchor=\"middle\" x=\"2921\" y=\"-156.8\" font-family=\"Times,serif\" font-size=\"14.00\" fill=\"#000000\">entropy = 0.622</text>\n<text text-anchor=\"middle\" x=\"2921\" y=\"-141.8\" font-family=\"Times,serif\" font-size=\"14.00\" fill=\"#000000\">samples = 213</text>\n<text text-anchor=\"middle\" x=\"2921\" y=\"-126.8\" font-family=\"Times,serif\" font-size=\"14.00\" fill=\"#000000\">value = [180, 33]</text>\n<text text-anchor=\"middle\" x=\"2921\" y=\"-111.8\" font-family=\"Times,serif\" font-size=\"14.00\" fill=\"#000000\">class = no</text>\n</g>\n<!-- 46&#45;&gt;50 -->\n<g id=\"edge50\" class=\"edge\">\n<title>46&#45;&gt;50</title>\n<path fill=\"none\" stroke=\"#000000\" d=\"M2862.4776,-222.8796C2869.1529,-214.0534 2876.2658,-204.6485 2883.1496,-195.5466\"/>\n<polygon fill=\"#000000\" stroke=\"#000000\" points=\"2886.1474,-197.3852 2889.388,-187.2981 2880.5643,-193.1626 2886.1474,-197.3852\"/>\n</g>\n<!-- 48 -->\n<g id=\"node49\" class=\"node\">\n<title>48</title>\n<polygon fill=\"#e78b49\" stroke=\"#000000\" points=\"2685.5,-68 2568.5,-68 2568.5,0 2685.5,0 2685.5,-68\"/>\n<text text-anchor=\"middle\" x=\"2627\" y=\"-52.8\" font-family=\"Times,serif\" font-size=\"14.00\" fill=\"#000000\">entropy = 0.386</text>\n<text text-anchor=\"middle\" x=\"2627\" y=\"-37.8\" font-family=\"Times,serif\" font-size=\"14.00\" fill=\"#000000\">samples = 199</text>\n<text text-anchor=\"middle\" x=\"2627\" y=\"-22.8\" font-family=\"Times,serif\" font-size=\"14.00\" fill=\"#000000\">value = [184, 15]</text>\n<text text-anchor=\"middle\" x=\"2627\" y=\"-7.8\" font-family=\"Times,serif\" font-size=\"14.00\" fill=\"#000000\">class = no</text>\n</g>\n<!-- 47&#45;&gt;48 -->\n<g id=\"edge48\" class=\"edge\">\n<title>47&#45;&gt;48</title>\n<path fill=\"none\" stroke=\"#000000\" d=\"M2691.6466,-103.9815C2683.1566,-94.7908 2674.1557,-85.0472 2665.6537,-75.8436\"/>\n<polygon fill=\"#000000\" stroke=\"#000000\" points=\"2668.0081,-73.2343 2658.6516,-68.2637 2662.8663,-77.9842 2668.0081,-73.2343\"/>\n</g>\n<!-- 49 -->\n<g id=\"node50\" class=\"node\">\n<title>49</title>\n<polygon fill=\"#e58139\" stroke=\"#000000\" points=\"2806,-68 2704,-68 2704,0 2806,0 2806,-68\"/>\n<text text-anchor=\"middle\" x=\"2755\" y=\"-52.8\" font-family=\"Times,serif\" font-size=\"14.00\" fill=\"#000000\">entropy = 0.0</text>\n<text text-anchor=\"middle\" x=\"2755\" y=\"-37.8\" font-family=\"Times,serif\" font-size=\"14.00\" fill=\"#000000\">samples = 32</text>\n<text text-anchor=\"middle\" x=\"2755\" y=\"-22.8\" font-family=\"Times,serif\" font-size=\"14.00\" fill=\"#000000\">value = [32, 0]</text>\n<text text-anchor=\"middle\" x=\"2755\" y=\"-7.8\" font-family=\"Times,serif\" font-size=\"14.00\" fill=\"#000000\">class = no</text>\n</g>\n<!-- 47&#45;&gt;49 -->\n<g id=\"edge49\" class=\"edge\">\n<title>47&#45;&gt;49</title>\n<path fill=\"none\" stroke=\"#000000\" d=\"M2739.3091,-103.9815C2741.2049,-95.5261 2743.2057,-86.6026 2745.1206,-78.0623\"/>\n<polygon fill=\"#000000\" stroke=\"#000000\" points=\"2748.5449,-78.7872 2747.3176,-68.2637 2741.7144,-77.2556 2748.5449,-78.7872\"/>\n</g>\n<!-- 51 -->\n<g id=\"node52\" class=\"node\">\n<title>51</title>\n<polygon fill=\"#399de5\" stroke=\"#000000\" points=\"2919.5,-68 2824.5,-68 2824.5,0 2919.5,0 2919.5,-68\"/>\n<text text-anchor=\"middle\" x=\"2872\" y=\"-52.8\" font-family=\"Times,serif\" font-size=\"14.00\" fill=\"#000000\">entropy = 0.0</text>\n<text text-anchor=\"middle\" x=\"2872\" y=\"-37.8\" font-family=\"Times,serif\" font-size=\"14.00\" fill=\"#000000\">samples = 2</text>\n<text text-anchor=\"middle\" x=\"2872\" y=\"-22.8\" font-family=\"Times,serif\" font-size=\"14.00\" fill=\"#000000\">value = [0, 2]</text>\n<text text-anchor=\"middle\" x=\"2872\" y=\"-7.8\" font-family=\"Times,serif\" font-size=\"14.00\" fill=\"#000000\">class = yes</text>\n</g>\n<!-- 50&#45;&gt;51 -->\n<g id=\"edge51\" class=\"edge\">\n<title>50&#45;&gt;51</title>\n<path fill=\"none\" stroke=\"#000000\" d=\"M2902.7542,-103.9815C2898.9576,-95.3423 2894.9462,-86.2144 2891.1192,-77.5059\"/>\n<polygon fill=\"#000000\" stroke=\"#000000\" points=\"2894.2851,-76.0105 2887.0576,-68.2637 2887.8767,-78.8268 2894.2851,-76.0105\"/>\n</g>\n<!-- 52 -->\n<g id=\"node53\" class=\"node\">\n<title>52</title>\n<polygon fill=\"#e9975b\" stroke=\"#000000\" points=\"3054.5,-68 2937.5,-68 2937.5,0 3054.5,0 3054.5,-68\"/>\n<text text-anchor=\"middle\" x=\"2996\" y=\"-52.8\" font-family=\"Times,serif\" font-size=\"14.00\" fill=\"#000000\">entropy = 0.602</text>\n<text text-anchor=\"middle\" x=\"2996\" y=\"-37.8\" font-family=\"Times,serif\" font-size=\"14.00\" fill=\"#000000\">samples = 211</text>\n<text text-anchor=\"middle\" x=\"2996\" y=\"-22.8\" font-family=\"Times,serif\" font-size=\"14.00\" fill=\"#000000\">value = [180, 31]</text>\n<text text-anchor=\"middle\" x=\"2996\" y=\"-7.8\" font-family=\"Times,serif\" font-size=\"14.00\" fill=\"#000000\">class = no</text>\n</g>\n<!-- 50&#45;&gt;52 -->\n<g id=\"edge52\" class=\"edge\">\n<title>50&#45;&gt;52</title>\n<path fill=\"none\" stroke=\"#000000\" d=\"M2948.9272,-103.9815C2954.9238,-95.0666 2961.2704,-85.6313 2967.2959,-76.6734\"/>\n<polygon fill=\"#000000\" stroke=\"#000000\" points=\"2970.2755,-78.5147 2972.9527,-68.2637 2964.4672,-74.6078 2970.2755,-78.5147\"/>\n</g>\n<!-- 54 -->\n<g id=\"node55\" class=\"node\">\n<title>54</title>\n<polygon fill=\"#e68742\" stroke=\"#000000\" points=\"3233,-187 3029,-187 3029,-104 3233,-104 3233,-187\"/>\n<text text-anchor=\"middle\" x=\"3131\" y=\"-171.8\" font-family=\"Times,serif\" font-size=\"14.00\" fill=\"#000000\">EstimatedSalary &lt;= 140361.484</text>\n<text text-anchor=\"middle\" x=\"3131\" y=\"-156.8\" font-family=\"Times,serif\" font-size=\"14.00\" fill=\"#000000\">entropy = 0.261</text>\n<text text-anchor=\"middle\" x=\"3131\" y=\"-141.8\" font-family=\"Times,serif\" font-size=\"14.00\" fill=\"#000000\">samples = 476</text>\n<text text-anchor=\"middle\" x=\"3131\" y=\"-126.8\" font-family=\"Times,serif\" font-size=\"14.00\" fill=\"#000000\">value = [455, 21]</text>\n<text text-anchor=\"middle\" x=\"3131\" y=\"-111.8\" font-family=\"Times,serif\" font-size=\"14.00\" fill=\"#000000\">class = no</text>\n</g>\n<!-- 53&#45;&gt;54 -->\n<g id=\"edge54\" class=\"edge\">\n<title>53&#45;&gt;54</title>\n<path fill=\"none\" stroke=\"#000000\" d=\"M3131,-222.8796C3131,-214.6838 3131,-205.9891 3131,-197.5013\"/>\n<polygon fill=\"#000000\" stroke=\"#000000\" points=\"3134.5001,-197.298 3131,-187.2981 3127.5001,-197.2981 3134.5001,-197.298\"/>\n</g>\n<!-- 57 -->\n<g id=\"node58\" class=\"node\">\n<title>57</title>\n<polygon fill=\"#399de5\" stroke=\"#000000\" points=\"3346.5,-179.5 3251.5,-179.5 3251.5,-111.5 3346.5,-111.5 3346.5,-179.5\"/>\n<text text-anchor=\"middle\" x=\"3299\" y=\"-164.3\" font-family=\"Times,serif\" font-size=\"14.00\" fill=\"#000000\">entropy = 0.0</text>\n<text text-anchor=\"middle\" x=\"3299\" y=\"-149.3\" font-family=\"Times,serif\" font-size=\"14.00\" fill=\"#000000\">samples = 1</text>\n<text text-anchor=\"middle\" x=\"3299\" y=\"-134.3\" font-family=\"Times,serif\" font-size=\"14.00\" fill=\"#000000\">value = [0, 1]</text>\n<text text-anchor=\"middle\" x=\"3299\" y=\"-119.3\" font-family=\"Times,serif\" font-size=\"14.00\" fill=\"#000000\">class = yes</text>\n</g>\n<!-- 53&#45;&gt;57 -->\n<g id=\"edge57\" class=\"edge\">\n<title>53&#45;&gt;57</title>\n<path fill=\"none\" stroke=\"#000000\" d=\"M3191.0638,-222.8865C3207.6155,-211.3313 3225.5425,-198.7347 3242,-187 3242.7413,-186.4715 3243.4876,-185.9386 3244.238,-185.4021\"/>\n<polygon fill=\"#000000\" stroke=\"#000000\" points=\"3246.3116,-188.2221 3252.3942,-179.5473 3242.2295,-182.5355 3246.3116,-188.2221\"/>\n</g>\n<!-- 55 -->\n<g id=\"node56\" class=\"node\">\n<title>55</title>\n<polygon fill=\"#e78845\" stroke=\"#000000\" points=\"3189.5,-68 3072.5,-68 3072.5,0 3189.5,0 3189.5,-68\"/>\n<text text-anchor=\"middle\" x=\"3131\" y=\"-52.8\" font-family=\"Times,serif\" font-size=\"14.00\" fill=\"#000000\">entropy = 0.312</text>\n<text text-anchor=\"middle\" x=\"3131\" y=\"-37.8\" font-family=\"Times,serif\" font-size=\"14.00\" fill=\"#000000\">samples = 339</text>\n<text text-anchor=\"middle\" x=\"3131\" y=\"-22.8\" font-family=\"Times,serif\" font-size=\"14.00\" fill=\"#000000\">value = [320, 19]</text>\n<text text-anchor=\"middle\" x=\"3131\" y=\"-7.8\" font-family=\"Times,serif\" font-size=\"14.00\" fill=\"#000000\">class = no</text>\n</g>\n<!-- 54&#45;&gt;55 -->\n<g id=\"edge55\" class=\"edge\">\n<title>54&#45;&gt;55</title>\n<path fill=\"none\" stroke=\"#000000\" d=\"M3131,-103.9815C3131,-95.618 3131,-86.7965 3131,-78.3409\"/>\n<polygon fill=\"#000000\" stroke=\"#000000\" points=\"3134.5001,-78.2636 3131,-68.2637 3127.5001,-78.2637 3134.5001,-78.2636\"/>\n</g>\n<!-- 56 -->\n<g id=\"node57\" class=\"node\">\n<title>56</title>\n<polygon fill=\"#e5833c\" stroke=\"#000000\" points=\"3318,-68 3208,-68 3208,0 3318,0 3318,-68\"/>\n<text text-anchor=\"middle\" x=\"3263\" y=\"-52.8\" font-family=\"Times,serif\" font-size=\"14.00\" fill=\"#000000\">entropy = 0.11</text>\n<text text-anchor=\"middle\" x=\"3263\" y=\"-37.8\" font-family=\"Times,serif\" font-size=\"14.00\" fill=\"#000000\">samples = 137</text>\n<text text-anchor=\"middle\" x=\"3263\" y=\"-22.8\" font-family=\"Times,serif\" font-size=\"14.00\" fill=\"#000000\">value = [135, 2]</text>\n<text text-anchor=\"middle\" x=\"3263\" y=\"-7.8\" font-family=\"Times,serif\" font-size=\"14.00\" fill=\"#000000\">class = no</text>\n</g>\n<!-- 54&#45;&gt;56 -->\n<g id=\"edge56\" class=\"edge\">\n<title>54&#45;&gt;56</title>\n<path fill=\"none\" stroke=\"#000000\" d=\"M3180.1519,-103.9815C3191.4676,-94.4232 3203.4913,-84.2668 3214.7675,-74.7419\"/>\n<polygon fill=\"#000000\" stroke=\"#000000\" points=\"3217.0559,-77.3904 3222.4367,-68.2637 3212.5388,-72.0429 3217.0559,-77.3904\"/>\n</g>\n<!-- 59 -->\n<g id=\"node60\" class=\"node\">\n<title>59</title>\n<polygon fill=\"#e2f1fb\" stroke=\"#000000\" points=\"4299,-544 4129,-544 4129,-461 4299,-461 4299,-544\"/>\n<text text-anchor=\"middle\" x=\"4214\" y=\"-528.8\" font-family=\"Times,serif\" font-size=\"14.00\" fill=\"#000000\">IsActiveMember_1 &lt;= 0.5</text>\n<text text-anchor=\"middle\" x=\"4214\" y=\"-513.8\" font-family=\"Times,serif\" font-size=\"14.00\" fill=\"#000000\">entropy = 0.996</text>\n<text text-anchor=\"middle\" x=\"4214\" y=\"-498.8\" font-family=\"Times,serif\" font-size=\"14.00\" fill=\"#000000\">samples = 1352</text>\n<text text-anchor=\"middle\" x=\"4214\" y=\"-483.8\" font-family=\"Times,serif\" font-size=\"14.00\" fill=\"#000000\">value = [623, 729]</text>\n<text text-anchor=\"middle\" x=\"4214\" y=\"-468.8\" font-family=\"Times,serif\" font-size=\"14.00\" fill=\"#000000\">class = yes</text>\n</g>\n<!-- 58&#45;&gt;59 -->\n<g id=\"edge59\" class=\"edge\">\n<title>58&#45;&gt;59</title>\n<path fill=\"none\" stroke=\"#000000\" d=\"M4214,-579.8796C4214,-571.6838 4214,-562.9891 4214,-554.5013\"/>\n<polygon fill=\"#000000\" stroke=\"#000000\" points=\"4217.5001,-554.298 4214,-544.2981 4210.5001,-554.2981 4217.5001,-554.298\"/>\n</g>\n<!-- 88 -->\n<g id=\"node89\" class=\"node\">\n<title>88</title>\n<polygon fill=\"#ea9b61\" stroke=\"#000000\" points=\"5645.5,-544 5496.5,-544 5496.5,-461 5645.5,-461 5645.5,-544\"/>\n<text text-anchor=\"middle\" x=\"5571\" y=\"-528.8\" font-family=\"Times,serif\" font-size=\"14.00\" fill=\"#000000\">Balance &lt;= 42398.035</text>\n<text text-anchor=\"middle\" x=\"5571\" y=\"-513.8\" font-family=\"Times,serif\" font-size=\"14.00\" fill=\"#000000\">entropy = 0.657</text>\n<text text-anchor=\"middle\" x=\"5571\" y=\"-498.8\" font-family=\"Times,serif\" font-size=\"14.00\" fill=\"#000000\">samples = 808</text>\n<text text-anchor=\"middle\" x=\"5571\" y=\"-483.8\" font-family=\"Times,serif\" font-size=\"14.00\" fill=\"#000000\">value = [671, 137]</text>\n<text text-anchor=\"middle\" x=\"5571\" y=\"-468.8\" font-family=\"Times,serif\" font-size=\"14.00\" fill=\"#000000\">class = no</text>\n</g>\n<!-- 58&#45;&gt;88 -->\n<g id=\"edge88\" class=\"edge\">\n<title>58&#45;&gt;88</title>\n<path fill=\"none\" stroke=\"#000000\" d=\"M4298.6299,-614.0785C4542.0596,-592.7313 5242.2056,-531.3331 5486.0434,-509.9501\"/>\n<polygon fill=\"#000000\" stroke=\"#000000\" points=\"5486.6094,-513.414 5496.2654,-509.0537 5485.9979,-506.4408 5486.6094,-513.414\"/>\n</g>\n<!-- 60 -->\n<g id=\"node61\" class=\"node\">\n<title>60</title>\n<polygon fill=\"#8cc6f0\" stroke=\"#000000\" points=\"4062.5,-425 3937.5,-425 3937.5,-342 4062.5,-342 4062.5,-425\"/>\n<text text-anchor=\"middle\" x=\"4000\" y=\"-409.8\" font-family=\"Times,serif\" font-size=\"14.00\" fill=\"#000000\">Age &lt;= 49.5</text>\n<text text-anchor=\"middle\" x=\"4000\" y=\"-394.8\" font-family=\"Times,serif\" font-size=\"14.00\" fill=\"#000000\">entropy = 0.877</text>\n<text text-anchor=\"middle\" x=\"4000\" y=\"-379.8\" font-family=\"Times,serif\" font-size=\"14.00\" fill=\"#000000\">samples = 675</text>\n<text text-anchor=\"middle\" x=\"4000\" y=\"-364.8\" font-family=\"Times,serif\" font-size=\"14.00\" fill=\"#000000\">value = [200, 475]</text>\n<text text-anchor=\"middle\" x=\"4000\" y=\"-349.8\" font-family=\"Times,serif\" font-size=\"14.00\" fill=\"#000000\">class = yes</text>\n</g>\n<!-- 59&#45;&gt;60 -->\n<g id=\"edge60\" class=\"edge\">\n<title>59&#45;&gt;60</title>\n<path fill=\"none\" stroke=\"#000000\" d=\"M4139.1532,-460.8796C4117.2247,-448.6857 4093.31,-435.3874 4071.5895,-423.3091\"/>\n<polygon fill=\"#000000\" stroke=\"#000000\" points=\"4073.1882,-420.1934 4062.7476,-418.3923 4069.7863,-426.3112 4073.1882,-420.1934\"/>\n</g>\n<!-- 75 -->\n<g id=\"node76\" class=\"node\">\n<title>75</title>\n<polygon fill=\"#f5cdb0\" stroke=\"#000000\" points=\"4597.5,-425 4428.5,-425 4428.5,-342 4597.5,-342 4597.5,-425\"/>\n<text text-anchor=\"middle\" x=\"4513\" y=\"-409.8\" font-family=\"Times,serif\" font-size=\"14.00\" fill=\"#000000\">NumOfProducts_1 &lt;= 0.5</text>\n<text text-anchor=\"middle\" x=\"4513\" y=\"-394.8\" font-family=\"Times,serif\" font-size=\"14.00\" fill=\"#000000\">entropy = 0.955</text>\n<text text-anchor=\"middle\" x=\"4513\" y=\"-379.8\" font-family=\"Times,serif\" font-size=\"14.00\" fill=\"#000000\">samples = 677</text>\n<text text-anchor=\"middle\" x=\"4513\" y=\"-364.8\" font-family=\"Times,serif\" font-size=\"14.00\" fill=\"#000000\">value = [423, 254]</text>\n<text text-anchor=\"middle\" x=\"4513\" y=\"-349.8\" font-family=\"Times,serif\" font-size=\"14.00\" fill=\"#000000\">class = no</text>\n</g>\n<!-- 59&#45;&gt;75 -->\n<g id=\"edge75\" class=\"edge\">\n<title>59&#45;&gt;75</title>\n<path fill=\"none\" stroke=\"#000000\" d=\"M4299.2813,-468.5586C4336.596,-453.7076 4380.5009,-436.2338 4418.7786,-420.9995\"/>\n<polygon fill=\"#000000\" stroke=\"#000000\" points=\"4420.3846,-424.1274 4428.3815,-417.1776 4417.7961,-417.6236 4420.3846,-424.1274\"/>\n</g>\n<!-- 61 -->\n<g id=\"node62\" class=\"node\">\n<title>61</title>\n<polygon fill=\"#bfe0f7\" stroke=\"#000000\" points=\"3852.5,-306 3683.5,-306 3683.5,-223 3852.5,-223 3852.5,-306\"/>\n<text text-anchor=\"middle\" x=\"3768\" y=\"-290.8\" font-family=\"Times,serif\" font-size=\"14.00\" fill=\"#000000\">NumOfProducts_1 &lt;= 0.5</text>\n<text text-anchor=\"middle\" x=\"3768\" y=\"-275.8\" font-family=\"Times,serif\" font-size=\"14.00\" fill=\"#000000\">entropy = 0.973</text>\n<text text-anchor=\"middle\" x=\"3768\" y=\"-260.8\" font-family=\"Times,serif\" font-size=\"14.00\" fill=\"#000000\">samples = 413</text>\n<text text-anchor=\"middle\" x=\"3768\" y=\"-245.8\" font-family=\"Times,serif\" font-size=\"14.00\" fill=\"#000000\">value = [167, 246]</text>\n<text text-anchor=\"middle\" x=\"3768\" y=\"-230.8\" font-family=\"Times,serif\" font-size=\"14.00\" fill=\"#000000\">class = yes</text>\n</g>\n<!-- 60&#45;&gt;61 -->\n<g id=\"edge61\" class=\"edge\">\n<title>60&#45;&gt;61</title>\n<path fill=\"none\" stroke=\"#000000\" d=\"M3937.2175,-351.2969C3912.9691,-338.8591 3884.7597,-324.3897 3858.4053,-310.8717\"/>\n<polygon fill=\"#000000\" stroke=\"#000000\" points=\"3859.6655,-307.5846 3849.1703,-306.1348 3856.4707,-313.813 3859.6655,-307.5846\"/>\n</g>\n<!-- 68 -->\n<g id=\"node69\" class=\"node\">\n<title>68</title>\n<polygon fill=\"#56abe9\" stroke=\"#000000\" points=\"4094.5,-306 3905.5,-306 3905.5,-223 4094.5,-223 4094.5,-306\"/>\n<text text-anchor=\"middle\" x=\"4000\" y=\"-290.8\" font-family=\"Times,serif\" font-size=\"14.00\" fill=\"#000000\">EstimatedSalary &lt;= 2436.765</text>\n<text text-anchor=\"middle\" x=\"4000\" y=\"-275.8\" font-family=\"Times,serif\" font-size=\"14.00\" fill=\"#000000\">entropy = 0.546</text>\n<text text-anchor=\"middle\" x=\"4000\" y=\"-260.8\" font-family=\"Times,serif\" font-size=\"14.00\" fill=\"#000000\">samples = 262</text>\n<text text-anchor=\"middle\" x=\"4000\" y=\"-245.8\" font-family=\"Times,serif\" font-size=\"14.00\" fill=\"#000000\">value = [33, 229]</text>\n<text text-anchor=\"middle\" x=\"4000\" y=\"-230.8\" font-family=\"Times,serif\" font-size=\"14.00\" fill=\"#000000\">class = yes</text>\n</g>\n<!-- 60&#45;&gt;68 -->\n<g id=\"edge68\" class=\"edge\">\n<title>60&#45;&gt;68</title>\n<path fill=\"none\" stroke=\"#000000\" d=\"M4000,-341.8796C4000,-333.6838 4000,-324.9891 4000,-316.5013\"/>\n<polygon fill=\"#000000\" stroke=\"#000000\" points=\"4003.5001,-316.298 4000,-306.2981 3996.5001,-316.2981 4003.5001,-316.298\"/>\n</g>\n<!-- 62 -->\n<g id=\"node63\" class=\"node\">\n<title>62</title>\n<polygon fill=\"#3fa0e6\" stroke=\"#000000\" points=\"3582,-187 3440,-187 3440,-104 3582,-104 3582,-187\"/>\n<text text-anchor=\"middle\" x=\"3511\" y=\"-171.8\" font-family=\"Times,serif\" font-size=\"14.00\" fill=\"#000000\">CreditScore &lt;= 760.5</text>\n<text text-anchor=\"middle\" x=\"3511\" y=\"-156.8\" font-family=\"Times,serif\" font-size=\"14.00\" fill=\"#000000\">entropy = 0.191</text>\n<text text-anchor=\"middle\" x=\"3511\" y=\"-141.8\" font-family=\"Times,serif\" font-size=\"14.00\" fill=\"#000000\">samples = 34</text>\n<text text-anchor=\"middle\" x=\"3511\" y=\"-126.8\" font-family=\"Times,serif\" font-size=\"14.00\" fill=\"#000000\">value = [1, 33]</text>\n<text text-anchor=\"middle\" x=\"3511\" y=\"-111.8\" font-family=\"Times,serif\" font-size=\"14.00\" fill=\"#000000\">class = yes</text>\n</g>\n<!-- 61&#45;&gt;62 -->\n<g id=\"edge62\" class=\"edge\">\n<title>61&#45;&gt;62</title>\n<path fill=\"none\" stroke=\"#000000\" d=\"M3683.4926,-225.3701C3653.9217,-211.6778 3620.816,-196.3486 3591.5749,-182.809\"/>\n<polygon fill=\"#000000\" stroke=\"#000000\" points=\"3592.7713,-179.506 3582.2262,-178.4802 3589.83,-185.8581 3592.7713,-179.506\"/>\n</g>\n<!-- 65 -->\n<g id=\"node66\" class=\"node\">\n<title>65</title>\n<polygon fill=\"#d3e9f9\" stroke=\"#000000\" points=\"3860.5,-187 3675.5,-187 3675.5,-104 3860.5,-104 3860.5,-187\"/>\n<text text-anchor=\"middle\" x=\"3768\" y=\"-171.8\" font-family=\"Times,serif\" font-size=\"14.00\" fill=\"#000000\">Geography_Germany &lt;= 0.5</text>\n<text text-anchor=\"middle\" x=\"3768\" y=\"-156.8\" font-family=\"Times,serif\" font-size=\"14.00\" fill=\"#000000\">entropy = 0.989</text>\n<text text-anchor=\"middle\" x=\"3768\" y=\"-141.8\" font-family=\"Times,serif\" font-size=\"14.00\" fill=\"#000000\">samples = 379</text>\n<text text-anchor=\"middle\" x=\"3768\" y=\"-126.8\" font-family=\"Times,serif\" font-size=\"14.00\" fill=\"#000000\">value = [166, 213]</text>\n<text text-anchor=\"middle\" x=\"3768\" y=\"-111.8\" font-family=\"Times,serif\" font-size=\"14.00\" fill=\"#000000\">class = yes</text>\n</g>\n<!-- 61&#45;&gt;65 -->\n<g id=\"edge65\" class=\"edge\">\n<title>61&#45;&gt;65</title>\n<path fill=\"none\" stroke=\"#000000\" d=\"M3768,-222.8796C3768,-214.6838 3768,-205.9891 3768,-197.5013\"/>\n<polygon fill=\"#000000\" stroke=\"#000000\" points=\"3771.5001,-197.298 3768,-187.2981 3764.5001,-197.2981 3771.5001,-197.298\"/>\n</g>\n<!-- 63 -->\n<g id=\"node64\" class=\"node\">\n<title>63</title>\n<polygon fill=\"#399de5\" stroke=\"#000000\" points=\"3438,-68 3336,-68 3336,0 3438,0 3438,-68\"/>\n<text text-anchor=\"middle\" x=\"3387\" y=\"-52.8\" font-family=\"Times,serif\" font-size=\"14.00\" fill=\"#000000\">entropy = 0.0</text>\n<text text-anchor=\"middle\" x=\"3387\" y=\"-37.8\" font-family=\"Times,serif\" font-size=\"14.00\" fill=\"#000000\">samples = 29</text>\n<text text-anchor=\"middle\" x=\"3387\" y=\"-22.8\" font-family=\"Times,serif\" font-size=\"14.00\" fill=\"#000000\">value = [0, 29]</text>\n<text text-anchor=\"middle\" x=\"3387\" y=\"-7.8\" font-family=\"Times,serif\" font-size=\"14.00\" fill=\"#000000\">class = yes</text>\n</g>\n<!-- 62&#45;&gt;63 -->\n<g id=\"edge63\" class=\"edge\">\n<title>62&#45;&gt;63</title>\n<path fill=\"none\" stroke=\"#000000\" d=\"M3464.827,-103.9815C3454.2993,-94.5151 3443.1192,-84.462 3432.6151,-75.0168\"/>\n<polygon fill=\"#000000\" stroke=\"#000000\" points=\"3434.8811,-72.3475 3425.1049,-68.2637 3430.2006,-77.5526 3434.8811,-72.3475\"/>\n</g>\n<!-- 64 -->\n<g id=\"node65\" class=\"node\">\n<title>64</title>\n<polygon fill=\"#6ab6ec\" stroke=\"#000000\" points=\"3566,-68 3456,-68 3456,0 3566,0 3566,-68\"/>\n<text text-anchor=\"middle\" x=\"3511\" y=\"-52.8\" font-family=\"Times,serif\" font-size=\"14.00\" fill=\"#000000\">entropy = 0.722</text>\n<text text-anchor=\"middle\" x=\"3511\" y=\"-37.8\" font-family=\"Times,serif\" font-size=\"14.00\" fill=\"#000000\">samples = 5</text>\n<text text-anchor=\"middle\" x=\"3511\" y=\"-22.8\" font-family=\"Times,serif\" font-size=\"14.00\" fill=\"#000000\">value = [1, 4]</text>\n<text text-anchor=\"middle\" x=\"3511\" y=\"-7.8\" font-family=\"Times,serif\" font-size=\"14.00\" fill=\"#000000\">class = yes</text>\n</g>\n<!-- 62&#45;&gt;64 -->\n<g id=\"edge64\" class=\"edge\">\n<title>62&#45;&gt;64</title>\n<path fill=\"none\" stroke=\"#000000\" d=\"M3511,-103.9815C3511,-95.618 3511,-86.7965 3511,-78.3409\"/>\n<polygon fill=\"#000000\" stroke=\"#000000\" points=\"3514.5001,-78.2636 3511,-68.2637 3507.5001,-78.2637 3514.5001,-78.2636\"/>\n</g>\n<!-- 66 -->\n<g id=\"node67\" class=\"node\">\n<title>66</title>\n<polygon fill=\"#fefbf9\" stroke=\"#000000\" points=\"3709.5,-68 3584.5,-68 3584.5,0 3709.5,0 3709.5,-68\"/>\n<text text-anchor=\"middle\" x=\"3647\" y=\"-52.8\" font-family=\"Times,serif\" font-size=\"14.00\" fill=\"#000000\">entropy = 1.0</text>\n<text text-anchor=\"middle\" x=\"3647\" y=\"-37.8\" font-family=\"Times,serif\" font-size=\"14.00\" fill=\"#000000\">samples = 262</text>\n<text text-anchor=\"middle\" x=\"3647\" y=\"-22.8\" font-family=\"Times,serif\" font-size=\"14.00\" fill=\"#000000\">value = [133, 129]</text>\n<text text-anchor=\"middle\" x=\"3647\" y=\"-7.8\" font-family=\"Times,serif\" font-size=\"14.00\" fill=\"#000000\">class = no</text>\n</g>\n<!-- 65&#45;&gt;66 -->\n<g id=\"edge66\" class=\"edge\">\n<title>65&#45;&gt;66</title>\n<path fill=\"none\" stroke=\"#000000\" d=\"M3722.9441,-103.9815C3712.7709,-94.607 3701.9733,-84.6572 3691.8102,-75.2921\"/>\n<polygon fill=\"#000000\" stroke=\"#000000\" points=\"3693.9087,-72.4663 3684.183,-68.2637 3689.1651,-77.6141 3693.9087,-72.4663\"/>\n</g>\n<!-- 67 -->\n<g id=\"node68\" class=\"node\">\n<title>67</title>\n<polygon fill=\"#87c4ef\" stroke=\"#000000\" points=\"3838,-68 3728,-68 3728,0 3838,0 3838,-68\"/>\n<text text-anchor=\"middle\" x=\"3783\" y=\"-52.8\" font-family=\"Times,serif\" font-size=\"14.00\" fill=\"#000000\">entropy = 0.858</text>\n<text text-anchor=\"middle\" x=\"3783\" y=\"-37.8\" font-family=\"Times,serif\" font-size=\"14.00\" fill=\"#000000\">samples = 117</text>\n<text text-anchor=\"middle\" x=\"3783\" y=\"-22.8\" font-family=\"Times,serif\" font-size=\"14.00\" fill=\"#000000\">value = [33, 84]</text>\n<text text-anchor=\"middle\" x=\"3783\" y=\"-7.8\" font-family=\"Times,serif\" font-size=\"14.00\" fill=\"#000000\">class = yes</text>\n</g>\n<!-- 65&#45;&gt;67 -->\n<g id=\"edge67\" class=\"edge\">\n<title>65&#45;&gt;67</title>\n<path fill=\"none\" stroke=\"#000000\" d=\"M3773.5854,-103.9815C3774.7106,-95.618 3775.8973,-86.7965 3777.0349,-78.3409\"/>\n<polygon fill=\"#000000\" stroke=\"#000000\" points=\"3780.5259,-78.6411 3778.3905,-68.2637 3773.5884,-77.7077 3780.5259,-78.6411\"/>\n</g>\n<!-- 69 -->\n<g id=\"node70\" class=\"node\">\n<title>69</title>\n<polygon fill=\"#eeab7b\" stroke=\"#000000\" points=\"4046,-187 3904,-187 3904,-104 4046,-104 4046,-187\"/>\n<text text-anchor=\"middle\" x=\"3975\" y=\"-171.8\" font-family=\"Times,serif\" font-size=\"14.00\" fill=\"#000000\">CreditScore &lt;= 573.5</text>\n<text text-anchor=\"middle\" x=\"3975\" y=\"-156.8\" font-family=\"Times,serif\" font-size=\"14.00\" fill=\"#000000\">entropy = 0.811</text>\n<text text-anchor=\"middle\" x=\"3975\" y=\"-141.8\" font-family=\"Times,serif\" font-size=\"14.00\" fill=\"#000000\">samples = 4</text>\n<text text-anchor=\"middle\" x=\"3975\" y=\"-126.8\" font-family=\"Times,serif\" font-size=\"14.00\" fill=\"#000000\">value = [3, 1]</text>\n<text text-anchor=\"middle\" x=\"3975\" y=\"-111.8\" font-family=\"Times,serif\" font-size=\"14.00\" fill=\"#000000\">class = no</text>\n</g>\n<!-- 68&#45;&gt;69 -->\n<g id=\"edge69\" class=\"edge\">\n<title>68&#45;&gt;69</title>\n<path fill=\"none\" stroke=\"#000000\" d=\"M3991.2562,-222.8796C3989.5155,-214.5938 3987.6676,-205.798 3985.8659,-197.2216\"/>\n<polygon fill=\"#000000\" stroke=\"#000000\" points=\"3989.2624,-196.3648 3983.7811,-187.2981 3982.4119,-197.8041 3989.2624,-196.3648\"/>\n</g>\n<!-- 72 -->\n<g id=\"node73\" class=\"node\">\n<title>72</title>\n<polygon fill=\"#53aae8\" stroke=\"#000000\" points=\"4233.5,-187 4064.5,-187 4064.5,-104 4233.5,-104 4233.5,-187\"/>\n<text text-anchor=\"middle\" x=\"4149\" y=\"-171.8\" font-family=\"Times,serif\" font-size=\"14.00\" fill=\"#000000\">NumOfProducts_1 &lt;= 0.5</text>\n<text text-anchor=\"middle\" x=\"4149\" y=\"-156.8\" font-family=\"Times,serif\" font-size=\"14.00\" fill=\"#000000\">entropy = 0.519</text>\n<text text-anchor=\"middle\" x=\"4149\" y=\"-141.8\" font-family=\"Times,serif\" font-size=\"14.00\" fill=\"#000000\">samples = 258</text>\n<text text-anchor=\"middle\" x=\"4149\" y=\"-126.8\" font-family=\"Times,serif\" font-size=\"14.00\" fill=\"#000000\">value = [30, 228]</text>\n<text text-anchor=\"middle\" x=\"4149\" y=\"-111.8\" font-family=\"Times,serif\" font-size=\"14.00\" fill=\"#000000\">class = yes</text>\n</g>\n<!-- 68&#45;&gt;72 -->\n<g id=\"edge72\" class=\"edge\">\n<title>68&#45;&gt;72</title>\n<path fill=\"none\" stroke=\"#000000\" d=\"M4052.113,-222.8796C4064.0225,-213.368 4076.7734,-203.1843 4088.9844,-193.432\"/>\n<polygon fill=\"#000000\" stroke=\"#000000\" points=\"4091.2868,-196.0724 4096.9165,-187.0969 4086.9184,-190.6027 4091.2868,-196.0724\"/>\n</g>\n<!-- 70 -->\n<g id=\"node71\" class=\"node\">\n<title>70</title>\n<polygon fill=\"#399de5\" stroke=\"#000000\" points=\"3951.5,-68 3856.5,-68 3856.5,0 3951.5,0 3951.5,-68\"/>\n<text text-anchor=\"middle\" x=\"3904\" y=\"-52.8\" font-family=\"Times,serif\" font-size=\"14.00\" fill=\"#000000\">entropy = 0.0</text>\n<text text-anchor=\"middle\" x=\"3904\" y=\"-37.8\" font-family=\"Times,serif\" font-size=\"14.00\" fill=\"#000000\">samples = 1</text>\n<text text-anchor=\"middle\" x=\"3904\" y=\"-22.8\" font-family=\"Times,serif\" font-size=\"14.00\" fill=\"#000000\">value = [0, 1]</text>\n<text text-anchor=\"middle\" x=\"3904\" y=\"-7.8\" font-family=\"Times,serif\" font-size=\"14.00\" fill=\"#000000\">class = yes</text>\n</g>\n<!-- 69&#45;&gt;70 -->\n<g id=\"edge70\" class=\"edge\">\n<title>69&#45;&gt;70</title>\n<path fill=\"none\" stroke=\"#000000\" d=\"M3948.5622,-103.9815C3942.944,-95.1585 3937.0012,-85.8258 3931.3497,-76.9506\"/>\n<polygon fill=\"#000000\" stroke=\"#000000\" points=\"3934.1416,-74.8188 3925.8181,-68.2637 3928.2371,-78.5787 3934.1416,-74.8188\"/>\n</g>\n<!-- 71 -->\n<g id=\"node72\" class=\"node\">\n<title>71</title>\n<polygon fill=\"#e58139\" stroke=\"#000000\" points=\"4064.5,-68 3969.5,-68 3969.5,0 4064.5,0 4064.5,-68\"/>\n<text text-anchor=\"middle\" x=\"4017\" y=\"-52.8\" font-family=\"Times,serif\" font-size=\"14.00\" fill=\"#000000\">entropy = 0.0</text>\n<text text-anchor=\"middle\" x=\"4017\" y=\"-37.8\" font-family=\"Times,serif\" font-size=\"14.00\" fill=\"#000000\">samples = 3</text>\n<text text-anchor=\"middle\" x=\"4017\" y=\"-22.8\" font-family=\"Times,serif\" font-size=\"14.00\" fill=\"#000000\">value = [3, 0]</text>\n<text text-anchor=\"middle\" x=\"4017\" y=\"-7.8\" font-family=\"Times,serif\" font-size=\"14.00\" fill=\"#000000\">class = no</text>\n</g>\n<!-- 69&#45;&gt;71 -->\n<g id=\"edge71\" class=\"edge\">\n<title>69&#45;&gt;71</title>\n<path fill=\"none\" stroke=\"#000000\" d=\"M3990.6392,-103.9815C3993.8589,-95.4342 3997.2587,-86.4086 4000.5074,-77.7839\"/>\n<polygon fill=\"#000000\" stroke=\"#000000\" points=\"4003.8438,-78.8556 4004.0935,-68.2637 3997.2931,-76.388 4003.8438,-78.8556\"/>\n</g>\n<!-- 73 -->\n<g id=\"node74\" class=\"node\">\n<title>73</title>\n<polygon fill=\"#399de5\" stroke=\"#000000\" points=\"4185,-68 4083,-68 4083,0 4185,0 4185,-68\"/>\n<text text-anchor=\"middle\" x=\"4134\" y=\"-52.8\" font-family=\"Times,serif\" font-size=\"14.00\" fill=\"#000000\">entropy = 0.0</text>\n<text text-anchor=\"middle\" x=\"4134\" y=\"-37.8\" font-family=\"Times,serif\" font-size=\"14.00\" fill=\"#000000\">samples = 29</text>\n<text text-anchor=\"middle\" x=\"4134\" y=\"-22.8\" font-family=\"Times,serif\" font-size=\"14.00\" fill=\"#000000\">value = [0, 29]</text>\n<text text-anchor=\"middle\" x=\"4134\" y=\"-7.8\" font-family=\"Times,serif\" font-size=\"14.00\" fill=\"#000000\">class = yes</text>\n</g>\n<!-- 72&#45;&gt;73 -->\n<g id=\"edge73\" class=\"edge\">\n<title>72&#45;&gt;73</title>\n<path fill=\"none\" stroke=\"#000000\" d=\"M4143.4146,-103.9815C4142.2894,-95.618 4141.1027,-86.7965 4139.9651,-78.3409\"/>\n<polygon fill=\"#000000\" stroke=\"#000000\" points=\"4143.4116,-77.7077 4138.6095,-68.2637 4136.4741,-78.6411 4143.4116,-77.7077\"/>\n</g>\n<!-- 74 -->\n<g id=\"node75\" class=\"node\">\n<title>74</title>\n<polygon fill=\"#57ace9\" stroke=\"#000000\" points=\"4320.5,-68 4203.5,-68 4203.5,0 4320.5,0 4320.5,-68\"/>\n<text text-anchor=\"middle\" x=\"4262\" y=\"-52.8\" font-family=\"Times,serif\" font-size=\"14.00\" fill=\"#000000\">entropy = 0.56</text>\n<text text-anchor=\"middle\" x=\"4262\" y=\"-37.8\" font-family=\"Times,serif\" font-size=\"14.00\" fill=\"#000000\">samples = 229</text>\n<text text-anchor=\"middle\" x=\"4262\" y=\"-22.8\" font-family=\"Times,serif\" font-size=\"14.00\" fill=\"#000000\">value = [30, 199]</text>\n<text text-anchor=\"middle\" x=\"4262\" y=\"-7.8\" font-family=\"Times,serif\" font-size=\"14.00\" fill=\"#000000\">class = yes</text>\n</g>\n<!-- 72&#45;&gt;74 -->\n<g id=\"edge74\" class=\"edge\">\n<title>72&#45;&gt;74</title>\n<path fill=\"none\" stroke=\"#000000\" d=\"M4191.077,-103.9815C4200.5776,-94.607 4210.6613,-84.6572 4220.1524,-75.2921\"/>\n<polygon fill=\"#000000\" stroke=\"#000000\" points=\"4222.6155,-77.7787 4227.2754,-68.2637 4217.6989,-72.796 4222.6155,-77.7787\"/>\n</g>\n<!-- 76 -->\n<g id=\"node77\" class=\"node\">\n<title>76</title>\n<polygon fill=\"#45a3e7\" stroke=\"#000000\" points=\"4587.5,-306 4438.5,-306 4438.5,-223 4587.5,-223 4587.5,-306\"/>\n<text text-anchor=\"middle\" x=\"4513\" y=\"-290.8\" font-family=\"Times,serif\" font-size=\"14.00\" fill=\"#000000\">Balance &lt;= 57003.365</text>\n<text text-anchor=\"middle\" x=\"4513\" y=\"-275.8\" font-family=\"Times,serif\" font-size=\"14.00\" fill=\"#000000\">entropy = 0.314</text>\n<text text-anchor=\"middle\" x=\"4513\" y=\"-260.8\" font-family=\"Times,serif\" font-size=\"14.00\" fill=\"#000000\">samples = 53</text>\n<text text-anchor=\"middle\" x=\"4513\" y=\"-245.8\" font-family=\"Times,serif\" font-size=\"14.00\" fill=\"#000000\">value = [3, 50]</text>\n<text text-anchor=\"middle\" x=\"4513\" y=\"-230.8\" font-family=\"Times,serif\" font-size=\"14.00\" fill=\"#000000\">class = yes</text>\n</g>\n<!-- 75&#45;&gt;76 -->\n<g id=\"edge76\" class=\"edge\">\n<title>75&#45;&gt;76</title>\n<path fill=\"none\" stroke=\"#000000\" d=\"M4513,-341.8796C4513,-333.6838 4513,-324.9891 4513,-316.5013\"/>\n<polygon fill=\"#000000\" stroke=\"#000000\" points=\"4516.5001,-316.298 4513,-306.2981 4509.5001,-316.2981 4516.5001,-316.298\"/>\n</g>\n<!-- 81 -->\n<g id=\"node82\" class=\"node\">\n<title>81</title>\n<polygon fill=\"#f2be99\" stroke=\"#000000\" points=\"4820.5,-306 4635.5,-306 4635.5,-223 4820.5,-223 4820.5,-306\"/>\n<text text-anchor=\"middle\" x=\"4728\" y=\"-290.8\" font-family=\"Times,serif\" font-size=\"14.00\" fill=\"#000000\">Geography_Germany &lt;= 0.5</text>\n<text text-anchor=\"middle\" x=\"4728\" y=\"-275.8\" font-family=\"Times,serif\" font-size=\"14.00\" fill=\"#000000\">entropy = 0.912</text>\n<text text-anchor=\"middle\" x=\"4728\" y=\"-260.8\" font-family=\"Times,serif\" font-size=\"14.00\" fill=\"#000000\">samples = 624</text>\n<text text-anchor=\"middle\" x=\"4728\" y=\"-245.8\" font-family=\"Times,serif\" font-size=\"14.00\" fill=\"#000000\">value = [420, 204]</text>\n<text text-anchor=\"middle\" x=\"4728\" y=\"-230.8\" font-family=\"Times,serif\" font-size=\"14.00\" fill=\"#000000\">class = no</text>\n</g>\n<!-- 75&#45;&gt;81 -->\n<g id=\"edge81\" class=\"edge\">\n<title>75&#45;&gt;81</title>\n<path fill=\"none\" stroke=\"#000000\" d=\"M4588.1966,-341.8796C4606.1997,-331.915 4625.5355,-321.2129 4643.9119,-311.0418\"/>\n<polygon fill=\"#000000\" stroke=\"#000000\" points=\"4645.7916,-314.0018 4652.8459,-306.0969 4642.4017,-307.8773 4645.7916,-314.0018\"/>\n</g>\n<!-- 77 -->\n<g id=\"node78\" class=\"node\">\n<title>77</title>\n<polygon fill=\"#63b2eb\" stroke=\"#000000\" points=\"4464,-187 4354,-187 4354,-104 4464,-104 4464,-187\"/>\n<text text-anchor=\"middle\" x=\"4409\" y=\"-171.8\" font-family=\"Times,serif\" font-size=\"14.00\" fill=\"#000000\">Age &lt;= 42.5</text>\n<text text-anchor=\"middle\" x=\"4409\" y=\"-156.8\" font-family=\"Times,serif\" font-size=\"14.00\" fill=\"#000000\">entropy = 0.672</text>\n<text text-anchor=\"middle\" x=\"4409\" y=\"-141.8\" font-family=\"Times,serif\" font-size=\"14.00\" fill=\"#000000\">samples = 17</text>\n<text text-anchor=\"middle\" x=\"4409\" y=\"-126.8\" font-family=\"Times,serif\" font-size=\"14.00\" fill=\"#000000\">value = [3, 14]</text>\n<text text-anchor=\"middle\" x=\"4409\" y=\"-111.8\" font-family=\"Times,serif\" font-size=\"14.00\" fill=\"#000000\">class = yes</text>\n</g>\n<!-- 76&#45;&gt;77 -->\n<g id=\"edge77\" class=\"edge\">\n<title>76&#45;&gt;77</title>\n<path fill=\"none\" stroke=\"#000000\" d=\"M4476.6258,-222.8796C4468.7548,-213.8733 4460.3571,-204.2644 4452.2515,-194.9897\"/>\n<polygon fill=\"#000000\" stroke=\"#000000\" points=\"4454.7454,-192.5246 4445.5294,-187.2981 4449.4746,-197.131 4454.7454,-192.5246\"/>\n</g>\n<!-- 80 -->\n<g id=\"node81\" class=\"node\">\n<title>80</title>\n<polygon fill=\"#399de5\" stroke=\"#000000\" points=\"4584,-179.5 4482,-179.5 4482,-111.5 4584,-111.5 4584,-179.5\"/>\n<text text-anchor=\"middle\" x=\"4533\" y=\"-164.3\" font-family=\"Times,serif\" font-size=\"14.00\" fill=\"#000000\">entropy = 0.0</text>\n<text text-anchor=\"middle\" x=\"4533\" y=\"-149.3\" font-family=\"Times,serif\" font-size=\"14.00\" fill=\"#000000\">samples = 36</text>\n<text text-anchor=\"middle\" x=\"4533\" y=\"-134.3\" font-family=\"Times,serif\" font-size=\"14.00\" fill=\"#000000\">value = [0, 36]</text>\n<text text-anchor=\"middle\" x=\"4533\" y=\"-119.3\" font-family=\"Times,serif\" font-size=\"14.00\" fill=\"#000000\">class = yes</text>\n</g>\n<!-- 76&#45;&gt;80 -->\n<g id=\"edge80\" class=\"edge\">\n<title>76&#45;&gt;80</title>\n<path fill=\"none\" stroke=\"#000000\" d=\"M4519.995,-222.8796C4521.7877,-212.2134 4523.7223,-200.7021 4525.5376,-189.9015\"/>\n<polygon fill=\"#000000\" stroke=\"#000000\" points=\"4529.0269,-190.2568 4527.2328,-179.8149 4522.1237,-189.0965 4529.0269,-190.2568\"/>\n</g>\n<!-- 78 -->\n<g id=\"node79\" class=\"node\">\n<title>78</title>\n<polygon fill=\"#f2c09c\" stroke=\"#000000\" points=\"4449,-68 4339,-68 4339,0 4449,0 4449,-68\"/>\n<text text-anchor=\"middle\" x=\"4394\" y=\"-52.8\" font-family=\"Times,serif\" font-size=\"14.00\" fill=\"#000000\">entropy = 0.918</text>\n<text text-anchor=\"middle\" x=\"4394\" y=\"-37.8\" font-family=\"Times,serif\" font-size=\"14.00\" fill=\"#000000\">samples = 3</text>\n<text text-anchor=\"middle\" x=\"4394\" y=\"-22.8\" font-family=\"Times,serif\" font-size=\"14.00\" fill=\"#000000\">value = [2, 1]</text>\n<text text-anchor=\"middle\" x=\"4394\" y=\"-7.8\" font-family=\"Times,serif\" font-size=\"14.00\" fill=\"#000000\">class = no</text>\n</g>\n<!-- 77&#45;&gt;78 -->\n<g id=\"edge78\" class=\"edge\">\n<title>77&#45;&gt;78</title>\n<path fill=\"none\" stroke=\"#000000\" d=\"M4403.4146,-103.9815C4402.2894,-95.618 4401.1027,-86.7965 4399.9651,-78.3409\"/>\n<polygon fill=\"#000000\" stroke=\"#000000\" points=\"4403.4116,-77.7077 4398.6095,-68.2637 4396.4741,-78.6411 4403.4116,-77.7077\"/>\n</g>\n<!-- 79 -->\n<g id=\"node80\" class=\"node\">\n<title>79</title>\n<polygon fill=\"#48a5e7\" stroke=\"#000000\" points=\"4577,-68 4467,-68 4467,0 4577,0 4577,-68\"/>\n<text text-anchor=\"middle\" x=\"4522\" y=\"-52.8\" font-family=\"Times,serif\" font-size=\"14.00\" fill=\"#000000\">entropy = 0.371</text>\n<text text-anchor=\"middle\" x=\"4522\" y=\"-37.8\" font-family=\"Times,serif\" font-size=\"14.00\" fill=\"#000000\">samples = 14</text>\n<text text-anchor=\"middle\" x=\"4522\" y=\"-22.8\" font-family=\"Times,serif\" font-size=\"14.00\" fill=\"#000000\">value = [1, 13]</text>\n<text text-anchor=\"middle\" x=\"4522\" y=\"-7.8\" font-family=\"Times,serif\" font-size=\"14.00\" fill=\"#000000\">class = yes</text>\n</g>\n<!-- 77&#45;&gt;79 -->\n<g id=\"edge79\" class=\"edge\">\n<title>77&#45;&gt;79</title>\n<path fill=\"none\" stroke=\"#000000\" d=\"M4451.077,-103.9815C4460.5776,-94.607 4470.6613,-84.6572 4480.1524,-75.2921\"/>\n<polygon fill=\"#000000\" stroke=\"#000000\" points=\"4482.6155,-77.7787 4487.2754,-68.2637 4477.6989,-72.796 4482.6155,-77.7787\"/>\n</g>\n<!-- 82 -->\n<g id=\"node83\" class=\"node\">\n<title>82</title>\n<polygon fill=\"#eeac7d\" stroke=\"#000000\" points=\"4802.5,-187 4653.5,-187 4653.5,-104 4802.5,-104 4802.5,-187\"/>\n<text text-anchor=\"middle\" x=\"4728\" y=\"-171.8\" font-family=\"Times,serif\" font-size=\"14.00\" fill=\"#000000\">Balance &lt;= 33589.049</text>\n<text text-anchor=\"middle\" x=\"4728\" y=\"-156.8\" font-family=\"Times,serif\" font-size=\"14.00\" fill=\"#000000\">entropy = 0.821</text>\n<text text-anchor=\"middle\" x=\"4728\" y=\"-141.8\" font-family=\"Times,serif\" font-size=\"14.00\" fill=\"#000000\">samples = 457</text>\n<text text-anchor=\"middle\" x=\"4728\" y=\"-126.8\" font-family=\"Times,serif\" font-size=\"14.00\" fill=\"#000000\">value = [340, 117]</text>\n<text text-anchor=\"middle\" x=\"4728\" y=\"-111.8\" font-family=\"Times,serif\" font-size=\"14.00\" fill=\"#000000\">class = no</text>\n</g>\n<!-- 81&#45;&gt;82 -->\n<g id=\"edge82\" class=\"edge\">\n<title>81&#45;&gt;82</title>\n<path fill=\"none\" stroke=\"#000000\" d=\"M4728,-222.8796C4728,-214.6838 4728,-205.9891 4728,-197.5013\"/>\n<polygon fill=\"#000000\" stroke=\"#000000\" points=\"4731.5001,-197.298 4728,-187.2981 4724.5001,-197.2981 4731.5001,-197.298\"/>\n</g>\n<!-- 85 -->\n<g id=\"node86\" class=\"node\">\n<title>85</title>\n<polygon fill=\"#eff7fd\" stroke=\"#000000\" points=\"4984.5,-187 4835.5,-187 4835.5,-104 4984.5,-104 4984.5,-187\"/>\n<text text-anchor=\"middle\" x=\"4910\" y=\"-171.8\" font-family=\"Times,serif\" font-size=\"14.00\" fill=\"#000000\">Balance &lt;= 88564.359</text>\n<text text-anchor=\"middle\" x=\"4910\" y=\"-156.8\" font-family=\"Times,serif\" font-size=\"14.00\" fill=\"#000000\">entropy = 0.999</text>\n<text text-anchor=\"middle\" x=\"4910\" y=\"-141.8\" font-family=\"Times,serif\" font-size=\"14.00\" fill=\"#000000\">samples = 167</text>\n<text text-anchor=\"middle\" x=\"4910\" y=\"-126.8\" font-family=\"Times,serif\" font-size=\"14.00\" fill=\"#000000\">value = [80, 87]</text>\n<text text-anchor=\"middle\" x=\"4910\" y=\"-111.8\" font-family=\"Times,serif\" font-size=\"14.00\" fill=\"#000000\">class = yes</text>\n</g>\n<!-- 81&#45;&gt;85 -->\n<g id=\"edge85\" class=\"edge\">\n<title>81&#45;&gt;85</title>\n<path fill=\"none\" stroke=\"#000000\" d=\"M4791.6548,-222.8796C4806.6176,-213.0962 4822.6677,-202.6019 4837.9691,-192.5971\"/>\n<polygon fill=\"#000000\" stroke=\"#000000\" points=\"4839.9269,-195.4989 4846.3812,-187.0969 4836.0961,-189.6401 4839.9269,-195.4989\"/>\n</g>\n<!-- 83 -->\n<g id=\"node84\" class=\"node\">\n<title>83</title>\n<polygon fill=\"#fae9dc\" stroke=\"#000000\" points=\"4705,-68 4595,-68 4595,0 4705,0 4705,-68\"/>\n<text text-anchor=\"middle\" x=\"4650\" y=\"-52.8\" font-family=\"Times,serif\" font-size=\"14.00\" fill=\"#000000\">entropy = 0.993</text>\n<text text-anchor=\"middle\" x=\"4650\" y=\"-37.8\" font-family=\"Times,serif\" font-size=\"14.00\" fill=\"#000000\">samples = 124</text>\n<text text-anchor=\"middle\" x=\"4650\" y=\"-22.8\" font-family=\"Times,serif\" font-size=\"14.00\" fill=\"#000000\">value = [68, 56]</text>\n<text text-anchor=\"middle\" x=\"4650\" y=\"-7.8\" font-family=\"Times,serif\" font-size=\"14.00\" fill=\"#000000\">class = no</text>\n</g>\n<!-- 82&#45;&gt;83 -->\n<g id=\"edge83\" class=\"edge\">\n<title>82&#45;&gt;83</title>\n<path fill=\"none\" stroke=\"#000000\" d=\"M4698.9557,-103.9815C4692.7192,-95.0666 4686.1187,-85.6313 4679.8522,-76.6734\"/>\n<polygon fill=\"#000000\" stroke=\"#000000\" points=\"4682.5693,-74.4515 4673.9692,-68.2637 4676.8335,-78.464 4682.5693,-74.4515\"/>\n</g>\n<!-- 84 -->\n<g id=\"node85\" class=\"node\">\n<title>84</title>\n<polygon fill=\"#eb9d65\" stroke=\"#000000\" points=\"4840.5,-68 4723.5,-68 4723.5,0 4840.5,0 4840.5,-68\"/>\n<text text-anchor=\"middle\" x=\"4782\" y=\"-52.8\" font-family=\"Times,serif\" font-size=\"14.00\" fill=\"#000000\">entropy = 0.687</text>\n<text text-anchor=\"middle\" x=\"4782\" y=\"-37.8\" font-family=\"Times,serif\" font-size=\"14.00\" fill=\"#000000\">samples = 333</text>\n<text text-anchor=\"middle\" x=\"4782\" y=\"-22.8\" font-family=\"Times,serif\" font-size=\"14.00\" fill=\"#000000\">value = [272, 61]</text>\n<text text-anchor=\"middle\" x=\"4782\" y=\"-7.8\" font-family=\"Times,serif\" font-size=\"14.00\" fill=\"#000000\">class = no</text>\n</g>\n<!-- 82&#45;&gt;84 -->\n<g id=\"edge84\" class=\"edge\">\n<title>82&#45;&gt;84</title>\n<path fill=\"none\" stroke=\"#000000\" d=\"M4748.1076,-103.9815C4752.2916,-95.3423 4756.7123,-86.2144 4760.9299,-77.5059\"/>\n<polygon fill=\"#000000\" stroke=\"#000000\" points=\"4764.1971,-78.7893 4765.4059,-68.2637 4757.8971,-75.7382 4764.1971,-78.7893\"/>\n</g>\n<!-- 86 -->\n<g id=\"node87\" class=\"node\">\n<title>86</title>\n<polygon fill=\"#e58139\" stroke=\"#000000\" points=\"4961,-68 4859,-68 4859,0 4961,0 4961,-68\"/>\n<text text-anchor=\"middle\" x=\"4910\" y=\"-52.8\" font-family=\"Times,serif\" font-size=\"14.00\" fill=\"#000000\">entropy = 0.0</text>\n<text text-anchor=\"middle\" x=\"4910\" y=\"-37.8\" font-family=\"Times,serif\" font-size=\"14.00\" fill=\"#000000\">samples = 14</text>\n<text text-anchor=\"middle\" x=\"4910\" y=\"-22.8\" font-family=\"Times,serif\" font-size=\"14.00\" fill=\"#000000\">value = [14, 0]</text>\n<text text-anchor=\"middle\" x=\"4910\" y=\"-7.8\" font-family=\"Times,serif\" font-size=\"14.00\" fill=\"#000000\">class = no</text>\n</g>\n<!-- 85&#45;&gt;86 -->\n<g id=\"edge86\" class=\"edge\">\n<title>85&#45;&gt;86</title>\n<path fill=\"none\" stroke=\"#000000\" d=\"M4910,-103.9815C4910,-95.618 4910,-86.7965 4910,-78.3409\"/>\n<polygon fill=\"#000000\" stroke=\"#000000\" points=\"4913.5001,-78.2636 4910,-68.2637 4906.5001,-78.2637 4913.5001,-78.2636\"/>\n</g>\n<!-- 87 -->\n<g id=\"node88\" class=\"node\">\n<title>87</title>\n<polygon fill=\"#cfe7f9\" stroke=\"#000000\" points=\"5089,-68 4979,-68 4979,0 5089,0 5089,-68\"/>\n<text text-anchor=\"middle\" x=\"5034\" y=\"-52.8\" font-family=\"Times,serif\" font-size=\"14.00\" fill=\"#000000\">entropy = 0.986</text>\n<text text-anchor=\"middle\" x=\"5034\" y=\"-37.8\" font-family=\"Times,serif\" font-size=\"14.00\" fill=\"#000000\">samples = 153</text>\n<text text-anchor=\"middle\" x=\"5034\" y=\"-22.8\" font-family=\"Times,serif\" font-size=\"14.00\" fill=\"#000000\">value = [66, 87]</text>\n<text text-anchor=\"middle\" x=\"5034\" y=\"-7.8\" font-family=\"Times,serif\" font-size=\"14.00\" fill=\"#000000\">class = yes</text>\n</g>\n<!-- 85&#45;&gt;87 -->\n<g id=\"edge87\" class=\"edge\">\n<title>85&#45;&gt;87</title>\n<path fill=\"none\" stroke=\"#000000\" d=\"M4956.173,-103.9815C4966.7007,-94.5151 4977.8808,-84.462 4988.3849,-75.0168\"/>\n<polygon fill=\"#000000\" stroke=\"#000000\" points=\"4990.7994,-77.5526 4995.8951,-68.2637 4986.1189,-72.3475 4990.7994,-77.5526\"/>\n</g>\n<!-- 89 -->\n<g id=\"node90\" class=\"node\">\n<title>89</title>\n<polygon fill=\"#e78b48\" stroke=\"#000000\" points=\"5656,-425 5486,-425 5486,-342 5656,-342 5656,-425\"/>\n<text text-anchor=\"middle\" x=\"5571\" y=\"-409.8\" font-family=\"Times,serif\" font-size=\"14.00\" fill=\"#000000\">IsActiveMember_1 &lt;= 0.5</text>\n<text text-anchor=\"middle\" x=\"5571\" y=\"-394.8\" font-family=\"Times,serif\" font-size=\"14.00\" fill=\"#000000\">entropy = 0.369</text>\n<text text-anchor=\"middle\" x=\"5571\" y=\"-379.8\" font-family=\"Times,serif\" font-size=\"14.00\" fill=\"#000000\">samples = 438</text>\n<text text-anchor=\"middle\" x=\"5571\" y=\"-364.8\" font-family=\"Times,serif\" font-size=\"14.00\" fill=\"#000000\">value = [407, 31]</text>\n<text text-anchor=\"middle\" x=\"5571\" y=\"-349.8\" font-family=\"Times,serif\" font-size=\"14.00\" fill=\"#000000\">class = no</text>\n</g>\n<!-- 88&#45;&gt;89 -->\n<g id=\"edge89\" class=\"edge\">\n<title>88&#45;&gt;89</title>\n<path fill=\"none\" stroke=\"#000000\" d=\"M5571,-460.8796C5571,-452.6838 5571,-443.9891 5571,-435.5013\"/>\n<polygon fill=\"#000000\" stroke=\"#000000\" points=\"5574.5001,-435.298 5571,-425.2981 5567.5001,-435.2981 5574.5001,-435.298\"/>\n</g>\n<!-- 102 -->\n<g id=\"node103\" class=\"node\">\n<title>102</title>\n<polygon fill=\"#efb488\" stroke=\"#000000\" points=\"6150.5,-425 6025.5,-425 6025.5,-342 6150.5,-342 6150.5,-425\"/>\n<text text-anchor=\"middle\" x=\"6088\" y=\"-409.8\" font-family=\"Times,serif\" font-size=\"14.00\" fill=\"#000000\">Age &lt;= 44.5</text>\n<text text-anchor=\"middle\" x=\"6088\" y=\"-394.8\" font-family=\"Times,serif\" font-size=\"14.00\" fill=\"#000000\">entropy = 0.864</text>\n<text text-anchor=\"middle\" x=\"6088\" y=\"-379.8\" font-family=\"Times,serif\" font-size=\"14.00\" fill=\"#000000\">samples = 370</text>\n<text text-anchor=\"middle\" x=\"6088\" y=\"-364.8\" font-family=\"Times,serif\" font-size=\"14.00\" fill=\"#000000\">value = [264, 106]</text>\n<text text-anchor=\"middle\" x=\"6088\" y=\"-349.8\" font-family=\"Times,serif\" font-size=\"14.00\" fill=\"#000000\">class = no</text>\n</g>\n<!-- 88&#45;&gt;102 -->\n<g id=\"edge102\" class=\"edge\">\n<title>88&#45;&gt;102</title>\n<path fill=\"none\" stroke=\"#000000\" d=\"M5645.6241,-485.3235C5744.4372,-462.5793 5917.5713,-422.7283 6015.3717,-400.2172\"/>\n<polygon fill=\"#000000\" stroke=\"#000000\" points=\"6016.2154,-403.6146 6025.1754,-397.9606 6014.6451,-396.7929 6016.2154,-403.6146\"/>\n</g>\n<!-- 90 -->\n<g id=\"node91\" class=\"node\">\n<title>90</title>\n<polygon fill=\"#e99457\" stroke=\"#000000\" points=\"5544.5,-306 5427.5,-306 5427.5,-223 5544.5,-223 5544.5,-306\"/>\n<text text-anchor=\"middle\" x=\"5486\" y=\"-290.8\" font-family=\"Times,serif\" font-size=\"14.00\" fill=\"#000000\">Age &lt;= 51.5</text>\n<text text-anchor=\"middle\" x=\"5486\" y=\"-275.8\" font-family=\"Times,serif\" font-size=\"14.00\" fill=\"#000000\">entropy = 0.561</text>\n<text text-anchor=\"middle\" x=\"5486\" y=\"-260.8\" font-family=\"Times,serif\" font-size=\"14.00\" fill=\"#000000\">samples = 160</text>\n<text text-anchor=\"middle\" x=\"5486\" y=\"-245.8\" font-family=\"Times,serif\" font-size=\"14.00\" fill=\"#000000\">value = [139, 21]</text>\n<text text-anchor=\"middle\" x=\"5486\" y=\"-230.8\" font-family=\"Times,serif\" font-size=\"14.00\" fill=\"#000000\">class = no</text>\n</g>\n<!-- 89&#45;&gt;90 -->\n<g id=\"edge90\" class=\"edge\">\n<title>89&#45;&gt;90</title>\n<path fill=\"none\" stroke=\"#000000\" d=\"M5541.2711,-341.8796C5534.9667,-333.0534 5528.249,-323.6485 5521.7476,-314.5466\"/>\n<polygon fill=\"#000000\" stroke=\"#000000\" points=\"5524.5163,-312.4011 5515.8558,-306.2981 5518.8201,-316.4698 5524.5163,-312.4011\"/>\n</g>\n<!-- 97 -->\n<g id=\"node98\" class=\"node\">\n<title>97</title>\n<polygon fill=\"#e68640\" stroke=\"#000000\" points=\"5715.5,-306 5598.5,-306 5598.5,-223 5715.5,-223 5715.5,-306\"/>\n<text text-anchor=\"middle\" x=\"5657\" y=\"-290.8\" font-family=\"Times,serif\" font-size=\"14.00\" fill=\"#000000\">Age &lt;= 59.5</text>\n<text text-anchor=\"middle\" x=\"5657\" y=\"-275.8\" font-family=\"Times,serif\" font-size=\"14.00\" fill=\"#000000\">entropy = 0.224</text>\n<text text-anchor=\"middle\" x=\"5657\" y=\"-260.8\" font-family=\"Times,serif\" font-size=\"14.00\" fill=\"#000000\">samples = 278</text>\n<text text-anchor=\"middle\" x=\"5657\" y=\"-245.8\" font-family=\"Times,serif\" font-size=\"14.00\" fill=\"#000000\">value = [268, 10]</text>\n<text text-anchor=\"middle\" x=\"5657\" y=\"-230.8\" font-family=\"Times,serif\" font-size=\"14.00\" fill=\"#000000\">class = no</text>\n</g>\n<!-- 89&#45;&gt;97 -->\n<g id=\"edge97\" class=\"edge\">\n<title>89&#45;&gt;97</title>\n<path fill=\"none\" stroke=\"#000000\" d=\"M5601.0786,-341.8796C5607.4572,-333.0534 5614.254,-323.6485 5620.8319,-314.5466\"/>\n<polygon fill=\"#000000\" stroke=\"#000000\" points=\"5623.7723,-316.4532 5626.793,-306.2981 5618.0988,-312.353 5623.7723,-316.4532\"/>\n</g>\n<!-- 91 -->\n<g id=\"node92\" class=\"node\">\n<title>91</title>\n<polygon fill=\"#e78c4b\" stroke=\"#000000\" points=\"5373.5,-187 5184.5,-187 5184.5,-104 5373.5,-104 5373.5,-187\"/>\n<text text-anchor=\"middle\" x=\"5279\" y=\"-171.8\" font-family=\"Times,serif\" font-size=\"14.00\" fill=\"#000000\">EstimatedSalary &lt;= 36398.59</text>\n<text text-anchor=\"middle\" x=\"5279\" y=\"-156.8\" font-family=\"Times,serif\" font-size=\"14.00\" fill=\"#000000\">entropy = 0.414</text>\n<text text-anchor=\"middle\" x=\"5279\" y=\"-141.8\" font-family=\"Times,serif\" font-size=\"14.00\" fill=\"#000000\">samples = 144</text>\n<text text-anchor=\"middle\" x=\"5279\" y=\"-126.8\" font-family=\"Times,serif\" font-size=\"14.00\" fill=\"#000000\">value = [132, 12]</text>\n<text text-anchor=\"middle\" x=\"5279\" y=\"-111.8\" font-family=\"Times,serif\" font-size=\"14.00\" fill=\"#000000\">class = no</text>\n</g>\n<!-- 90&#45;&gt;91 -->\n<g id=\"edge91\" class=\"edge\">\n<title>90&#45;&gt;91</title>\n<path fill=\"none\" stroke=\"#000000\" d=\"M5427.2358,-230.7177C5406.4482,-218.7673 5382.6793,-205.1031 5360.3529,-192.2681\"/>\n<polygon fill=\"#000000\" stroke=\"#000000\" points=\"5361.9624,-189.1563 5351.5485,-187.2066 5358.4736,-195.2249 5361.9624,-189.1563\"/>\n</g>\n<!-- 94 -->\n<g id=\"node95\" class=\"node\">\n<title>94</title>\n<polygon fill=\"#d3e9f9\" stroke=\"#000000\" points=\"5580.5,-187 5391.5,-187 5391.5,-104 5580.5,-104 5580.5,-187\"/>\n<text text-anchor=\"middle\" x=\"5486\" y=\"-171.8\" font-family=\"Times,serif\" font-size=\"14.00\" fill=\"#000000\">EstimatedSalary &lt;= 64879.34</text>\n<text text-anchor=\"middle\" x=\"5486\" y=\"-156.8\" font-family=\"Times,serif\" font-size=\"14.00\" fill=\"#000000\">entropy = 0.989</text>\n<text text-anchor=\"middle\" x=\"5486\" y=\"-141.8\" font-family=\"Times,serif\" font-size=\"14.00\" fill=\"#000000\">samples = 16</text>\n<text text-anchor=\"middle\" x=\"5486\" y=\"-126.8\" font-family=\"Times,serif\" font-size=\"14.00\" fill=\"#000000\">value = [7, 9]</text>\n<text text-anchor=\"middle\" x=\"5486\" y=\"-111.8\" font-family=\"Times,serif\" font-size=\"14.00\" fill=\"#000000\">class = yes</text>\n</g>\n<!-- 90&#45;&gt;94 -->\n<g id=\"edge94\" class=\"edge\">\n<title>90&#45;&gt;94</title>\n<path fill=\"none\" stroke=\"#000000\" d=\"M5486,-222.8796C5486,-214.6838 5486,-205.9891 5486,-197.5013\"/>\n<polygon fill=\"#000000\" stroke=\"#000000\" points=\"5489.5001,-197.298 5486,-187.2981 5482.5001,-197.2981 5489.5001,-197.298\"/>\n</g>\n<!-- 92 -->\n<g id=\"node93\" class=\"node\">\n<title>92</title>\n<polygon fill=\"#e58139\" stroke=\"#000000\" points=\"5209,-68 5107,-68 5107,0 5209,0 5209,-68\"/>\n<text text-anchor=\"middle\" x=\"5158\" y=\"-52.8\" font-family=\"Times,serif\" font-size=\"14.00\" fill=\"#000000\">entropy = 0.0</text>\n<text text-anchor=\"middle\" x=\"5158\" y=\"-37.8\" font-family=\"Times,serif\" font-size=\"14.00\" fill=\"#000000\">samples = 29</text>\n<text text-anchor=\"middle\" x=\"5158\" y=\"-22.8\" font-family=\"Times,serif\" font-size=\"14.00\" fill=\"#000000\">value = [29, 0]</text>\n<text text-anchor=\"middle\" x=\"5158\" y=\"-7.8\" font-family=\"Times,serif\" font-size=\"14.00\" fill=\"#000000\">class = no</text>\n</g>\n<!-- 91&#45;&gt;92 -->\n<g id=\"edge92\" class=\"edge\">\n<title>91&#45;&gt;92</title>\n<path fill=\"none\" stroke=\"#000000\" d=\"M5233.9441,-103.9815C5223.7709,-94.607 5212.9733,-84.6572 5202.8102,-75.2921\"/>\n<polygon fill=\"#000000\" stroke=\"#000000\" points=\"5204.9087,-72.4663 5195.183,-68.2637 5200.1651,-77.6141 5204.9087,-72.4663\"/>\n</g>\n<!-- 93 -->\n<g id=\"node94\" class=\"node\">\n<title>93</title>\n<polygon fill=\"#e89050\" stroke=\"#000000\" points=\"5344.5,-68 5227.5,-68 5227.5,0 5344.5,0 5344.5,-68\"/>\n<text text-anchor=\"middle\" x=\"5286\" y=\"-52.8\" font-family=\"Times,serif\" font-size=\"14.00\" fill=\"#000000\">entropy = 0.483</text>\n<text text-anchor=\"middle\" x=\"5286\" y=\"-37.8\" font-family=\"Times,serif\" font-size=\"14.00\" fill=\"#000000\">samples = 115</text>\n<text text-anchor=\"middle\" x=\"5286\" y=\"-22.8\" font-family=\"Times,serif\" font-size=\"14.00\" fill=\"#000000\">value = [103, 12]</text>\n<text text-anchor=\"middle\" x=\"5286\" y=\"-7.8\" font-family=\"Times,serif\" font-size=\"14.00\" fill=\"#000000\">class = no</text>\n</g>\n<!-- 91&#45;&gt;93 -->\n<g id=\"edge93\" class=\"edge\">\n<title>91&#45;&gt;93</title>\n<path fill=\"none\" stroke=\"#000000\" d=\"M5281.6065,-103.9815C5282.1316,-95.618 5282.6854,-86.7965 5283.2163,-78.3409\"/>\n<polygon fill=\"#000000\" stroke=\"#000000\" points=\"5286.7154,-78.4634 5283.8489,-68.2637 5279.7291,-78.0247 5286.7154,-78.4634\"/>\n</g>\n<!-- 95 -->\n<g id=\"node96\" class=\"node\">\n<title>95</title>\n<polygon fill=\"#399de5\" stroke=\"#000000\" points=\"5457.5,-68 5362.5,-68 5362.5,0 5457.5,0 5457.5,-68\"/>\n<text text-anchor=\"middle\" x=\"5410\" y=\"-52.8\" font-family=\"Times,serif\" font-size=\"14.00\" fill=\"#000000\">entropy = 0.0</text>\n<text text-anchor=\"middle\" x=\"5410\" y=\"-37.8\" font-family=\"Times,serif\" font-size=\"14.00\" fill=\"#000000\">samples = 4</text>\n<text text-anchor=\"middle\" x=\"5410\" y=\"-22.8\" font-family=\"Times,serif\" font-size=\"14.00\" fill=\"#000000\">value = [0, 4]</text>\n<text text-anchor=\"middle\" x=\"5410\" y=\"-7.8\" font-family=\"Times,serif\" font-size=\"14.00\" fill=\"#000000\">class = yes</text>\n</g>\n<!-- 94&#45;&gt;95 -->\n<g id=\"edge95\" class=\"edge\">\n<title>94&#45;&gt;95</title>\n<path fill=\"none\" stroke=\"#000000\" d=\"M5457.7004,-103.9815C5451.6238,-95.0666 5445.1926,-85.6313 5439.0868,-76.6734\"/>\n<polygon fill=\"#000000\" stroke=\"#000000\" points=\"5441.8789,-74.5555 5433.3546,-68.2637 5436.0948,-78.498 5441.8789,-74.5555\"/>\n</g>\n<!-- 96 -->\n<g id=\"node97\" class=\"node\">\n<title>96</title>\n<polygon fill=\"#f8dbc6\" stroke=\"#000000\" points=\"5578.5,-68 5475.5,-68 5475.5,0 5578.5,0 5578.5,-68\"/>\n<text text-anchor=\"middle\" x=\"5527\" y=\"-52.8\" font-family=\"Times,serif\" font-size=\"14.00\" fill=\"#000000\">entropy = 0.98</text>\n<text text-anchor=\"middle\" x=\"5527\" y=\"-37.8\" font-family=\"Times,serif\" font-size=\"14.00\" fill=\"#000000\">samples = 12</text>\n<text text-anchor=\"middle\" x=\"5527\" y=\"-22.8\" font-family=\"Times,serif\" font-size=\"14.00\" fill=\"#000000\">value = [7, 5]</text>\n<text text-anchor=\"middle\" x=\"5527\" y=\"-7.8\" font-family=\"Times,serif\" font-size=\"14.00\" fill=\"#000000\">class = no</text>\n</g>\n<!-- 94&#45;&gt;96 -->\n<g id=\"edge96\" class=\"edge\">\n<title>94&#45;&gt;96</title>\n<path fill=\"none\" stroke=\"#000000\" d=\"M5501.2669,-103.9815C5504.4098,-95.4342 5507.7287,-86.4086 5510.9001,-77.7839\"/>\n<polygon fill=\"#000000\" stroke=\"#000000\" points=\"5514.2345,-78.8572 5514.4008,-68.2637 5507.6646,-76.4413 5514.2345,-78.8572\"/>\n</g>\n<!-- 98 -->\n<g id=\"node99\" class=\"node\">\n<title>98</title>\n<polygon fill=\"#e68743\" stroke=\"#000000\" points=\"5715.5,-187 5598.5,-187 5598.5,-104 5715.5,-104 5715.5,-187\"/>\n<text text-anchor=\"middle\" x=\"5657\" y=\"-171.8\" font-family=\"Times,serif\" font-size=\"14.00\" fill=\"#000000\">Age &lt;= 47.5</text>\n<text text-anchor=\"middle\" x=\"5657\" y=\"-156.8\" font-family=\"Times,serif\" font-size=\"14.00\" fill=\"#000000\">entropy = 0.281</text>\n<text text-anchor=\"middle\" x=\"5657\" y=\"-141.8\" font-family=\"Times,serif\" font-size=\"14.00\" fill=\"#000000\">samples = 205</text>\n<text text-anchor=\"middle\" x=\"5657\" y=\"-126.8\" font-family=\"Times,serif\" font-size=\"14.00\" fill=\"#000000\">value = [195, 10]</text>\n<text text-anchor=\"middle\" x=\"5657\" y=\"-111.8\" font-family=\"Times,serif\" font-size=\"14.00\" fill=\"#000000\">class = no</text>\n</g>\n<!-- 97&#45;&gt;98 -->\n<g id=\"edge98\" class=\"edge\">\n<title>97&#45;&gt;98</title>\n<path fill=\"none\" stroke=\"#000000\" d=\"M5657,-222.8796C5657,-214.6838 5657,-205.9891 5657,-197.5013\"/>\n<polygon fill=\"#000000\" stroke=\"#000000\" points=\"5660.5001,-197.298 5657,-187.2981 5653.5001,-197.2981 5660.5001,-197.298\"/>\n</g>\n<!-- 101 -->\n<g id=\"node102\" class=\"node\">\n<title>101</title>\n<polygon fill=\"#e58139\" stroke=\"#000000\" points=\"5836,-179.5 5734,-179.5 5734,-111.5 5836,-111.5 5836,-179.5\"/>\n<text text-anchor=\"middle\" x=\"5785\" y=\"-164.3\" font-family=\"Times,serif\" font-size=\"14.00\" fill=\"#000000\">entropy = 0.0</text>\n<text text-anchor=\"middle\" x=\"5785\" y=\"-149.3\" font-family=\"Times,serif\" font-size=\"14.00\" fill=\"#000000\">samples = 73</text>\n<text text-anchor=\"middle\" x=\"5785\" y=\"-134.3\" font-family=\"Times,serif\" font-size=\"14.00\" fill=\"#000000\">value = [73, 0]</text>\n<text text-anchor=\"middle\" x=\"5785\" y=\"-119.3\" font-family=\"Times,serif\" font-size=\"14.00\" fill=\"#000000\">class = no</text>\n</g>\n<!-- 97&#45;&gt;101 -->\n<g id=\"edge101\" class=\"edge\">\n<title>97&#45;&gt;101</title>\n<path fill=\"none\" stroke=\"#000000\" d=\"M5701.7682,-222.8796C5714.3056,-211.2237 5727.9284,-198.5587 5740.453,-186.9148\"/>\n<polygon fill=\"#000000\" stroke=\"#000000\" points=\"5743.1491,-189.1872 5748.0898,-179.8149 5738.3828,-184.0605 5743.1491,-189.1872\"/>\n</g>\n<!-- 99 -->\n<g id=\"node100\" class=\"node\">\n<title>99</title>\n<polygon fill=\"#e5823b\" stroke=\"#000000\" points=\"5705.5,-68 5596.5,-68 5596.5,0 5705.5,0 5705.5,-68\"/>\n<text text-anchor=\"middle\" x=\"5651\" y=\"-52.8\" font-family=\"Times,serif\" font-size=\"14.00\" fill=\"#000000\">entropy = 0.07</text>\n<text text-anchor=\"middle\" x=\"5651\" y=\"-37.8\" font-family=\"Times,serif\" font-size=\"14.00\" fill=\"#000000\">samples = 120</text>\n<text text-anchor=\"middle\" x=\"5651\" y=\"-22.8\" font-family=\"Times,serif\" font-size=\"14.00\" fill=\"#000000\">value = [119, 1]</text>\n<text text-anchor=\"middle\" x=\"5651\" y=\"-7.8\" font-family=\"Times,serif\" font-size=\"14.00\" fill=\"#000000\">class = no</text>\n</g>\n<!-- 98&#45;&gt;99 -->\n<g id=\"edge99\" class=\"edge\">\n<title>98&#45;&gt;99</title>\n<path fill=\"none\" stroke=\"#000000\" d=\"M5654.7658,-103.9815C5654.3158,-95.618 5653.8411,-86.7965 5653.3861,-78.3409\"/>\n<polygon fill=\"#000000\" stroke=\"#000000\" points=\"5656.8762,-78.0611 5652.8438,-68.2637 5649.8863,-78.4373 5656.8762,-78.0611\"/>\n</g>\n<!-- 100 -->\n<g id=\"node101\" class=\"node\">\n<title>100</title>\n<polygon fill=\"#e89050\" stroke=\"#000000\" points=\"5834,-68 5724,-68 5724,0 5834,0 5834,-68\"/>\n<text text-anchor=\"middle\" x=\"5779\" y=\"-52.8\" font-family=\"Times,serif\" font-size=\"14.00\" fill=\"#000000\">entropy = 0.487</text>\n<text text-anchor=\"middle\" x=\"5779\" y=\"-37.8\" font-family=\"Times,serif\" font-size=\"14.00\" fill=\"#000000\">samples = 85</text>\n<text text-anchor=\"middle\" x=\"5779\" y=\"-22.8\" font-family=\"Times,serif\" font-size=\"14.00\" fill=\"#000000\">value = [76, 9]</text>\n<text text-anchor=\"middle\" x=\"5779\" y=\"-7.8\" font-family=\"Times,serif\" font-size=\"14.00\" fill=\"#000000\">class = no</text>\n</g>\n<!-- 98&#45;&gt;100 -->\n<g id=\"edge100\" class=\"edge\">\n<title>98&#45;&gt;100</title>\n<path fill=\"none\" stroke=\"#000000\" d=\"M5702.4283,-103.9815C5712.7861,-94.5151 5723.7859,-84.462 5734.1206,-75.0168\"/>\n<polygon fill=\"#000000\" stroke=\"#000000\" points=\"5736.4893,-77.5935 5741.5097,-68.2637 5731.7669,-72.4264 5736.4893,-77.5935\"/>\n</g>\n<!-- 103 -->\n<g id=\"node104\" class=\"node\">\n<title>103</title>\n<polygon fill=\"#e9975b\" stroke=\"#000000\" points=\"6159,-306 6017,-306 6017,-223 6159,-223 6159,-306\"/>\n<text text-anchor=\"middle\" x=\"6088\" y=\"-290.8\" font-family=\"Times,serif\" font-size=\"14.00\" fill=\"#000000\">CreditScore &lt;= 682.5</text>\n<text text-anchor=\"middle\" x=\"6088\" y=\"-275.8\" font-family=\"Times,serif\" font-size=\"14.00\" fill=\"#000000\">entropy = 0.601</text>\n<text text-anchor=\"middle\" x=\"6088\" y=\"-260.8\" font-family=\"Times,serif\" font-size=\"14.00\" fill=\"#000000\">samples = 116</text>\n<text text-anchor=\"middle\" x=\"6088\" y=\"-245.8\" font-family=\"Times,serif\" font-size=\"14.00\" fill=\"#000000\">value = [99, 17]</text>\n<text text-anchor=\"middle\" x=\"6088\" y=\"-230.8\" font-family=\"Times,serif\" font-size=\"14.00\" fill=\"#000000\">class = no</text>\n</g>\n<!-- 102&#45;&gt;103 -->\n<g id=\"edge103\" class=\"edge\">\n<title>102&#45;&gt;103</title>\n<path fill=\"none\" stroke=\"#000000\" d=\"M6088,-341.8796C6088,-333.6838 6088,-324.9891 6088,-316.5013\"/>\n<polygon fill=\"#000000\" stroke=\"#000000\" points=\"6091.5001,-316.298 6088,-306.2981 6084.5001,-316.2981 6091.5001,-316.298\"/>\n</g>\n<!-- 110 -->\n<g id=\"node111\" class=\"node\">\n<title>110</title>\n<polygon fill=\"#f3c5a4\" stroke=\"#000000\" points=\"6546,-306 6376,-306 6376,-223 6546,-223 6546,-306\"/>\n<text text-anchor=\"middle\" x=\"6461\" y=\"-290.8\" font-family=\"Times,serif\" font-size=\"14.00\" fill=\"#000000\">IsActiveMember_0 &lt;= 0.5</text>\n<text text-anchor=\"middle\" x=\"6461\" y=\"-275.8\" font-family=\"Times,serif\" font-size=\"14.00\" fill=\"#000000\">entropy = 0.934</text>\n<text text-anchor=\"middle\" x=\"6461\" y=\"-260.8\" font-family=\"Times,serif\" font-size=\"14.00\" fill=\"#000000\">samples = 254</text>\n<text text-anchor=\"middle\" x=\"6461\" y=\"-245.8\" font-family=\"Times,serif\" font-size=\"14.00\" fill=\"#000000\">value = [165, 89]</text>\n<text text-anchor=\"middle\" x=\"6461\" y=\"-230.8\" font-family=\"Times,serif\" font-size=\"14.00\" fill=\"#000000\">class = no</text>\n</g>\n<!-- 102&#45;&gt;110 -->\n<g id=\"edge110\" class=\"edge\">\n<title>102&#45;&gt;110</title>\n<path fill=\"none\" stroke=\"#000000\" d=\"M6150.8526,-363.4478C6209.7246,-344.6656 6298.5145,-316.3386 6366.0272,-294.7996\"/>\n<polygon fill=\"#000000\" stroke=\"#000000\" points=\"6367.3646,-298.0469 6375.8276,-291.6729 6365.2369,-291.378 6367.3646,-298.0469\"/>\n</g>\n<!-- 104 -->\n<g id=\"node105\" class=\"node\">\n<title>104</title>\n<polygon fill=\"#eca26c\" stroke=\"#000000\" points=\"6080,-187 5938,-187 5938,-104 6080,-104 6080,-187\"/>\n<text text-anchor=\"middle\" x=\"6009\" y=\"-171.8\" font-family=\"Times,serif\" font-size=\"14.00\" fill=\"#000000\">CreditScore &lt;= 680.0</text>\n<text text-anchor=\"middle\" x=\"6009\" y=\"-156.8\" font-family=\"Times,serif\" font-size=\"14.00\" fill=\"#000000\">entropy = 0.733</text>\n<text text-anchor=\"middle\" x=\"6009\" y=\"-141.8\" font-family=\"Times,serif\" font-size=\"14.00\" fill=\"#000000\">samples = 73</text>\n<text text-anchor=\"middle\" x=\"6009\" y=\"-126.8\" font-family=\"Times,serif\" font-size=\"14.00\" fill=\"#000000\">value = [58, 15]</text>\n<text text-anchor=\"middle\" x=\"6009\" y=\"-111.8\" font-family=\"Times,serif\" font-size=\"14.00\" fill=\"#000000\">class = no</text>\n</g>\n<!-- 103&#45;&gt;104 -->\n<g id=\"edge104\" class=\"edge\">\n<title>103&#45;&gt;104</title>\n<path fill=\"none\" stroke=\"#000000\" d=\"M6060.3696,-222.8796C6054.57,-214.1434 6048.3941,-204.8404 6042.4092,-195.8253\"/>\n<polygon fill=\"#000000\" stroke=\"#000000\" points=\"6045.1951,-193.6935 6036.7483,-187.2981 6039.3632,-197.5652 6045.1951,-193.6935\"/>\n</g>\n<!-- 107 -->\n<g id=\"node108\" class=\"node\">\n<title>107</title>\n<polygon fill=\"#e68743\" stroke=\"#000000\" points=\"6235.5,-187 6098.5,-187 6098.5,-104 6235.5,-104 6235.5,-187\"/>\n<text text-anchor=\"middle\" x=\"6167\" y=\"-171.8\" font-family=\"Times,serif\" font-size=\"14.00\" fill=\"#000000\">Gender_Male &lt;= 0.5</text>\n<text text-anchor=\"middle\" x=\"6167\" y=\"-156.8\" font-family=\"Times,serif\" font-size=\"14.00\" fill=\"#000000\">entropy = 0.271</text>\n<text text-anchor=\"middle\" x=\"6167\" y=\"-141.8\" font-family=\"Times,serif\" font-size=\"14.00\" fill=\"#000000\">samples = 43</text>\n<text text-anchor=\"middle\" x=\"6167\" y=\"-126.8\" font-family=\"Times,serif\" font-size=\"14.00\" fill=\"#000000\">value = [41, 2]</text>\n<text text-anchor=\"middle\" x=\"6167\" y=\"-111.8\" font-family=\"Times,serif\" font-size=\"14.00\" fill=\"#000000\">class = no</text>\n</g>\n<!-- 103&#45;&gt;107 -->\n<g id=\"edge107\" class=\"edge\">\n<title>103&#45;&gt;107</title>\n<path fill=\"none\" stroke=\"#000000\" d=\"M6115.6304,-222.8796C6121.43,-214.1434 6127.6059,-204.8404 6133.5908,-195.8253\"/>\n<polygon fill=\"#000000\" stroke=\"#000000\" points=\"6136.6368,-197.5652 6139.2517,-187.2981 6130.8049,-193.6935 6136.6368,-197.5652\"/>\n</g>\n<!-- 105 -->\n<g id=\"node106\" class=\"node\">\n<title>105</title>\n<polygon fill=\"#eb9f69\" stroke=\"#000000\" points=\"5962,-68 5852,-68 5852,0 5962,0 5962,-68\"/>\n<text text-anchor=\"middle\" x=\"5907\" y=\"-52.8\" font-family=\"Times,serif\" font-size=\"14.00\" fill=\"#000000\">entropy = 0.711</text>\n<text text-anchor=\"middle\" x=\"5907\" y=\"-37.8\" font-family=\"Times,serif\" font-size=\"14.00\" fill=\"#000000\">samples = 72</text>\n<text text-anchor=\"middle\" x=\"5907\" y=\"-22.8\" font-family=\"Times,serif\" font-size=\"14.00\" fill=\"#000000\">value = [58, 14]</text>\n<text text-anchor=\"middle\" x=\"5907\" y=\"-7.8\" font-family=\"Times,serif\" font-size=\"14.00\" fill=\"#000000\">class = no</text>\n</g>\n<!-- 104&#45;&gt;105 -->\n<g id=\"edge105\" class=\"edge\">\n<title>104&#45;&gt;105</title>\n<path fill=\"none\" stroke=\"#000000\" d=\"M5971.019,-103.9815C5962.6114,-94.7908 5953.6979,-85.0472 5945.2785,-75.8436\"/>\n<polygon fill=\"#000000\" stroke=\"#000000\" points=\"5947.6766,-73.2797 5938.3443,-68.2637 5942.5117,-78.0045 5947.6766,-73.2797\"/>\n</g>\n<!-- 106 -->\n<g id=\"node107\" class=\"node\">\n<title>106</title>\n<polygon fill=\"#399de5\" stroke=\"#000000\" points=\"6075.5,-68 5980.5,-68 5980.5,0 6075.5,0 6075.5,-68\"/>\n<text text-anchor=\"middle\" x=\"6028\" y=\"-52.8\" font-family=\"Times,serif\" font-size=\"14.00\" fill=\"#000000\">entropy = 0.0</text>\n<text text-anchor=\"middle\" x=\"6028\" y=\"-37.8\" font-family=\"Times,serif\" font-size=\"14.00\" fill=\"#000000\">samples = 1</text>\n<text text-anchor=\"middle\" x=\"6028\" y=\"-22.8\" font-family=\"Times,serif\" font-size=\"14.00\" fill=\"#000000\">value = [0, 1]</text>\n<text text-anchor=\"middle\" x=\"6028\" y=\"-7.8\" font-family=\"Times,serif\" font-size=\"14.00\" fill=\"#000000\">class = yes</text>\n</g>\n<!-- 104&#45;&gt;106 -->\n<g id=\"edge106\" class=\"edge\">\n<title>104&#45;&gt;106</title>\n<path fill=\"none\" stroke=\"#000000\" d=\"M6016.0749,-103.9815C6017.5001,-95.618 6019.0033,-86.7965 6020.4442,-78.3409\"/>\n<polygon fill=\"#000000\" stroke=\"#000000\" points=\"6023.9317,-78.7095 6022.1613,-68.2637 6017.0312,-77.5336 6023.9317,-78.7095\"/>\n</g>\n<!-- 108 -->\n<g id=\"node109\" class=\"node\">\n<title>108</title>\n<polygon fill=\"#e89152\" stroke=\"#000000\" points=\"6204,-68 6094,-68 6094,0 6204,0 6204,-68\"/>\n<text text-anchor=\"middle\" x=\"6149\" y=\"-52.8\" font-family=\"Times,serif\" font-size=\"14.00\" fill=\"#000000\">entropy = 0.503</text>\n<text text-anchor=\"middle\" x=\"6149\" y=\"-37.8\" font-family=\"Times,serif\" font-size=\"14.00\" fill=\"#000000\">samples = 18</text>\n<text text-anchor=\"middle\" x=\"6149\" y=\"-22.8\" font-family=\"Times,serif\" font-size=\"14.00\" fill=\"#000000\">value = [16, 2]</text>\n<text text-anchor=\"middle\" x=\"6149\" y=\"-7.8\" font-family=\"Times,serif\" font-size=\"14.00\" fill=\"#000000\">class = no</text>\n</g>\n<!-- 107&#45;&gt;108 -->\n<g id=\"edge108\" class=\"edge\">\n<title>107&#45;&gt;108</title>\n<path fill=\"none\" stroke=\"#000000\" d=\"M6160.2975,-103.9815C6158.9473,-95.618 6157.5232,-86.7965 6156.1582,-78.3409\"/>\n<polygon fill=\"#000000\" stroke=\"#000000\" points=\"6159.5804,-77.578 6154.5314,-68.2637 6152.6699,-78.6937 6159.5804,-77.578\"/>\n</g>\n<!-- 109 -->\n<g id=\"node110\" class=\"node\">\n<title>109</title>\n<polygon fill=\"#e58139\" stroke=\"#000000\" points=\"6324,-68 6222,-68 6222,0 6324,0 6324,-68\"/>\n<text text-anchor=\"middle\" x=\"6273\" y=\"-52.8\" font-family=\"Times,serif\" font-size=\"14.00\" fill=\"#000000\">entropy = 0.0</text>\n<text text-anchor=\"middle\" x=\"6273\" y=\"-37.8\" font-family=\"Times,serif\" font-size=\"14.00\" fill=\"#000000\">samples = 25</text>\n<text text-anchor=\"middle\" x=\"6273\" y=\"-22.8\" font-family=\"Times,serif\" font-size=\"14.00\" fill=\"#000000\">value = [25, 0]</text>\n<text text-anchor=\"middle\" x=\"6273\" y=\"-7.8\" font-family=\"Times,serif\" font-size=\"14.00\" fill=\"#000000\">class = no</text>\n</g>\n<!-- 107&#45;&gt;109 -->\n<g id=\"edge109\" class=\"edge\">\n<title>107&#45;&gt;109</title>\n<path fill=\"none\" stroke=\"#000000\" d=\"M6206.4705,-103.9815C6215.2952,-94.6989 6224.6562,-84.8522 6233.4827,-75.5677\"/>\n<polygon fill=\"#000000\" stroke=\"#000000\" points=\"6236.073,-77.9228 6240.4265,-68.2637 6230.9997,-73.0997 6236.073,-77.9228\"/>\n</g>\n<!-- 111 -->\n<g id=\"node112\" class=\"node\">\n<title>111</title>\n<polygon fill=\"#eda673\" stroke=\"#000000\" points=\"6519.5,-187 6402.5,-187 6402.5,-104 6519.5,-104 6519.5,-187\"/>\n<text text-anchor=\"middle\" x=\"6461\" y=\"-171.8\" font-family=\"Times,serif\" font-size=\"14.00\" fill=\"#000000\">Age &lt;= 66.5</text>\n<text text-anchor=\"middle\" x=\"6461\" y=\"-156.8\" font-family=\"Times,serif\" font-size=\"14.00\" fill=\"#000000\">entropy = 0.774</text>\n<text text-anchor=\"middle\" x=\"6461\" y=\"-141.8\" font-family=\"Times,serif\" font-size=\"14.00\" fill=\"#000000\">samples = 158</text>\n<text text-anchor=\"middle\" x=\"6461\" y=\"-126.8\" font-family=\"Times,serif\" font-size=\"14.00\" fill=\"#000000\">value = [122, 36]</text>\n<text text-anchor=\"middle\" x=\"6461\" y=\"-111.8\" font-family=\"Times,serif\" font-size=\"14.00\" fill=\"#000000\">class = no</text>\n</g>\n<!-- 110&#45;&gt;111 -->\n<g id=\"edge111\" class=\"edge\">\n<title>110&#45;&gt;111</title>\n<path fill=\"none\" stroke=\"#000000\" d=\"M6461,-222.8796C6461,-214.6838 6461,-205.9891 6461,-197.5013\"/>\n<polygon fill=\"#000000\" stroke=\"#000000\" points=\"6464.5001,-197.298 6461,-187.2981 6457.5001,-197.2981 6464.5001,-197.298\"/>\n</g>\n<!-- 114 -->\n<g id=\"node115\" class=\"node\">\n<title>114</title>\n<polygon fill=\"#daedfa\" stroke=\"#000000\" points=\"6708,-187 6598,-187 6598,-104 6708,-104 6708,-187\"/>\n<text text-anchor=\"middle\" x=\"6653\" y=\"-171.8\" font-family=\"Times,serif\" font-size=\"14.00\" fill=\"#000000\">Age &lt;= 53.5</text>\n<text text-anchor=\"middle\" x=\"6653\" y=\"-156.8\" font-family=\"Times,serif\" font-size=\"14.00\" fill=\"#000000\">entropy = 0.992</text>\n<text text-anchor=\"middle\" x=\"6653\" y=\"-141.8\" font-family=\"Times,serif\" font-size=\"14.00\" fill=\"#000000\">samples = 96</text>\n<text text-anchor=\"middle\" x=\"6653\" y=\"-126.8\" font-family=\"Times,serif\" font-size=\"14.00\" fill=\"#000000\">value = [43, 53]</text>\n<text text-anchor=\"middle\" x=\"6653\" y=\"-111.8\" font-family=\"Times,serif\" font-size=\"14.00\" fill=\"#000000\">class = yes</text>\n</g>\n<!-- 110&#45;&gt;114 -->\n<g id=\"edge114\" class=\"edge\">\n<title>110&#45;&gt;114</title>\n<path fill=\"none\" stroke=\"#000000\" d=\"M6528.1523,-222.8796C6548.0283,-210.5606 6569.7232,-197.1143 6589.3695,-184.9376\"/>\n<polygon fill=\"#000000\" stroke=\"#000000\" points=\"6591.2884,-187.8661 6597.9443,-179.623 6587.6007,-181.9163 6591.2884,-187.8661\"/>\n</g>\n<!-- 112 -->\n<g id=\"node113\" class=\"node\">\n<title>112</title>\n<polygon fill=\"#eeae80\" stroke=\"#000000\" points=\"6459.5,-68 6342.5,-68 6342.5,0 6459.5,0 6459.5,-68\"/>\n<text text-anchor=\"middle\" x=\"6401\" y=\"-52.8\" font-family=\"Times,serif\" font-size=\"14.00\" fill=\"#000000\">entropy = 0.834</text>\n<text text-anchor=\"middle\" x=\"6401\" y=\"-37.8\" font-family=\"Times,serif\" font-size=\"14.00\" fill=\"#000000\">samples = 136</text>\n<text text-anchor=\"middle\" x=\"6401\" y=\"-22.8\" font-family=\"Times,serif\" font-size=\"14.00\" fill=\"#000000\">value = [100, 36]</text>\n<text text-anchor=\"middle\" x=\"6401\" y=\"-7.8\" font-family=\"Times,serif\" font-size=\"14.00\" fill=\"#000000\">class = no</text>\n</g>\n<!-- 111&#45;&gt;112 -->\n<g id=\"edge112\" class=\"edge\">\n<title>111&#45;&gt;112</title>\n<path fill=\"none\" stroke=\"#000000\" d=\"M6438.6582,-103.9815C6433.9598,-95.2504 6428.9929,-86.0202 6424.2617,-77.2281\"/>\n<polygon fill=\"#000000\" stroke=\"#000000\" points=\"6427.2586,-75.4111 6419.4379,-68.2637 6421.0944,-78.7282 6427.2586,-75.4111\"/>\n</g>\n<!-- 113 -->\n<g id=\"node114\" class=\"node\">\n<title>113</title>\n<polygon fill=\"#e58139\" stroke=\"#000000\" points=\"6580,-68 6478,-68 6478,0 6580,0 6580,-68\"/>\n<text text-anchor=\"middle\" x=\"6529\" y=\"-52.8\" font-family=\"Times,serif\" font-size=\"14.00\" fill=\"#000000\">entropy = 0.0</text>\n<text text-anchor=\"middle\" x=\"6529\" y=\"-37.8\" font-family=\"Times,serif\" font-size=\"14.00\" fill=\"#000000\">samples = 22</text>\n<text text-anchor=\"middle\" x=\"6529\" y=\"-22.8\" font-family=\"Times,serif\" font-size=\"14.00\" fill=\"#000000\">value = [22, 0]</text>\n<text text-anchor=\"middle\" x=\"6529\" y=\"-7.8\" font-family=\"Times,serif\" font-size=\"14.00\" fill=\"#000000\">class = no</text>\n</g>\n<!-- 111&#45;&gt;113 -->\n<g id=\"edge113\" class=\"edge\">\n<title>111&#45;&gt;113</title>\n<path fill=\"none\" stroke=\"#000000\" d=\"M6486.3207,-103.9815C6491.7016,-95.1585 6497.3932,-85.8258 6502.8059,-76.9506\"/>\n<polygon fill=\"#000000\" stroke=\"#000000\" points=\"6505.8851,-78.6236 6508.1038,-68.2637 6499.9088,-74.9789 6505.8851,-78.6236\"/>\n</g>\n<!-- 115 -->\n<g id=\"node116\" class=\"node\">\n<title>115</title>\n<polygon fill=\"#f9e4d5\" stroke=\"#000000\" points=\"6708,-68 6598,-68 6598,0 6708,0 6708,-68\"/>\n<text text-anchor=\"middle\" x=\"6653\" y=\"-52.8\" font-family=\"Times,serif\" font-size=\"14.00\" fill=\"#000000\">entropy = 0.99</text>\n<text text-anchor=\"middle\" x=\"6653\" y=\"-37.8\" font-family=\"Times,serif\" font-size=\"14.00\" fill=\"#000000\">samples = 75</text>\n<text text-anchor=\"middle\" x=\"6653\" y=\"-22.8\" font-family=\"Times,serif\" font-size=\"14.00\" fill=\"#000000\">value = [42, 33]</text>\n<text text-anchor=\"middle\" x=\"6653\" y=\"-7.8\" font-family=\"Times,serif\" font-size=\"14.00\" fill=\"#000000\">class = no</text>\n</g>\n<!-- 114&#45;&gt;115 -->\n<g id=\"edge115\" class=\"edge\">\n<title>114&#45;&gt;115</title>\n<path fill=\"none\" stroke=\"#000000\" d=\"M6653,-103.9815C6653,-95.618 6653,-86.7965 6653,-78.3409\"/>\n<polygon fill=\"#000000\" stroke=\"#000000\" points=\"6656.5001,-78.2636 6653,-68.2637 6649.5001,-78.2637 6656.5001,-78.2636\"/>\n</g>\n<!-- 116 -->\n<g id=\"node117\" class=\"node\">\n<title>116</title>\n<polygon fill=\"#43a2e6\" stroke=\"#000000\" points=\"6836,-68 6726,-68 6726,0 6836,0 6836,-68\"/>\n<text text-anchor=\"middle\" x=\"6781\" y=\"-52.8\" font-family=\"Times,serif\" font-size=\"14.00\" fill=\"#000000\">entropy = 0.276</text>\n<text text-anchor=\"middle\" x=\"6781\" y=\"-37.8\" font-family=\"Times,serif\" font-size=\"14.00\" fill=\"#000000\">samples = 21</text>\n<text text-anchor=\"middle\" x=\"6781\" y=\"-22.8\" font-family=\"Times,serif\" font-size=\"14.00\" fill=\"#000000\">value = [1, 20]</text>\n<text text-anchor=\"middle\" x=\"6781\" y=\"-7.8\" font-family=\"Times,serif\" font-size=\"14.00\" fill=\"#000000\">class = yes</text>\n</g>\n<!-- 114&#45;&gt;116 -->\n<g id=\"edge116\" class=\"edge\">\n<title>114&#45;&gt;116</title>\n<path fill=\"none\" stroke=\"#000000\" d=\"M6700.6625,-103.9815C6711.5297,-94.5151 6723.0705,-84.462 6733.9135,-75.0168\"/>\n<polygon fill=\"#000000\" stroke=\"#000000\" points=\"6736.4245,-77.4712 6741.6659,-68.2637 6731.8266,-72.1929 6736.4245,-77.4712\"/>\n</g>\n</g>\n</svg>\n"
          },
          "metadata": {
            "tags": []
          },
          "execution_count": 56
        }
      ]
    },
    {
      "cell_type": "markdown",
      "metadata": {
        "id": "qu1WLETc7GF1"
      },
      "source": [
        "Accuracy"
      ]
    },
    {
      "cell_type": "code",
      "metadata": {
        "id": "GTrvLl8i7Bqn",
        "colab": {
          "base_uri": "https://localhost:8080/"
        },
        "outputId": "f00ca9c0-3484-46fb-c706-ddb9e23c67ce"
      },
      "source": [
        "from sklearn.metrics import accuracy_score\n",
        "accuracy_score(y_train,preds_train)#checking the accuracy for train data"
      ],
      "execution_count": 48,
      "outputs": [
        {
          "output_type": "execute_result",
          "data": {
            "text/plain": [
              "0.8579104477611941"
            ]
          },
          "metadata": {
            "tags": []
          },
          "execution_count": 48
        }
      ]
    },
    {
      "cell_type": "code",
      "metadata": {
        "id": "5rBxDCND7Jc9",
        "colab": {
          "base_uri": "https://localhost:8080/"
        },
        "outputId": "e6baacec-e585-439a-e70e-1e1ab19eb972"
      },
      "source": [
        "accuracy_score(y_test,preds_test)#checking the accuracy for the test data"
      ],
      "execution_count": 49,
      "outputs": [
        {
          "output_type": "execute_result",
          "data": {
            "text/plain": [
              "0.8636363636363636"
            ]
          },
          "metadata": {
            "tags": []
          },
          "execution_count": 49
        }
      ]
    },
    {
      "cell_type": "markdown",
      "metadata": {
        "id": "NxH1iGnk7YNT"
      },
      "source": [
        "Confusion Matrix"
      ]
    },
    {
      "cell_type": "code",
      "metadata": {
        "id": "JyvN2Mg17Qwn",
        "colab": {
          "base_uri": "https://localhost:8080/"
        },
        "outputId": "7925f95b-e11b-48ba-928f-81ec1b08406f"
      },
      "source": [
        "from sklearn.metrics import confusion_matrix\n",
        "print(confusion_matrix(y_train,preds_train))\n"
      ],
      "execution_count": 50,
      "outputs": [
        {
          "output_type": "stream",
          "text": [
            "[[5168  138]\n",
            " [ 814  580]]\n"
          ],
          "name": "stdout"
        }
      ]
    },
    {
      "cell_type": "code",
      "metadata": {
        "id": "iT5vP7Mt7cFH",
        "colab": {
          "base_uri": "https://localhost:8080/"
        },
        "outputId": "4191314b-6461-4ff1-e410-86ea6babadcd"
      },
      "source": [
        "print(confusion_matrix(y_test,preds_test))"
      ],
      "execution_count": 51,
      "outputs": [
        {
          "output_type": "stream",
          "text": [
            "[[2575   82]\n",
            " [ 368  275]]\n"
          ],
          "name": "stdout"
        }
      ]
    },
    {
      "cell_type": "code",
      "metadata": {
        "id": "zrcVLf5t7hBQ",
        "colab": {
          "base_uri": "https://localhost:8080/"
        },
        "outputId": "f06c93c8-2a4c-449c-b761-45a3b3566b27"
      },
      "source": [
        "from sklearn.metrics import classification_report\n",
        "print(classification_report(y_train,preds_train))"
      ],
      "execution_count": 52,
      "outputs": [
        {
          "output_type": "stream",
          "text": [
            "              precision    recall  f1-score   support\n",
            "\n",
            "           0       0.86      0.97      0.92      5306\n",
            "           1       0.81      0.42      0.55      1394\n",
            "\n",
            "    accuracy                           0.86      6700\n",
            "   macro avg       0.84      0.70      0.73      6700\n",
            "weighted avg       0.85      0.86      0.84      6700\n",
            "\n"
          ],
          "name": "stdout"
        }
      ]
    },
    {
      "cell_type": "code",
      "metadata": {
        "id": "dfZE22ok7k-t",
        "colab": {
          "base_uri": "https://localhost:8080/"
        },
        "outputId": "d363b323-b2d8-4e75-a48a-da9b710069bc"
      },
      "source": [
        "print(classification_report(y_test,preds_test))"
      ],
      "execution_count": 53,
      "outputs": [
        {
          "output_type": "stream",
          "text": [
            "              precision    recall  f1-score   support\n",
            "\n",
            "           0       0.87      0.97      0.92      2657\n",
            "           1       0.77      0.43      0.55       643\n",
            "\n",
            "    accuracy                           0.86      3300\n",
            "   macro avg       0.82      0.70      0.73      3300\n",
            "weighted avg       0.85      0.86      0.85      3300\n",
            "\n"
          ],
          "name": "stdout"
        }
      ]
    },
    {
      "cell_type": "markdown",
      "metadata": {
        "id": "9LzhSyzr9AXz"
      },
      "source": [
        "For depth 3:\n",
        "train accuracy = 0.8435\n",
        "Test accuracy=0.8475\n",
        "\n",
        "For Depth 9:\n",
        "train accuracy = 0.888625\n",
        "Test accuracy=0.8475\n",
        "\n",
        "For depth 6:\n",
        "train accuracy = 0.860875\n",
        "Test accuracy=0.8595\n",
        "\n",
        "\n"
      ]
    }
  ]
}